{
 "cells": [
  {
   "cell_type": "code",
   "execution_count": 150,
   "metadata": {
    "id": "iv7yGMGDu1C3",
    "tags": []
   },
   "outputs": [
    {
     "name": "stderr",
     "output_type": "stream",
     "text": [
      "[nltk_data] Downloading package punkt to\n",
      "[nltk_data]     C:\\Users\\phoni\\AppData\\Roaming\\nltk_data...\n",
      "[nltk_data]   Package punkt is already up-to-date!\n"
     ]
    }
   ],
   "source": [
    "#Wiroon Siewsirithaworn CID: 276227\n",
    "# Standard library imports\n",
    "import os\n",
    "import random\n",
    "import string\n",
    "\n",
    "# Data handling\n",
    "import pandas as pd\n",
    "import numpy as np\n",
    "\n",
    "# NLP\n",
    "import nltk\n",
    "from nltk.tokenize import word_tokenize\n",
    "nltk.download('punkt')\n",
    "\n",
    "# Visualization\n",
    "import seaborn as sns\n",
    "\n",
    "# Machine Learning\n",
    "from sklearn.feature_extraction.text import CountVectorizer\n",
    "from sklearn.metrics import classification_report\n",
    "from sklearn.naive_bayes import MultinomialNB\n",
    "from sklearn.pipeline import Pipeline\n",
    "from sklearn.linear_model import LogisticRegression\n",
    "from sklearn.metrics import accuracy_score\n",
    "from sklearn.metrics import classification_report, confusion_matrix\n",
    "\n",
    "# Deep Learning - Transformers and PyTorch\n",
    "import torch\n",
    "from torch.optim import Adam\n",
    "import torch.nn as nn\n",
    "import torch.nn.functional as F\n",
    "from transformers import BertModel, BertTokenizer\n",
    "from tqdm import tqdm\n",
    "\n",
    "# Initialization of pre-trained models\n",
    "tokenizer = BertTokenizer.from_pretrained('bert-base-uncased')\n"
   ]
  },
  {
   "cell_type": "code",
   "execution_count": 151,
   "metadata": {
    "tags": []
   },
   "outputs": [],
   "source": [
    "# sns.__version__"
   ]
  },
  {
   "cell_type": "markdown",
   "metadata": {
    "id": "CV1Dt2sDpzRq"
   },
   "source": [
    "## Data preprocessing"
   ]
  },
  {
   "cell_type": "code",
   "execution_count": 153,
   "metadata": {
    "id": "frrYjA5pok1y"
   },
   "outputs": [],
   "source": [
    "f_path = 'propaganda_dataset_v2/'\n",
    "\n",
    "# f_path = '/content/drive/MyDrive/sussex/term02/NLP/coursework/propaganda_dataset_v2'\n",
    "train_f ='propaganda_train.tsv'\n",
    "val_f = 'propaganda_val.tsv'\n",
    "\n",
    "train_path=os.path.join(f_path, train_f)\n",
    "val_path = os.path.join(f_path, val_f)"
   ]
  },
  {
   "cell_type": "code",
   "execution_count": 154,
   "metadata": {
    "id": "rQbD7Ui3Sb9L"
   },
   "outputs": [
    {
     "data": {
      "text/html": [
       "<div>\n",
       "<style scoped>\n",
       "    .dataframe tbody tr th:only-of-type {\n",
       "        vertical-align: middle;\n",
       "    }\n",
       "\n",
       "    .dataframe tbody tr th {\n",
       "        vertical-align: top;\n",
       "    }\n",
       "\n",
       "    .dataframe thead th {\n",
       "        text-align: right;\n",
       "    }\n",
       "</style>\n",
       "<table border=\"1\" class=\"dataframe\">\n",
       "  <thead>\n",
       "    <tr style=\"text-align: right;\">\n",
       "      <th></th>\n",
       "      <th>label</th>\n",
       "      <th>tagged_in_context</th>\n",
       "    </tr>\n",
       "  </thead>\n",
       "  <tbody>\n",
       "    <tr>\n",
       "      <th>0</th>\n",
       "      <td>not_propaganda</td>\n",
       "      <td>No, &lt;BOS&gt; he &lt;EOS&gt; will not be confirmed.</td>\n",
       "    </tr>\n",
       "    <tr>\n",
       "      <th>1</th>\n",
       "      <td>not_propaganda</td>\n",
       "      <td>This declassification effort &lt;BOS&gt; won’t make ...</td>\n",
       "    </tr>\n",
       "    <tr>\n",
       "      <th>2</th>\n",
       "      <td>flag_waving</td>\n",
       "      <td>\"The Obama administration misled the &lt;BOS&gt; Ame...</td>\n",
       "    </tr>\n",
       "    <tr>\n",
       "      <th>3</th>\n",
       "      <td>not_propaganda</td>\n",
       "      <td>“It looks like we’re capturing the demise of t...</td>\n",
       "    </tr>\n",
       "    <tr>\n",
       "      <th>4</th>\n",
       "      <td>not_propaganda</td>\n",
       "      <td>&lt;BOS&gt; Location: Westerville, Ohio &lt;EOS&gt;</td>\n",
       "    </tr>\n",
       "    <tr>\n",
       "      <th>5</th>\n",
       "      <td>loaded_language</td>\n",
       "      <td>Hitler &lt;BOS&gt; annihilated &lt;EOS&gt; 400,000 Germans...</td>\n",
       "    </tr>\n",
       "    <tr>\n",
       "      <th>6</th>\n",
       "      <td>not_propaganda</td>\n",
       "      <td>A federal judge on Monday ordered U.S. immigra...</td>\n",
       "    </tr>\n",
       "    <tr>\n",
       "      <th>7</th>\n",
       "      <td>not_propaganda</td>\n",
       "      <td>&lt;BOS&gt; Kirstjen Nielsen (@SecNielsen) &lt;EOS&gt; Nov...</td>\n",
       "    </tr>\n",
       "    <tr>\n",
       "      <th>8</th>\n",
       "      <td>doubt</td>\n",
       "      <td>As noted above, at this point literally every ...</td>\n",
       "    </tr>\n",
       "    <tr>\n",
       "      <th>9</th>\n",
       "      <td>not_propaganda</td>\n",
       "      <td>Britain doesn't need more hate even just for a...</td>\n",
       "    </tr>\n",
       "  </tbody>\n",
       "</table>\n",
       "</div>"
      ],
      "text/plain": [
       "             label                                  tagged_in_context\n",
       "0   not_propaganda         No, <BOS> he <EOS> will not be confirmed. \n",
       "1   not_propaganda  This declassification effort <BOS> won’t make ...\n",
       "2      flag_waving  \"The Obama administration misled the <BOS> Ame...\n",
       "3   not_propaganda  “It looks like we’re capturing the demise of t...\n",
       "4   not_propaganda           <BOS> Location: Westerville, Ohio <EOS> \n",
       "5  loaded_language  Hitler <BOS> annihilated <EOS> 400,000 Germans...\n",
       "6   not_propaganda  A federal judge on Monday ordered U.S. immigra...\n",
       "7   not_propaganda  <BOS> Kirstjen Nielsen (@SecNielsen) <EOS> Nov...\n",
       "8            doubt  As noted above, at this point literally every ...\n",
       "9   not_propaganda  Britain doesn't need more hate even just for a..."
      ]
     },
     "execution_count": 154,
     "metadata": {},
     "output_type": "execute_result"
    }
   ],
   "source": [
    "train_df=pd.read_csv(train_path,delimiter=\"\\t\",quotechar='|')\n",
    "val_df = pd.read_csv(val_path, delimiter=\"\\t\", quotechar= '|')\n",
    "train_df.head(10)"
   ]
  },
  {
   "cell_type": "code",
   "execution_count": 155,
   "metadata": {
    "id": "zolu1Ci5qGc1"
   },
   "outputs": [
    {
     "data": {
      "text/plain": [
       "(['not_propaganda',\n",
       "  'flag_waving',\n",
       "  'loaded_language',\n",
       "  'doubt',\n",
       "  'name_calling,labeling',\n",
       "  'appeal_to_fear_prejudice',\n",
       "  'repetition',\n",
       "  'causal_oversimplification',\n",
       "  'exaggeration,minimisation'],\n",
       " 9)"
      ]
     },
     "execution_count": 155,
     "metadata": {},
     "output_type": "execute_result"
    }
   ],
   "source": [
    "classes = list(train_df['label'].unique())\n",
    "classes, len(classes)"
   ]
  },
  {
   "cell_type": "code",
   "execution_count": 156,
   "metadata": {
    "tags": []
   },
   "outputs": [],
   "source": [
    "## Helper function"
   ]
  },
  {
   "cell_type": "code",
   "execution_count": 157,
   "metadata": {
    "id": "yGdKG28oCbMi",
    "tags": []
   },
   "outputs": [],
   "source": [
    "def label_data(df_data, class_name='not_propaganda', multi_clf=False, bert_label_bin = False):\n",
    "    \"\"\"\n",
    "    Labels the dataset based on the provided parameters to prepare it for machine learning models.\n",
    "    This function can handle binary and multi-class labeling depending on the `multi_clf` and `bert_label_bin` flags.\n",
    "    \n",
    "    Args:\n",
    "    df_data (DataFrame): Input data frame containing the text data.\n",
    "    class_name (str): The class name for the 'not propaganda' class; used in binary classification.\n",
    "    multi_clf (bool): Indicates if the classification is multi-class.\n",
    "    bert_label_bin (bool): Indicates if the binary classification should be labeled with string names rather than integers.\n",
    "\n",
    "    Returns:\n",
    "    DataFrame or tuple: Modified DataFrame with labels or additionally, dictionaries mapping labels to ids and vice versa if multi-class.\n",
    "    \"\"\"\n",
    "    labelled_data = []\n",
    "    cols = df_data.columns\n",
    "\n",
    "    if multi_clf == False and bert_label_bin == True:\n",
    "        df_data['labelled'] = df_data[cols[0]].apply(lambda x: 'not_propaganda' if x == class_name else 'propaganda')\n",
    "\n",
    "    elif multi_clf == False:\n",
    "    # #not prop\n",
    "        df_data['labelled'] = df_data[cols[0]].apply(lambda x: 0 if x == class_name else 1)\n",
    "\n",
    "\n",
    "    elif multi_clf== True:\n",
    "        label2id = {k : v for v, k in enumerate(list(sorted(df_data[cols[0]].unique())))}\n",
    "        id2label = {v : k for v, k in enumerate(list(sorted(df_data[cols[0]].unique())))}\n",
    "\n",
    "\n",
    "        df_data['labelled'] = df_data.label.map(lambda x: label2id[x.strip()])\n",
    "        return label2id, id2label,df_data\n",
    "\n",
    "    return df_data\n",
    "\n",
    "\n",
    "def extract_st_ed_word(df_t):\n",
    "    \"\"\"\n",
    "    Extracts a specific section of text from a DataFrame based on start and end tags, '<BOS>' and '<EOS>'.\n",
    "\n",
    "    Args:\n",
    "    df_t (DataFrame): DataFrame containing text data with embedded start and end tokens.\n",
    "\n",
    "    Returns:\n",
    "    DataFrame: New DataFrame with the extracted text sections.\n",
    "    \"\"\"\n",
    "    st_token = '<BOS>'\n",
    "    ed_token = '<EOS>'\n",
    "    res = []\n",
    "\n",
    "    for idx, row in df_t.iterrows():\n",
    "        trimmed_string = row[df_t.columns[1]][row[df_t.columns[1]].find(st_token) + len(st_token):row[df_t.columns[1]].find(ed_token)].strip()\n",
    "        res.append((row[df_t.columns[0]], trimmed_string, row[df_t.columns[2]]))\n",
    "\n",
    "    return pd.DataFrame(res, columns =['category', 'tagged_in_context', 'label'])\n",
    "\n",
    "def prepare_inputs(input1,label,device):\n",
    "    \"\"\"\n",
    "    Prepares and sends model inputs and labels to the specified computing device (e.g., CPU, GPU).\n",
    "\n",
    "    Args:\n",
    "    input1 (dict): Dictionary containing 'input_ids' and 'attention_mask' from a tokenizer.\n",
    "    label (Tensor): Tensor containing the labels.\n",
    "    device (torch.device): The device tensors will be sent to.\n",
    "\n",
    "    Returns:\n",
    "    tuple: Tuple containing input ids, masks, and labels, all moved to the specified device.\n",
    "    \"\"\"\n",
    "    label=label.to(device)\n",
    "    mask=input1['attention_mask'].to(device)\n",
    "    input_id=input1['input_ids'].squeeze(1).to(device)\n",
    "    return (input_id,mask,label)\n",
    "\n",
    "def plot_accuracy_comparison(acc1, acc2, Med1, Med2):\n",
    "    \"\"\"\n",
    "    Plots a comparison of accuracy between two methods.\n",
    "\n",
    "    Args:\n",
    "    acc1 (float): Accuracy of the first method.\n",
    "    acc2 (float): Accuracy of the second method.\n",
    "    Med1 (str): Name of the first method.\n",
    "    Med2 (str): Name of the second method.\n",
    "    \"\"\"\n",
    "    # Method names\n",
    "    methods = [Med1, Med2]\n",
    "\n",
    "    # Accuracy values\n",
    "    accuracies = [acc1, acc2]\n",
    "\n",
    "    plt.bar(methods, accuracies, color=['blue', 'green'])\n",
    "\n",
    "    # Adding labels and title\n",
    "    plt.xlabel('Methods')\n",
    "    plt.ylabel('Accuracy')\n",
    "    plt.title('Comparison of Accuracy Between Method 1 and Method 2')\n",
    "\n",
    "    # Displaying the bar graph\n",
    "    plt.ylim(0, 1)  # Setting y-axis limits\n",
    "    plt.show()\n",
    "\n",
    "def plot_heatmap(clf_report, t):\n",
    "    \"\"\"\n",
    "    Plots a heatmap for a classification report.\n",
    "\n",
    "    Args:\n",
    "    clf_report (dict): Classification report as a dictionary.\n",
    "    t (str): Title for the heatmap.\n",
    "    \"\"\"\n",
    "    ax = plt.axes()\n",
    "    sns.heatmap(pd.DataFrame(clf_report).iloc[:-1, :].T, annot=True, ax = ax)\n",
    "    ax.set_title(t)\n",
    "    plt.show()\n",
    "\n",
    "batchsize = 2\n",
    "def evaluate2(model, test_dataset):\n",
    "    \"\"\"\n",
    "    Evaluates a model on a given test dataset, computing predictions and returning a classification report.\n",
    "\n",
    "    Args:\n",
    "    model (nn.Module): The neural network model to be evaluated.\n",
    "    test_dataset (Dataset): The dataset to be tested.\n",
    "\n",
    "    Returns:\n",
    "    dict: Classification report as a dictionary.\n",
    "    \"\"\"\n",
    "    model.eval()\n",
    "    test_dataloader = torch.utils.data.DataLoader(test_dataset, batch_size=batchsize)\n",
    "\n",
    "    use_cuda = torch.cuda.is_available()\n",
    "    device = torch.device(\"cuda\" if use_cuda else \"cpu\")\n",
    "\n",
    "    if use_cuda:\n",
    "        model = model.cuda()\n",
    "\n",
    "    # Lists to store all predictions and labels\n",
    "    all_predictions = []\n",
    "    all_labels = []\n",
    "\n",
    "    with torch.no_grad():\n",
    "        for test_input, test_label in tqdm(test_dataloader):\n",
    "            test_label = test_label.to(device)\n",
    "            mask = test_input['attention_mask'].to(device)\n",
    "            input_id = test_input['input_ids'].squeeze(1).to(device)\n",
    "            output = model(input_id, mask)\n",
    "            predicted_labels = output.argmax(dim=1)\n",
    "\n",
    "            all_predictions.extend(predicted_labels.cpu().numpy())\n",
    "            all_labels.extend(test_label.cpu().numpy())\n",
    "\n",
    "    return classification_report(all_labels, all_predictions, output_dict=True)\n",
    "\n",
    "\n",
    "\n",
    "\n",
    "class Dataset_Multi(torch.utils.data.Dataset):\n",
    "    \"\"\"\n",
    "    A custom PyTorch dataset for handling multi-class text classification data.\n",
    "    \"\"\"\n",
    "\n",
    "    def __init__(self,df,column='tagged_in_context'):\n",
    "        self.labels2=[labels2[l] for l in df['label']]\n",
    "        self.texts=[tokenizer(text.lower(),padding='max_length',max_length=512,truncation=True,return_tensors=\"pt\") for text in df[column]]\n",
    "\n",
    "    def classes(self):\n",
    "        return self.labels2\n",
    "\n",
    "    def __len__(self):\n",
    "        return len(self.labels2)\n",
    "\n",
    "    def get_batch_labels(self,idx):\n",
    "        return np.array(self.labels2[idx])\n",
    "\n",
    "    def get_batch_texts(self,idx):\n",
    "        return self.texts[idx]\n",
    "\n",
    "    def __getitem__(self,idx):\n",
    "        batch_texts=self.get_batch_texts(idx)\n",
    "        batch_y=self.get_batch_labels(idx)\n",
    "\n",
    "        return batch_texts,batch_y\n",
    "\n",
    "\n",
    "class BertMultiClassifier(nn.Module):\n",
    "    \"\"\"\n",
    "    A BERT-based classifier for multi-class text classification.\n",
    "\n",
    "    Inherits from:\n",
    "    nn.Module: Base class for all neural network modules in PyTorch.\n",
    "    \"\"\"\n",
    "\n",
    "    def __init__(self, dropout=0.5, num_classes=8):\n",
    "        super(BertMultiClassifier, self).__init__()\n",
    "        self.bert=BertModel.from_pretrained('bert-base-uncased')\n",
    "        self.dropout=nn.Dropout(dropout)\n",
    "        self.linear=nn.Linear(768,num_classes)\n",
    "        self.relu=nn.ReLU()\n",
    "\n",
    "    def forward(self,input_id,mask):\n",
    "\n",
    "        last_hidden_layer,pooled_output = self.bert(input_ids=input_id,attention_mask=mask,return_dict=False)\n",
    "        pooled_output=self.dropout(pooled_output)\n",
    "        linear_output=self.linear(pooled_output)\n",
    "        final_layer=self.relu(linear_output)\n",
    "        # final_layer = F.Softmax(linear_output)\n",
    "\n",
    "        # return final_layer\n",
    "        return linear_output\n",
    "    \n",
    "def train(model, train_data,val_data,learning_rate,epochs):\n",
    "    \"\"\"\n",
    "    Trains a model given training and validation data, with specified learning rate and number of epochs.\n",
    "\n",
    "    Args:\n",
    "    model (nn.Module): The model to be trained.\n",
    "    train_data (Dataset): The training dataset.\n",
    "    val_data (Dataset): The validation dataset.\n",
    "    learning_rate (float): Learning rate for the optimizer.\n",
    "    epochs (int): Number of epochs to train the model.\n",
    "\n",
    "    Returns:\n",
    "    None: The function is used to train the model and prints the training and validation metrics.\n",
    "    \"\"\"\n",
    "\n",
    "    train_dataloader=torch.utils.data.DataLoader(train_data,batch_size=2,shuffle=True)\n",
    "    val_dataloader=torch.utils.data.DataLoader(test_data,batch_size=2)\n",
    "\n",
    "    use_cuda=torch.cuda.is_available()\n",
    "    device=torch.device(\"cuda\" if use_cuda else \"cpu\")\n",
    "    \n",
    "    criterion = nn.CrossEntropyLoss()\n",
    "    optimizer=Adam(model.parameters(),lr=learning_rate)\n",
    "\n",
    "    if use_cuda:\n",
    "        model=model.cuda()\n",
    "        criterion=criterion.cuda()\n",
    "\n",
    "    for epoch_num in range(epochs):\n",
    "        total_acc_train=0\n",
    "        total_loss_train=0\n",
    "        model.train()\n",
    "        for train_input,train_label in tqdm(train_dataloader):\n",
    "\n",
    "            input_id,mask, train_label=prepare_inputs(train_input,train_label,device)\n",
    "\n",
    "            output=model(input_id,mask)\n",
    "\n",
    "            batch_loss=criterion(output,train_label.long())\n",
    "            total_loss_train +=batch_loss.item()\n",
    "\n",
    "            acc=(output.argmax(dim=1)==train_label).sum().item()\n",
    "            total_acc_train+=acc\n",
    "\n",
    "            model.zero_grad()\n",
    "            batch_loss.backward()\n",
    "            optimizer.step()\n",
    "\n",
    "        total_acc_val=0\n",
    "        total_loss_val=0\n",
    "        model.eval()\n",
    "        with torch.no_grad():\n",
    "            for val_input,val_label in val_dataloader:\n",
    "\n",
    "                input_id,mask, val_label=prepare_inputs(val_input,val_label,device)\n",
    "\n",
    "                output=model(input_id,mask)\n",
    "\n",
    "                batch_loss=criterion(output,val_label.long())\n",
    "\n",
    "                total_loss_val+=batch_loss.item()\n",
    "\n",
    "                acc=(output.argmax(dim=1)==val_label).sum().item()\n",
    "                total_acc_val+=acc\n",
    "\n",
    "        print(f'Epochs: {epoch_num+1} | Train Loss: {total_loss_train / len(train_data):.3f} | Train Accuracy: {total_acc_train/len(train_data):.3f}')\n",
    "        print(f'Val loss: {total_loss_val/len(val_data):.3f} | Val Accuracy: {total_acc_val / len(val_data):.3f}')\n",
    "        \n",
    "        \n",
    "\n",
    "def plot_metrics(data1, data2, t1,t2):\n",
    "    \"\"\"\n",
    "    Plots precision, recall, and F1-score for two different datasets using bar charts for comparison.\n",
    "\n",
    "    Args:\n",
    "    data1 (dict): Dictionary containing the metrics for the first dataset.\n",
    "    data2 (dict): Dictionary containing the metrics for the second dataset.\n",
    "    t1 (str): Title for the first plot.\n",
    "    t2 (str): Title for the second plot.\n",
    "    \"\"\"\n",
    "    # Filter out non-class keys like 'accuracy', 'macro avg', 'weighted avg' for both datasets\n",
    "    class_keys1 = sorted([key for key in data1.keys() if key.isdigit()])\n",
    "    class_keys2 = sorted([key for key in data2.keys() if key.isdigit()])\n",
    "    metrics = ['precision', 'recall', 'f1-score']\n",
    "    \n",
    "    # Check if both datasets have the same classes for consistent comparison\n",
    "    if class_keys1 != class_keys2:\n",
    "        raise ValueError(\"Both data dictionaries must have the same classes.\")\n",
    "    \n",
    "    # Prepare data for plotting\n",
    "    n_groups = len(class_keys1)\n",
    "    index = np.arange(n_groups)  # Arrange group positions\n",
    "    bar_width = 0.25  # Width of the bars\n",
    "    \n",
    "    # Create a figure with two subplots\n",
    "    fig, (ax1, ax2) = plt.subplots(1, 2, figsize=(10, 4), sharey=True)  # Sharing y-axis for comparability\n",
    "    \n",
    "    # Plot each metric for all classes for data1\n",
    "    for i, metric in enumerate(metrics):\n",
    "        performance1 = [data1[key][metric] for key in class_keys1]\n",
    "        ax1.bar(index + i * bar_width, performance1, bar_width, label=metric)\n",
    "    \n",
    "    # Plot each metric for all classes for data2\n",
    "    for i, metric in enumerate(metrics):\n",
    "        performance2 = [data2[key][metric] for key in class_keys2]\n",
    "        ax2.bar(index + i * bar_width, performance2, bar_width, label=metric)\n",
    "\n",
    "    # Label configuration for the first subplot\n",
    "    ax1.set_ylabel('Score')\n",
    "    ax1.set_title(t1)\n",
    "    ax1.set_xticks(index + bar_width)\n",
    "    ax1.set_xticklabels(class_keys1)\n",
    "    ax1.set_ylim(0, 1)  # Assuming score ranges from 0 to 1\n",
    "    ax1.legend()\n",
    "\n",
    "    # Label configuration for the second subplot\n",
    "    ax2.set_title(t2)\n",
    "    ax2.set_xticks(index + bar_width)\n",
    "    ax2.set_xticklabels(class_keys2)\n",
    "    ax2.legend()\n",
    "\n",
    "    plt.tight_layout()\n",
    "    plt.show()\n",
    "    \n",
    "\n",
    "def preprocess_text(text):\n",
    "    \"\"\"\n",
    "    Preprocesses a text string: converts to lowercase, removes punctuation, and tokenizes.\n",
    "\n",
    "    Args:\n",
    "    text (str): The text to preprocess.\n",
    "\n",
    "    Returns:\n",
    "    list: List of tokens.\n",
    "    \"\"\"\n",
    "    text = text.lower()  # convert to lowercase\n",
    "    text = text.translate(str.maketrans('', '', string.punctuation))  # remove punctuation\n",
    "    tokens = word_tokenize(text)  # tokenize\n",
    "    return tokens\n",
    "\n",
    "\n",
    "def document_vector(doc):\n",
    "    \"\"\"\n",
    "    Computes the document vector by averaging the word vectors of the words in the document.\n",
    "\n",
    "    Args:\n",
    "    doc (list): List of words in the document.\n",
    "\n",
    "    Returns:\n",
    "    ndarray: Averaged word vector.\n",
    "    \"\"\"\n",
    "    # ignore out-of-vocabulary words\n",
    "    doc = [word for word in doc if word in w2v_model.wv.index_to_key]\n",
    "    return np.mean(w2v_model.wv[doc], axis=0) if doc else np.zeros(w2v_model.vector_size)\n",
    "\n",
    "\n",
    "\n",
    "def remove_tag(df, tag):\n",
    "    \"\"\"\n",
    "    Removes specified tags from a column in a DataFrame.\n",
    "\n",
    "    Args:\n",
    "    df (DataFrame): The DataFrame to modify.\n",
    "    tag (str): The tag to remove from text.\n",
    "\n",
    "    Returns:\n",
    "    Series: Modified DataFrame column with tags removed.\n",
    "    \"\"\"\n",
    "    df[tag] = df[tag].str.replace('<BOS>','', regex=False)\n",
    "    df[tag] = df[tag].str.replace('<EOS>','', regex=False)\n",
    "    return df[tag]\n"
   ]
  },
  {
   "cell_type": "markdown",
   "metadata": {
    "id": "7a6Dpis3uKDg"
   },
   "source": [
    "## Task 1 : propaganda binary classifier"
   ]
  },
  {
   "cell_type": "markdown",
   "metadata": {
    "id": "JerDEISsuayF"
   },
   "source": [
    "### method 1 : BOW + Naive bayes"
   ]
  },
  {
   "cell_type": "code",
   "execution_count": 160,
   "metadata": {
    "id": "IOaKOo1ntkvE"
   },
   "outputs": [
    {
     "data": {
      "text/html": [
       "<div>\n",
       "<style scoped>\n",
       "    .dataframe tbody tr th:only-of-type {\n",
       "        vertical-align: middle;\n",
       "    }\n",
       "\n",
       "    .dataframe tbody tr th {\n",
       "        vertical-align: top;\n",
       "    }\n",
       "\n",
       "    .dataframe thead th {\n",
       "        text-align: right;\n",
       "    }\n",
       "</style>\n",
       "<table border=\"1\" class=\"dataframe\">\n",
       "  <thead>\n",
       "    <tr style=\"text-align: right;\">\n",
       "      <th></th>\n",
       "      <th>label</th>\n",
       "      <th>tagged_in_context</th>\n",
       "      <th>labelled</th>\n",
       "    </tr>\n",
       "  </thead>\n",
       "  <tbody>\n",
       "    <tr>\n",
       "      <th>0</th>\n",
       "      <td>not_propaganda</td>\n",
       "      <td>No, &lt;BOS&gt; he &lt;EOS&gt; will not be confirmed.</td>\n",
       "      <td>0</td>\n",
       "    </tr>\n",
       "    <tr>\n",
       "      <th>1</th>\n",
       "      <td>not_propaganda</td>\n",
       "      <td>This declassification effort &lt;BOS&gt; won’t make ...</td>\n",
       "      <td>0</td>\n",
       "    </tr>\n",
       "    <tr>\n",
       "      <th>2</th>\n",
       "      <td>flag_waving</td>\n",
       "      <td>\"The Obama administration misled the &lt;BOS&gt; Ame...</td>\n",
       "      <td>1</td>\n",
       "    </tr>\n",
       "    <tr>\n",
       "      <th>3</th>\n",
       "      <td>not_propaganda</td>\n",
       "      <td>“It looks like we’re capturing the demise of t...</td>\n",
       "      <td>0</td>\n",
       "    </tr>\n",
       "    <tr>\n",
       "      <th>4</th>\n",
       "      <td>not_propaganda</td>\n",
       "      <td>&lt;BOS&gt; Location: Westerville, Ohio &lt;EOS&gt;</td>\n",
       "      <td>0</td>\n",
       "    </tr>\n",
       "  </tbody>\n",
       "</table>\n",
       "</div>"
      ],
      "text/plain": [
       "            label                                  tagged_in_context  labelled\n",
       "0  not_propaganda         No, <BOS> he <EOS> will not be confirmed.          0\n",
       "1  not_propaganda  This declassification effort <BOS> won’t make ...         0\n",
       "2     flag_waving  \"The Obama administration misled the <BOS> Ame...         1\n",
       "3  not_propaganda  “It looks like we’re capturing the demise of t...         0\n",
       "4  not_propaganda           <BOS> Location: Westerville, Ohio <EOS>          0"
      ]
     },
     "execution_count": 160,
     "metadata": {},
     "output_type": "execute_result"
    }
   ],
   "source": [
    "#label train data\n",
    "training_data = label_data(train_df, 'not_propaganda')\n",
    "training_data.head()\n",
    "# training_data = extract_st_ed_word(training_data)\n",
    "# training_data.head()"
   ]
  },
  {
   "cell_type": "code",
   "execution_count": 161,
   "metadata": {
    "id": "y1jpii7KuvtY"
   },
   "outputs": [
    {
     "data": {
      "text/html": [
       "<div>\n",
       "<style scoped>\n",
       "    .dataframe tbody tr th:only-of-type {\n",
       "        vertical-align: middle;\n",
       "    }\n",
       "\n",
       "    .dataframe tbody tr th {\n",
       "        vertical-align: top;\n",
       "    }\n",
       "\n",
       "    .dataframe thead th {\n",
       "        text-align: right;\n",
       "    }\n",
       "</style>\n",
       "<table border=\"1\" class=\"dataframe\">\n",
       "  <thead>\n",
       "    <tr style=\"text-align: right;\">\n",
       "      <th></th>\n",
       "      <th>label</th>\n",
       "      <th>tagged_in_context</th>\n",
       "      <th>labelled</th>\n",
       "    </tr>\n",
       "  </thead>\n",
       "  <tbody>\n",
       "    <tr>\n",
       "      <th>0</th>\n",
       "      <td>not_propaganda</td>\n",
       "      <td>On average, between 300 and 600 infections are...</td>\n",
       "      <td>0</td>\n",
       "    </tr>\n",
       "    <tr>\n",
       "      <th>1</th>\n",
       "      <td>causal_oversimplification</td>\n",
       "      <td>Mostly because &lt;BOS&gt; the country would not las...</td>\n",
       "      <td>1</td>\n",
       "    </tr>\n",
       "    <tr>\n",
       "      <th>2</th>\n",
       "      <td>appeal_to_fear_prejudice</td>\n",
       "      <td>Lyndon Johnson &lt;BOS&gt; gets Earl Warren and Sen....</td>\n",
       "      <td>1</td>\n",
       "    </tr>\n",
       "    <tr>\n",
       "      <th>3</th>\n",
       "      <td>not_propaganda</td>\n",
       "      <td>&lt;BOS&gt; You &lt;EOS&gt; may opt out at anytime.</td>\n",
       "      <td>0</td>\n",
       "    </tr>\n",
       "    <tr>\n",
       "      <th>4</th>\n",
       "      <td>repetition</td>\n",
       "      <td>It must be exacted from him directly in order ...</td>\n",
       "      <td>1</td>\n",
       "    </tr>\n",
       "  </tbody>\n",
       "</table>\n",
       "</div>"
      ],
      "text/plain": [
       "                       label  \\\n",
       "0             not_propaganda   \n",
       "1  causal_oversimplification   \n",
       "2   appeal_to_fear_prejudice   \n",
       "3             not_propaganda   \n",
       "4                 repetition   \n",
       "\n",
       "                                   tagged_in_context  labelled  \n",
       "0  On average, between 300 and 600 infections are...         0  \n",
       "1  Mostly because <BOS> the country would not las...         1  \n",
       "2  Lyndon Johnson <BOS> gets Earl Warren and Sen....         1  \n",
       "3           <BOS> You <EOS> may opt out at anytime.          0  \n",
       "4  It must be exacted from him directly in order ...         1  "
      ]
     },
     "execution_count": 161,
     "metadata": {},
     "output_type": "execute_result"
    }
   ],
   "source": [
    "#label test data\n",
    "testing_data = label_data(val_df, 'not_propaganda')\n",
    "# testing_data = extract_st_ed_word(testing_data)\n",
    "testing_data.head()"
   ]
  },
  {
   "cell_type": "code",
   "execution_count": 162,
   "metadata": {
    "tags": []
   },
   "outputs": [],
   "source": [
    "training_data['tagged_in_context'] = remove_tag(training_data, 'tagged_in_context' )\n",
    "testing_data['tagged_in_context'] = remove_tag(testing_data, 'tagged_in_context' )"
   ]
  },
  {
   "cell_type": "code",
   "execution_count": 163,
   "metadata": {
    "tags": []
   },
   "outputs": [
    {
     "data": {
      "text/html": [
       "<div>\n",
       "<style scoped>\n",
       "    .dataframe tbody tr th:only-of-type {\n",
       "        vertical-align: middle;\n",
       "    }\n",
       "\n",
       "    .dataframe tbody tr th {\n",
       "        vertical-align: top;\n",
       "    }\n",
       "\n",
       "    .dataframe thead th {\n",
       "        text-align: right;\n",
       "    }\n",
       "</style>\n",
       "<table border=\"1\" class=\"dataframe\">\n",
       "  <thead>\n",
       "    <tr style=\"text-align: right;\">\n",
       "      <th></th>\n",
       "      <th>label</th>\n",
       "      <th>tagged_in_context</th>\n",
       "      <th>labelled</th>\n",
       "    </tr>\n",
       "  </thead>\n",
       "  <tbody>\n",
       "    <tr>\n",
       "      <th>0</th>\n",
       "      <td>not_propaganda</td>\n",
       "      <td>No,  he  will not be confirmed.</td>\n",
       "      <td>0</td>\n",
       "    </tr>\n",
       "    <tr>\n",
       "      <th>1</th>\n",
       "      <td>not_propaganda</td>\n",
       "      <td>This declassification effort  won’t make thing...</td>\n",
       "      <td>0</td>\n",
       "    </tr>\n",
       "    <tr>\n",
       "      <th>2</th>\n",
       "      <td>flag_waving</td>\n",
       "      <td>\"The Obama administration misled the  American...</td>\n",
       "      <td>1</td>\n",
       "    </tr>\n",
       "    <tr>\n",
       "      <th>3</th>\n",
       "      <td>not_propaganda</td>\n",
       "      <td>“It looks like we’re capturing the demise of t...</td>\n",
       "      <td>0</td>\n",
       "    </tr>\n",
       "    <tr>\n",
       "      <th>4</th>\n",
       "      <td>not_propaganda</td>\n",
       "      <td>Location: Westerville, Ohio</td>\n",
       "      <td>0</td>\n",
       "    </tr>\n",
       "  </tbody>\n",
       "</table>\n",
       "</div>"
      ],
      "text/plain": [
       "            label                                  tagged_in_context  labelled\n",
       "0  not_propaganda                   No,  he  will not be confirmed.          0\n",
       "1  not_propaganda  This declassification effort  won’t make thing...         0\n",
       "2     flag_waving  \"The Obama administration misled the  American...         1\n",
       "3  not_propaganda  “It looks like we’re capturing the demise of t...         0\n",
       "4  not_propaganda                      Location: Westerville, Ohio           0"
      ]
     },
     "execution_count": 163,
     "metadata": {},
     "output_type": "execute_result"
    }
   ],
   "source": [
    "training_data.head()"
   ]
  },
  {
   "cell_type": "code",
   "execution_count": 164,
   "metadata": {
    "id": "U12ehWw6SRmM"
   },
   "outputs": [
    {
     "data": {
      "image/png": "[encoded data removed]",
      "text/plain": [
       "<Figure size 2000x1000 with 2 Axes>"
      ]
     },
     "metadata": {},
     "output_type": "display_data"
    }
   ],
   "source": [
    "import matplotlib.pyplot as plt\n",
    "\n",
    "fig, ax = plt.subplots(1, 2, figsize=(20, 10))\n",
    "\n",
    "training_data_df = pd.DataFrame(training_data, columns=['tagged_in_context', 'labelled'])\n",
    "testing_data_df = pd.DataFrame(testing_data, columns=['tagged_in_context', 'labelled'])\n",
    "\n",
    "training_data_df['labelled'].value_counts().plot(kind='pie', ax=ax[0], autopct='%1.1f%%')\n",
    "ax[0].set_title('Train Data')\n",
    "\n",
    "testing_data_df['labelled'].value_counts().plot(kind='pie', ax=ax[1], autopct='%1.1f%%')\n",
    "ax[1].set_title('Test Data')\n",
    "\n",
    "plt.show()"
   ]
  },
  {
   "cell_type": "code",
   "execution_count": 165,
   "metadata": {
    "id": "Zuekcno6TNdP"
   },
   "outputs": [
    {
     "data": {
      "text/plain": [
       "([('No,  he  will not be confirmed. ', 0),\n",
       "  ('This declassification effort  won’t make things any worse than they are for President Trump.  ', 0),\n",
       "  ('\"The Obama administration misled the  American people  and Congress because they were desperate to get a deal with Iran,\" said Sen. ', 1),\n",
       "  ('“It looks like we’re capturing the demise of this dark vortex,  and  it’s different from what well-known studies led us to expect,” said Michael H. Wong of the University of California at Berkeley says. ', 0),\n",
       "  (' Location: Westerville, Ohio  ', 0)],\n",
       " [('On average, between 300 and 600 infections are recorded every year among a population approaching 25 million people,  according to a UN estimate.  ', 0),\n",
       "  ('Mostly because  the country would not last long without an outside high IQ elite to run the country . ', 1),\n",
       "  ('Lyndon Johnson  gets Earl Warren and Sen. Richard Russel to join the Warren Commission by telling them that the assassination could lead to World War III . ', 1),\n",
       "  (' You  may opt out at anytime. ', 0),\n",
       "  ('It must be exacted from him directly in order to vilify and humiliate him, so that Islam and its people may be exalted and the race of  infidels  brought low. ', 1)])"
      ]
     },
     "execution_count": 165,
     "metadata": {},
     "output_type": "execute_result"
    }
   ],
   "source": [
    "training_dropcat = list(training_data.drop('label', axis = 1).to_records(index=False))\n",
    "testing_dropcat = list(testing_data.drop('label', axis = 1).to_records(index=False))\n",
    "training_dropcat[:5], testing_dropcat[:5]"
   ]
  },
  {
   "cell_type": "code",
   "execution_count": 166,
   "metadata": {
    "id": "rP3MvuTY3ERg"
   },
   "outputs": [
    {
     "data": {
      "text/plain": [
       "(('No,  he  will not be confirmed. ',\n",
       "  'This declassification effort  won’t make things any worse than they are for President Trump.  ',\n",
       "  '\"The Obama administration misled the  American people  and Congress because they were desperate to get a deal with Iran,\" said Sen. ',\n",
       "  '“It looks like we’re capturing the demise of this dark vortex,  and  it’s different from what well-known studies led us to expect,” said Michael H. Wong of the University of California at Berkeley says. ',\n",
       "  ' Location: Westerville, Ohio  '),\n",
       " (0, 0, 1, 0, 0),\n",
       " 2560,\n",
       " 2560)"
      ]
     },
     "execution_count": 166,
     "metadata": {},
     "output_type": "execute_result"
    }
   ],
   "source": [
    "Xsents, Y = zip(*training_dropcat)\n",
    "Xsents[:5], Y[:5],len(Xsents), len(Y)"
   ]
  },
  {
   "cell_type": "code",
   "execution_count": 167,
   "metadata": {
    "id": "8otahH143R4X"
   },
   "outputs": [],
   "source": [
    "vectorizer = CountVectorizer()\n",
    "vectorizer.fit(Xsents)\n",
    "\n",
    "# print(f'vocab{vectorizer.vocabulary_}')\n",
    "\n",
    "Xvectors = vectorizer.transform(Xsents)\n",
    "# print(Xvectors[0]), print(Y)"
   ]
  },
  {
   "cell_type": "code",
   "execution_count": 168,
   "metadata": {
    "id": "m5spCufG3g1m"
   },
   "outputs": [
    {
     "data": {
      "text/html": [
       "<style>#sk-container-id-1 {\n",
       "  /* Definition of color scheme common for light and dark mode */\n",
       "  --sklearn-color-text: black;\n",
       "  --sklearn-color-line: gray;\n",
       "  /* Definition of color scheme for unfitted estimators */\n",
       "  --sklearn-color-unfitted-level-0: #fff5e6;\n",
       "  --sklearn-color-unfitted-level-1: #f6e4d2;\n",
       "  --sklearn-color-unfitted-level-2: #ffe0b3;\n",
       "  --sklearn-color-unfitted-level-3: chocolate;\n",
       "  /* Definition of color scheme for fitted estimators */\n",
       "  --sklearn-color-fitted-level-0: #f0f8ff;\n",
       "  --sklearn-color-fitted-level-1: #d4ebff;\n",
       "  --sklearn-color-fitted-level-2: #b3dbfd;\n",
       "  --sklearn-color-fitted-level-3: cornflowerblue;\n",
       "\n",
       "  /* Specific color for light theme */\n",
       "  --sklearn-color-text-on-default-background: var(--sg-text-color, var(--theme-code-foreground, var(--jp-content-font-color1, black)));\n",
       "  --sklearn-color-background: var(--sg-background-color, var(--theme-background, var(--jp-layout-color0, white)));\n",
       "  --sklearn-color-border-box: var(--sg-text-color, var(--theme-code-foreground, var(--jp-content-font-color1, black)));\n",
       "  --sklearn-color-icon: #696969;\n",
       "\n",
       "  @media (prefers-color-scheme: dark) {\n",
       "    /* Redefinition of color scheme for dark theme */\n",
       "    --sklearn-color-text-on-default-background: var(--sg-text-color, var(--theme-code-foreground, var(--jp-content-font-color1, white)));\n",
       "    --sklearn-color-background: var(--sg-background-color, var(--theme-background, var(--jp-layout-color0, #111)));\n",
       "    --sklearn-color-border-box: var(--sg-text-color, var(--theme-code-foreground, var(--jp-content-font-color1, white)));\n",
       "    --sklearn-color-icon: #878787;\n",
       "  }\n",
       "}\n",
       "\n",
       "#sk-container-id-1 {\n",
       "  color: var(--sklearn-color-text);\n",
       "}\n",
       "\n",
       "#sk-container-id-1 pre {\n",
       "  padding: 0;\n",
       "}\n",
       "\n",
       "#sk-container-id-1 input.sk-hidden--visually {\n",
       "  border: 0;\n",
       "  clip: rect(1px 1px 1px 1px);\n",
       "  clip: rect(1px, 1px, 1px, 1px);\n",
       "  height: 1px;\n",
       "  margin: -1px;\n",
       "  overflow: hidden;\n",
       "  padding: 0;\n",
       "  position: absolute;\n",
       "  width: 1px;\n",
       "}\n",
       "\n",
       "#sk-container-id-1 div.sk-dashed-wrapped {\n",
       "  border: 1px dashed var(--sklearn-color-line);\n",
       "  margin: 0 0.4em 0.5em 0.4em;\n",
       "  box-sizing: border-box;\n",
       "  padding-bottom: 0.4em;\n",
       "  background-color: var(--sklearn-color-background);\n",
       "}\n",
       "\n",
       "#sk-container-id-1 div.sk-container {\n",
       "  /* jupyter's `normalize.less` sets `[hidden] { display: none; }`\n",
       "     but bootstrap.min.css set `[hidden] { display: none !important; }`\n",
       "     so we also need the `!important` here to be able to override the\n",
       "     default hidden behavior on the sphinx rendered scikit-learn.org.\n",
       "     See: https://github.com/scikit-learn/scikit-learn/issues/21755 */\n",
       "  display: inline-block !important;\n",
       "  position: relative;\n",
       "}\n",
       "\n",
       "#sk-container-id-1 div.sk-text-repr-fallback {\n",
       "  display: none;\n",
       "}\n",
       "\n",
       "div.sk-parallel-item,\n",
       "div.sk-serial,\n",
       "div.sk-item {\n",
       "  /* draw centered vertical line to link estimators */\n",
       "  background-image: linear-gradient(var(--sklearn-color-text-on-default-background), var(--sklearn-color-text-on-default-background));\n",
       "  background-size: 2px 100%;\n",
       "  background-repeat: no-repeat;\n",
       "  background-position: center center;\n",
       "}\n",
       "\n",
       "/* Parallel-specific style estimator block */\n",
       "\n",
       "#sk-container-id-1 div.sk-parallel-item::after {\n",
       "  content: \"\";\n",
       "  width: 100%;\n",
       "  border-bottom: 2px solid var(--sklearn-color-text-on-default-background);\n",
       "  flex-grow: 1;\n",
       "}\n",
       "\n",
       "#sk-container-id-1 div.sk-parallel {\n",
       "  display: flex;\n",
       "  align-items: stretch;\n",
       "  justify-content: center;\n",
       "  background-color: var(--sklearn-color-background);\n",
       "  position: relative;\n",
       "}\n",
       "\n",
       "#sk-container-id-1 div.sk-parallel-item {\n",
       "  display: flex;\n",
       "  flex-direction: column;\n",
       "}\n",
       "\n",
       "#sk-container-id-1 div.sk-parallel-item:first-child::after {\n",
       "  align-self: flex-end;\n",
       "  width: 50%;\n",
       "}\n",
       "\n",
       "#sk-container-id-1 div.sk-parallel-item:last-child::after {\n",
       "  align-self: flex-start;\n",
       "  width: 50%;\n",
       "}\n",
       "\n",
       "#sk-container-id-1 div.sk-parallel-item:only-child::after {\n",
       "  width: 0;\n",
       "}\n",
       "\n",
       "/* Serial-specific style estimator block */\n",
       "\n",
       "#sk-container-id-1 div.sk-serial {\n",
       "  display: flex;\n",
       "  flex-direction: column;\n",
       "  align-items: center;\n",
       "  background-color: var(--sklearn-color-background);\n",
       "  padding-right: 1em;\n",
       "  padding-left: 1em;\n",
       "}\n",
       "\n",
       "\n",
       "/* Toggleable style: style used for estimator/Pipeline/ColumnTransformer box that is\n",
       "clickable and can be expanded/collapsed.\n",
       "- Pipeline and ColumnTransformer use this feature and define the default style\n",
       "- Estimators will overwrite some part of the style using the `sk-estimator` class\n",
       "*/\n",
       "\n",
       "/* Pipeline and ColumnTransformer style (default) */\n",
       "\n",
       "#sk-container-id-1 div.sk-toggleable {\n",
       "  /* Default theme specific background. It is overwritten whether we have a\n",
       "  specific estimator or a Pipeline/ColumnTransformer */\n",
       "  background-color: var(--sklearn-color-background);\n",
       "}\n",
       "\n",
       "/* Toggleable label */\n",
       "#sk-container-id-1 label.sk-toggleable__label {\n",
       "  cursor: pointer;\n",
       "  display: block;\n",
       "  width: 100%;\n",
       "  margin-bottom: 0;\n",
       "  padding: 0.5em;\n",
       "  box-sizing: border-box;\n",
       "  text-align: center;\n",
       "}\n",
       "\n",
       "#sk-container-id-1 label.sk-toggleable__label-arrow:before {\n",
       "  /* Arrow on the left of the label */\n",
       "  content: \"▸\";\n",
       "  float: left;\n",
       "  margin-right: 0.25em;\n",
       "  color: var(--sklearn-color-icon);\n",
       "}\n",
       "\n",
       "#sk-container-id-1 label.sk-toggleable__label-arrow:hover:before {\n",
       "  color: var(--sklearn-color-text);\n",
       "}\n",
       "\n",
       "/* Toggleable content - dropdown */\n",
       "\n",
       "#sk-container-id-1 div.sk-toggleable__content {\n",
       "  max-height: 0;\n",
       "  max-width: 0;\n",
       "  overflow: hidden;\n",
       "  text-align: left;\n",
       "  /* unfitted */\n",
       "  background-color: var(--sklearn-color-unfitted-level-0);\n",
       "}\n",
       "\n",
       "#sk-container-id-1 div.sk-toggleable__content.fitted {\n",
       "  /* fitted */\n",
       "  background-color: var(--sklearn-color-fitted-level-0);\n",
       "}\n",
       "\n",
       "#sk-container-id-1 div.sk-toggleable__content pre {\n",
       "  margin: 0.2em;\n",
       "  border-radius: 0.25em;\n",
       "  color: var(--sklearn-color-text);\n",
       "  /* unfitted */\n",
       "  background-color: var(--sklearn-color-unfitted-level-0);\n",
       "}\n",
       "\n",
       "#sk-container-id-1 div.sk-toggleable__content.fitted pre {\n",
       "  /* unfitted */\n",
       "  background-color: var(--sklearn-color-fitted-level-0);\n",
       "}\n",
       "\n",
       "#sk-container-id-1 input.sk-toggleable__control:checked~div.sk-toggleable__content {\n",
       "  /* Expand drop-down */\n",
       "  max-height: 200px;\n",
       "  max-width: 100%;\n",
       "  overflow: auto;\n",
       "}\n",
       "\n",
       "#sk-container-id-1 input.sk-toggleable__control:checked~label.sk-toggleable__label-arrow:before {\n",
       "  content: \"▾\";\n",
       "}\n",
       "\n",
       "/* Pipeline/ColumnTransformer-specific style */\n",
       "\n",
       "#sk-container-id-1 div.sk-label input.sk-toggleable__control:checked~label.sk-toggleable__label {\n",
       "  color: var(--sklearn-color-text);\n",
       "  background-color: var(--sklearn-color-unfitted-level-2);\n",
       "}\n",
       "\n",
       "#sk-container-id-1 div.sk-label.fitted input.sk-toggleable__control:checked~label.sk-toggleable__label {\n",
       "  background-color: var(--sklearn-color-fitted-level-2);\n",
       "}\n",
       "\n",
       "/* Estimator-specific style */\n",
       "\n",
       "/* Colorize estimator box */\n",
       "#sk-container-id-1 div.sk-estimator input.sk-toggleable__control:checked~label.sk-toggleable__label {\n",
       "  /* unfitted */\n",
       "  background-color: var(--sklearn-color-unfitted-level-2);\n",
       "}\n",
       "\n",
       "#sk-container-id-1 div.sk-estimator.fitted input.sk-toggleable__control:checked~label.sk-toggleable__label {\n",
       "  /* fitted */\n",
       "  background-color: var(--sklearn-color-fitted-level-2);\n",
       "}\n",
       "\n",
       "#sk-container-id-1 div.sk-label label.sk-toggleable__label,\n",
       "#sk-container-id-1 div.sk-label label {\n",
       "  /* The background is the default theme color */\n",
       "  color: var(--sklearn-color-text-on-default-background);\n",
       "}\n",
       "\n",
       "/* On hover, darken the color of the background */\n",
       "#sk-container-id-1 div.sk-label:hover label.sk-toggleable__label {\n",
       "  color: var(--sklearn-color-text);\n",
       "  background-color: var(--sklearn-color-unfitted-level-2);\n",
       "}\n",
       "\n",
       "/* Label box, darken color on hover, fitted */\n",
       "#sk-container-id-1 div.sk-label.fitted:hover label.sk-toggleable__label.fitted {\n",
       "  color: var(--sklearn-color-text);\n",
       "  background-color: var(--sklearn-color-fitted-level-2);\n",
       "}\n",
       "\n",
       "/* Estimator label */\n",
       "\n",
       "#sk-container-id-1 div.sk-label label {\n",
       "  font-family: monospace;\n",
       "  font-weight: bold;\n",
       "  display: inline-block;\n",
       "  line-height: 1.2em;\n",
       "}\n",
       "\n",
       "#sk-container-id-1 div.sk-label-container {\n",
       "  text-align: center;\n",
       "}\n",
       "\n",
       "/* Estimator-specific */\n",
       "#sk-container-id-1 div.sk-estimator {\n",
       "  font-family: monospace;\n",
       "  border: 1px dotted var(--sklearn-color-border-box);\n",
       "  border-radius: 0.25em;\n",
       "  box-sizing: border-box;\n",
       "  margin-bottom: 0.5em;\n",
       "  /* unfitted */\n",
       "  background-color: var(--sklearn-color-unfitted-level-0);\n",
       "}\n",
       "\n",
       "#sk-container-id-1 div.sk-estimator.fitted {\n",
       "  /* fitted */\n",
       "  background-color: var(--sklearn-color-fitted-level-0);\n",
       "}\n",
       "\n",
       "/* on hover */\n",
       "#sk-container-id-1 div.sk-estimator:hover {\n",
       "  /* unfitted */\n",
       "  background-color: var(--sklearn-color-unfitted-level-2);\n",
       "}\n",
       "\n",
       "#sk-container-id-1 div.sk-estimator.fitted:hover {\n",
       "  /* fitted */\n",
       "  background-color: var(--sklearn-color-fitted-level-2);\n",
       "}\n",
       "\n",
       "/* Specification for estimator info (e.g. \"i\" and \"?\") */\n",
       "\n",
       "/* Common style for \"i\" and \"?\" */\n",
       "\n",
       ".sk-estimator-doc-link,\n",
       "a:link.sk-estimator-doc-link,\n",
       "a:visited.sk-estimator-doc-link {\n",
       "  float: right;\n",
       "  font-size: smaller;\n",
       "  line-height: 1em;\n",
       "  font-family: monospace;\n",
       "  background-color: var(--sklearn-color-background);\n",
       "  border-radius: 1em;\n",
       "  height: 1em;\n",
       "  width: 1em;\n",
       "  text-decoration: none !important;\n",
       "  margin-left: 1ex;\n",
       "  /* unfitted */\n",
       "  border: var(--sklearn-color-unfitted-level-1) 1pt solid;\n",
       "  color: var(--sklearn-color-unfitted-level-1);\n",
       "}\n",
       "\n",
       ".sk-estimator-doc-link.fitted,\n",
       "a:link.sk-estimator-doc-link.fitted,\n",
       "a:visited.sk-estimator-doc-link.fitted {\n",
       "  /* fitted */\n",
       "  border: var(--sklearn-color-fitted-level-1) 1pt solid;\n",
       "  color: var(--sklearn-color-fitted-level-1);\n",
       "}\n",
       "\n",
       "/* On hover */\n",
       "div.sk-estimator:hover .sk-estimator-doc-link:hover,\n",
       ".sk-estimator-doc-link:hover,\n",
       "div.sk-label-container:hover .sk-estimator-doc-link:hover,\n",
       ".sk-estimator-doc-link:hover {\n",
       "  /* unfitted */\n",
       "  background-color: var(--sklearn-color-unfitted-level-3);\n",
       "  color: var(--sklearn-color-background);\n",
       "  text-decoration: none;\n",
       "}\n",
       "\n",
       "div.sk-estimator.fitted:hover .sk-estimator-doc-link.fitted:hover,\n",
       ".sk-estimator-doc-link.fitted:hover,\n",
       "div.sk-label-container:hover .sk-estimator-doc-link.fitted:hover,\n",
       ".sk-estimator-doc-link.fitted:hover {\n",
       "  /* fitted */\n",
       "  background-color: var(--sklearn-color-fitted-level-3);\n",
       "  color: var(--sklearn-color-background);\n",
       "  text-decoration: none;\n",
       "}\n",
       "\n",
       "/* Span, style for the box shown on hovering the info icon */\n",
       ".sk-estimator-doc-link span {\n",
       "  display: none;\n",
       "  z-index: 9999;\n",
       "  position: relative;\n",
       "  font-weight: normal;\n",
       "  right: .2ex;\n",
       "  padding: .5ex;\n",
       "  margin: .5ex;\n",
       "  width: min-content;\n",
       "  min-width: 20ex;\n",
       "  max-width: 50ex;\n",
       "  color: var(--sklearn-color-text);\n",
       "  box-shadow: 2pt 2pt 4pt #999;\n",
       "  /* unfitted */\n",
       "  background: var(--sklearn-color-unfitted-level-0);\n",
       "  border: .5pt solid var(--sklearn-color-unfitted-level-3);\n",
       "}\n",
       "\n",
       ".sk-estimator-doc-link.fitted span {\n",
       "  /* fitted */\n",
       "  background: var(--sklearn-color-fitted-level-0);\n",
       "  border: var(--sklearn-color-fitted-level-3);\n",
       "}\n",
       "\n",
       ".sk-estimator-doc-link:hover span {\n",
       "  display: block;\n",
       "}\n",
       "\n",
       "/* \"?\"-specific style due to the `<a>` HTML tag */\n",
       "\n",
       "#sk-container-id-1 a.estimator_doc_link {\n",
       "  float: right;\n",
       "  font-size: 1rem;\n",
       "  line-height: 1em;\n",
       "  font-family: monospace;\n",
       "  background-color: var(--sklearn-color-background);\n",
       "  border-radius: 1rem;\n",
       "  height: 1rem;\n",
       "  width: 1rem;\n",
       "  text-decoration: none;\n",
       "  /* unfitted */\n",
       "  color: var(--sklearn-color-unfitted-level-1);\n",
       "  border: var(--sklearn-color-unfitted-level-1) 1pt solid;\n",
       "}\n",
       "\n",
       "#sk-container-id-1 a.estimator_doc_link.fitted {\n",
       "  /* fitted */\n",
       "  border: var(--sklearn-color-fitted-level-1) 1pt solid;\n",
       "  color: var(--sklearn-color-fitted-level-1);\n",
       "}\n",
       "\n",
       "/* On hover */\n",
       "#sk-container-id-1 a.estimator_doc_link:hover {\n",
       "  /* unfitted */\n",
       "  background-color: var(--sklearn-color-unfitted-level-3);\n",
       "  color: var(--sklearn-color-background);\n",
       "  text-decoration: none;\n",
       "}\n",
       "\n",
       "#sk-container-id-1 a.estimator_doc_link.fitted:hover {\n",
       "  /* fitted */\n",
       "  background-color: var(--sklearn-color-fitted-level-3);\n",
       "}\n",
       "</style><div id=\"sk-container-id-1\" class=\"sk-top-container\"><div class=\"sk-text-repr-fallback\"><pre>MultinomialNB()</pre><b>In a Jupyter environment, please rerun this cell to show the HTML representation or trust the notebook. <br />On GitHub, the HTML representation is unable to render, please try loading this page with nbviewer.org.</b></div><div class=\"sk-container\" hidden><div class=\"sk-item\"><div class=\"sk-estimator fitted sk-toggleable\"><input class=\"sk-toggleable__control sk-hidden--visually\" id=\"sk-estimator-id-1\" type=\"checkbox\" checked><label for=\"sk-estimator-id-1\" class=\"sk-toggleable__label fitted sk-toggleable__label-arrow fitted\">&nbsp;&nbsp;MultinomialNB<a class=\"sk-estimator-doc-link fitted\" rel=\"noreferrer\" target=\"_blank\" href=\"https://scikit-learn.org/1.4/modules/generated/sklearn.naive_bayes.MultinomialNB.html\">?<span>Documentation for MultinomialNB</span></a><span class=\"sk-estimator-doc-link fitted\">i<span>Fitted</span></span></label><div class=\"sk-toggleable__content fitted\"><pre>MultinomialNB()</pre></div> </div></div></div></div>"
      ],
      "text/plain": [
       "MultinomialNB()"
      ]
     },
     "execution_count": 168,
     "metadata": {},
     "output_type": "execute_result"
    }
   ],
   "source": [
    "clf = MultinomialNB()\n",
    "clf.fit(Xvectors, Y)"
   ]
  },
  {
   "cell_type": "code",
   "execution_count": 169,
   "metadata": {
    "id": "hjIcxAvN4CZv"
   },
   "outputs": [],
   "source": [
    "Xsents_test, Y_test = zip(*testing_dropcat)\n",
    "testVectors = vectorizer.transform(Xsents_test)"
   ]
  },
  {
   "cell_type": "code",
   "execution_count": 170,
   "metadata": {
    "id": "TpqJ-k1FRZPf"
   },
   "outputs": [
    {
     "data": {
      "text/plain": [
       "('On average, between 300 and 600 infections are recorded every year among a population approaching 25 million people,  according to a UN estimate.  ',\n",
       " 'Mostly because  the country would not last long without an outside high IQ elite to run the country . ',\n",
       " 'Lyndon Johnson  gets Earl Warren and Sen. Richard Russel to join the Warren Commission by telling them that the assassination could lead to World War III . ',\n",
       " ' You  may opt out at anytime. ',\n",
       " 'It must be exacted from him directly in order to vilify and humiliate him, so that Islam and its people may be exalted and the race of  infidels  brought low. ')"
      ]
     },
     "execution_count": 170,
     "metadata": {},
     "output_type": "execute_result"
    }
   ],
   "source": [
    "Xsents_test[:5]"
   ]
  },
  {
   "cell_type": "code",
   "execution_count": 171,
   "metadata": {
    "id": "aZwW6nvRJT6I"
   },
   "outputs": [],
   "source": [
    "pipeline = Pipeline([\n",
    "    ('vect', CountVectorizer()),\n",
    "    ('clf', MultinomialNB())\n",
    "])"
   ]
  },
  {
   "cell_type": "code",
   "execution_count": 172,
   "metadata": {
    "id": "-0DMlvNKUNFg"
   },
   "outputs": [],
   "source": [
    "pipeline.fit(Xsents, Y)\n",
    "y_pred = pipeline.predict(Xsents_test)"
   ]
  },
  {
   "cell_type": "code",
   "execution_count": 173,
   "metadata": {
    "id": "zkKyOGyAVG59"
   },
   "outputs": [],
   "source": [
    "report_nb_bin_clf = classification_report(Y_test, y_pred, output_dict= True)"
   ]
  },
  {
   "cell_type": "code",
   "execution_count": 174,
   "metadata": {
    "tags": []
   },
   "outputs": [
    {
     "data": {
      "image/png": "[encoded data removed]",
      "text/plain": [
       "<Figure size 640x480 with 2 Axes>"
      ]
     },
     "metadata": {},
     "output_type": "display_data"
    }
   ],
   "source": [
    "plot_heatmap(report_nb_bin_clf, 'naive bayes binary classification')"
   ]
  },
  {
   "cell_type": "markdown",
   "metadata": {
    "id": "_z38XPU_T-M-"
   },
   "source": [
    "### method 2 BERT"
   ]
  },
  {
   "cell_type": "code",
   "execution_count": 176,
   "metadata": {
    "tags": []
   },
   "outputs": [
    {
     "data": {
      "text/html": [
       "<div>\n",
       "<style scoped>\n",
       "    .dataframe tbody tr th:only-of-type {\n",
       "        vertical-align: middle;\n",
       "    }\n",
       "\n",
       "    .dataframe tbody tr th {\n",
       "        vertical-align: top;\n",
       "    }\n",
       "\n",
       "    .dataframe thead th {\n",
       "        text-align: right;\n",
       "    }\n",
       "</style>\n",
       "<table border=\"1\" class=\"dataframe\">\n",
       "  <thead>\n",
       "    <tr style=\"text-align: right;\">\n",
       "      <th></th>\n",
       "      <th>tagged_in_context</th>\n",
       "      <th>labelled</th>\n",
       "    </tr>\n",
       "  </thead>\n",
       "  <tbody>\n",
       "    <tr>\n",
       "      <th>0</th>\n",
       "      <td>No,  he  will not be confirmed.</td>\n",
       "      <td>0</td>\n",
       "    </tr>\n",
       "    <tr>\n",
       "      <th>1</th>\n",
       "      <td>This declassification effort  won’t make thing...</td>\n",
       "      <td>0</td>\n",
       "    </tr>\n",
       "    <tr>\n",
       "      <th>2</th>\n",
       "      <td>\"The Obama administration misled the  American...</td>\n",
       "      <td>1</td>\n",
       "    </tr>\n",
       "    <tr>\n",
       "      <th>3</th>\n",
       "      <td>“It looks like we’re capturing the demise of t...</td>\n",
       "      <td>0</td>\n",
       "    </tr>\n",
       "    <tr>\n",
       "      <th>4</th>\n",
       "      <td>Location: Westerville, Ohio</td>\n",
       "      <td>0</td>\n",
       "    </tr>\n",
       "  </tbody>\n",
       "</table>\n",
       "</div>"
      ],
      "text/plain": [
       "                                   tagged_in_context  labelled\n",
       "0                   No,  he  will not be confirmed.          0\n",
       "1  This declassification effort  won’t make thing...         0\n",
       "2  \"The Obama administration misled the  American...         1\n",
       "3  “It looks like we’re capturing the demise of t...         0\n",
       "4                      Location: Westerville, Ohio           0"
      ]
     },
     "execution_count": 176,
     "metadata": {},
     "output_type": "execute_result"
    }
   ],
   "source": [
    "training_data_df.head()"
   ]
  },
  {
   "cell_type": "code",
   "execution_count": 177,
   "metadata": {
    "id": "htkhUQ2ruS0Y"
   },
   "outputs": [
    {
     "data": {
      "text/html": [
       "<div>\n",
       "<style scoped>\n",
       "    .dataframe tbody tr th:only-of-type {\n",
       "        vertical-align: middle;\n",
       "    }\n",
       "\n",
       "    .dataframe tbody tr th {\n",
       "        vertical-align: top;\n",
       "    }\n",
       "\n",
       "    .dataframe thead th {\n",
       "        text-align: right;\n",
       "    }\n",
       "</style>\n",
       "<table border=\"1\" class=\"dataframe\">\n",
       "  <thead>\n",
       "    <tr style=\"text-align: right;\">\n",
       "      <th></th>\n",
       "      <th>tagged_in_context</th>\n",
       "      <th>labelled</th>\n",
       "    </tr>\n",
       "  </thead>\n",
       "  <tbody>\n",
       "    <tr>\n",
       "      <th>0</th>\n",
       "      <td>No,  he  will not be confirmed.</td>\n",
       "      <td>not_propaganda</td>\n",
       "    </tr>\n",
       "    <tr>\n",
       "      <th>1</th>\n",
       "      <td>This declassification effort  won’t make thing...</td>\n",
       "      <td>not_propaganda</td>\n",
       "    </tr>\n",
       "    <tr>\n",
       "      <th>2</th>\n",
       "      <td>\"The Obama administration misled the  American...</td>\n",
       "      <td>propaganda</td>\n",
       "    </tr>\n",
       "    <tr>\n",
       "      <th>3</th>\n",
       "      <td>“It looks like we’re capturing the demise of t...</td>\n",
       "      <td>not_propaganda</td>\n",
       "    </tr>\n",
       "    <tr>\n",
       "      <th>4</th>\n",
       "      <td>Location: Westerville, Ohio</td>\n",
       "      <td>not_propaganda</td>\n",
       "    </tr>\n",
       "  </tbody>\n",
       "</table>\n",
       "</div>"
      ],
      "text/plain": [
       "                                   tagged_in_context        labelled\n",
       "0                   No,  he  will not be confirmed.   not_propaganda\n",
       "1  This declassification effort  won’t make thing...  not_propaganda\n",
       "2  \"The Obama administration misled the  American...      propaganda\n",
       "3  “It looks like we’re capturing the demise of t...  not_propaganda\n",
       "4                      Location: Westerville, Ohio    not_propaganda"
      ]
     },
     "execution_count": 177,
     "metadata": {},
     "output_type": "execute_result"
    }
   ],
   "source": [
    "training_data_df = label_data(train_df, 'not_propaganda', bert_label_bin=True)\n",
    "# training_data_df = extract_st_ed_word(training_data_df)\n",
    "training_data_df = training_data_df.drop('label', axis = 1)\n",
    "training_data_df.head()"
   ]
  },
  {
   "cell_type": "code",
   "execution_count": 178,
   "metadata": {
    "id": "ydaO_xNItaAZ"
   },
   "outputs": [
    {
     "data": {
      "text/html": [
       "<div>\n",
       "<style scoped>\n",
       "    .dataframe tbody tr th:only-of-type {\n",
       "        vertical-align: middle;\n",
       "    }\n",
       "\n",
       "    .dataframe tbody tr th {\n",
       "        vertical-align: top;\n",
       "    }\n",
       "\n",
       "    .dataframe thead th {\n",
       "        text-align: right;\n",
       "    }\n",
       "</style>\n",
       "<table border=\"1\" class=\"dataframe\">\n",
       "  <thead>\n",
       "    <tr style=\"text-align: right;\">\n",
       "      <th></th>\n",
       "      <th>tagged_in_context</th>\n",
       "      <th>labelled</th>\n",
       "    </tr>\n",
       "  </thead>\n",
       "  <tbody>\n",
       "    <tr>\n",
       "      <th>0</th>\n",
       "      <td>On average, between 300 and 600 infections are...</td>\n",
       "      <td>not_propaganda</td>\n",
       "    </tr>\n",
       "    <tr>\n",
       "      <th>1</th>\n",
       "      <td>Mostly because  the country would not last lon...</td>\n",
       "      <td>propaganda</td>\n",
       "    </tr>\n",
       "    <tr>\n",
       "      <th>2</th>\n",
       "      <td>Lyndon Johnson  gets Earl Warren and Sen. Rich...</td>\n",
       "      <td>propaganda</td>\n",
       "    </tr>\n",
       "    <tr>\n",
       "      <th>3</th>\n",
       "      <td>You  may opt out at anytime.</td>\n",
       "      <td>not_propaganda</td>\n",
       "    </tr>\n",
       "    <tr>\n",
       "      <th>4</th>\n",
       "      <td>It must be exacted from him directly in order ...</td>\n",
       "      <td>propaganda</td>\n",
       "    </tr>\n",
       "  </tbody>\n",
       "</table>\n",
       "</div>"
      ],
      "text/plain": [
       "                                   tagged_in_context        labelled\n",
       "0  On average, between 300 and 600 infections are...  not_propaganda\n",
       "1  Mostly because  the country would not last lon...      propaganda\n",
       "2  Lyndon Johnson  gets Earl Warren and Sen. Rich...      propaganda\n",
       "3                      You  may opt out at anytime.   not_propaganda\n",
       "4  It must be exacted from him directly in order ...      propaganda"
      ]
     },
     "execution_count": 178,
     "metadata": {},
     "output_type": "execute_result"
    }
   ],
   "source": [
    "testing_data_df = label_data(val_df, 'not_propaganda', bert_label_bin=True)\n",
    "# testing_data_df = extract_st_ed_word(testing_data_df)\n",
    "testing_data_df = testing_data_df.drop('label', axis = 1)\n",
    "testing_data_df.head()"
   ]
  },
  {
   "cell_type": "code",
   "execution_count": 179,
   "metadata": {
    "tags": []
   },
   "outputs": [],
   "source": [
    "training_data_df['tagged_in_context'] = remove_tag(training_data_df, 'tagged_in_context' )\n",
    "testing_data_df['tagged_in_context'] = remove_tag(testing_data_df, 'tagged_in_context' )"
   ]
  },
  {
   "cell_type": "code",
   "execution_count": 180,
   "metadata": {
    "tags": []
   },
   "outputs": [
    {
     "data": {
      "text/html": [
       "<div>\n",
       "<style scoped>\n",
       "    .dataframe tbody tr th:only-of-type {\n",
       "        vertical-align: middle;\n",
       "    }\n",
       "\n",
       "    .dataframe tbody tr th {\n",
       "        vertical-align: top;\n",
       "    }\n",
       "\n",
       "    .dataframe thead th {\n",
       "        text-align: right;\n",
       "    }\n",
       "</style>\n",
       "<table border=\"1\" class=\"dataframe\">\n",
       "  <thead>\n",
       "    <tr style=\"text-align: right;\">\n",
       "      <th></th>\n",
       "      <th>tagged_in_context</th>\n",
       "      <th>labelled</th>\n",
       "    </tr>\n",
       "  </thead>\n",
       "  <tbody>\n",
       "    <tr>\n",
       "      <th>0</th>\n",
       "      <td>No,  he  will not be confirmed.</td>\n",
       "      <td>not_propaganda</td>\n",
       "    </tr>\n",
       "    <tr>\n",
       "      <th>1</th>\n",
       "      <td>This declassification effort  won’t make thing...</td>\n",
       "      <td>not_propaganda</td>\n",
       "    </tr>\n",
       "    <tr>\n",
       "      <th>2</th>\n",
       "      <td>\"The Obama administration misled the  American...</td>\n",
       "      <td>propaganda</td>\n",
       "    </tr>\n",
       "    <tr>\n",
       "      <th>3</th>\n",
       "      <td>“It looks like we’re capturing the demise of t...</td>\n",
       "      <td>not_propaganda</td>\n",
       "    </tr>\n",
       "    <tr>\n",
       "      <th>4</th>\n",
       "      <td>Location: Westerville, Ohio</td>\n",
       "      <td>not_propaganda</td>\n",
       "    </tr>\n",
       "    <tr>\n",
       "      <th>...</th>\n",
       "      <td>...</td>\n",
       "      <td>...</td>\n",
       "    </tr>\n",
       "    <tr>\n",
       "      <th>2555</th>\n",
       "      <td>We support and appreciate  your business.”</td>\n",
       "      <td>not_propaganda</td>\n",
       "    </tr>\n",
       "    <tr>\n",
       "      <th>2556</th>\n",
       "      <td>International Atomic Energy Agency (IAEA) Dire...</td>\n",
       "      <td>not_propaganda</td>\n",
       "    </tr>\n",
       "    <tr>\n",
       "      <th>2557</th>\n",
       "      <td>What has been done: there has been work on for...</td>\n",
       "      <td>not_propaganda</td>\n",
       "    </tr>\n",
       "    <tr>\n",
       "      <th>2558</th>\n",
       "      <td>This is  the law of gradualness not the gradua...</td>\n",
       "      <td>not_propaganda</td>\n",
       "    </tr>\n",
       "    <tr>\n",
       "      <th>2559</th>\n",
       "      <td>In it, Jews are described as: “arrogant,” “jea...</td>\n",
       "      <td>propaganda</td>\n",
       "    </tr>\n",
       "  </tbody>\n",
       "</table>\n",
       "<p>2560 rows × 2 columns</p>\n",
       "</div>"
      ],
      "text/plain": [
       "                                      tagged_in_context        labelled\n",
       "0                      No,  he  will not be confirmed.   not_propaganda\n",
       "1     This declassification effort  won’t make thing...  not_propaganda\n",
       "2     \"The Obama administration misled the  American...      propaganda\n",
       "3     “It looks like we’re capturing the demise of t...  not_propaganda\n",
       "4                         Location: Westerville, Ohio    not_propaganda\n",
       "...                                                 ...             ...\n",
       "2555        We support and appreciate  your business.”   not_propaganda\n",
       "2556  International Atomic Energy Agency (IAEA) Dire...  not_propaganda\n",
       "2557  What has been done: there has been work on for...  not_propaganda\n",
       "2558  This is  the law of gradualness not the gradua...  not_propaganda\n",
       "2559  In it, Jews are described as: “arrogant,” “jea...      propaganda\n",
       "\n",
       "[2560 rows x 2 columns]"
      ]
     },
     "execution_count": 180,
     "metadata": {},
     "output_type": "execute_result"
    }
   ],
   "source": [
    "training_data_df"
   ]
  },
  {
   "cell_type": "code",
   "execution_count": 181,
   "metadata": {
    "tags": []
   },
   "outputs": [
    {
     "data": {
      "text/html": [
       "<div>\n",
       "<style scoped>\n",
       "    .dataframe tbody tr th:only-of-type {\n",
       "        vertical-align: middle;\n",
       "    }\n",
       "\n",
       "    .dataframe tbody tr th {\n",
       "        vertical-align: top;\n",
       "    }\n",
       "\n",
       "    .dataframe thead th {\n",
       "        text-align: right;\n",
       "    }\n",
       "</style>\n",
       "<table border=\"1\" class=\"dataframe\">\n",
       "  <thead>\n",
       "    <tr style=\"text-align: right;\">\n",
       "      <th></th>\n",
       "      <th>tagged_in_context</th>\n",
       "      <th>labelled</th>\n",
       "    </tr>\n",
       "  </thead>\n",
       "  <tbody>\n",
       "    <tr>\n",
       "      <th>0</th>\n",
       "      <td>On average, between 300 and 600 infections are...</td>\n",
       "      <td>not_propaganda</td>\n",
       "    </tr>\n",
       "    <tr>\n",
       "      <th>1</th>\n",
       "      <td>Mostly because  the country would not last lon...</td>\n",
       "      <td>propaganda</td>\n",
       "    </tr>\n",
       "    <tr>\n",
       "      <th>2</th>\n",
       "      <td>Lyndon Johnson  gets Earl Warren and Sen. Rich...</td>\n",
       "      <td>propaganda</td>\n",
       "    </tr>\n",
       "    <tr>\n",
       "      <th>3</th>\n",
       "      <td>You  may opt out at anytime.</td>\n",
       "      <td>not_propaganda</td>\n",
       "    </tr>\n",
       "    <tr>\n",
       "      <th>4</th>\n",
       "      <td>It must be exacted from him directly in order ...</td>\n",
       "      <td>propaganda</td>\n",
       "    </tr>\n",
       "    <tr>\n",
       "      <th>...</th>\n",
       "      <td>...</td>\n",
       "      <td>...</td>\n",
       "    </tr>\n",
       "    <tr>\n",
       "      <th>635</th>\n",
       "      <td>NewsCatholic Church,  Family, Marriage</td>\n",
       "      <td>not_propaganda</td>\n",
       "    </tr>\n",
       "    <tr>\n",
       "      <th>636</th>\n",
       "      <td>Remember our saying, modern day fairy  tales s...</td>\n",
       "      <td>not_propaganda</td>\n",
       "    </tr>\n",
       "    <tr>\n",
       "      <th>637</th>\n",
       "      <td>Why  not  open up to Iran with massive amounts...</td>\n",
       "      <td>not_propaganda</td>\n",
       "    </tr>\n",
       "    <tr>\n",
       "      <th>638</th>\n",
       "      <td>He also sang an Islamic State fight song and ...</td>\n",
       "      <td>propaganda</td>\n",
       "    </tr>\n",
       "    <tr>\n",
       "      <th>639</th>\n",
       "      <td>We hear again, as we did incessantly from the ...</td>\n",
       "      <td>propaganda</td>\n",
       "    </tr>\n",
       "  </tbody>\n",
       "</table>\n",
       "<p>640 rows × 2 columns</p>\n",
       "</div>"
      ],
      "text/plain": [
       "                                     tagged_in_context        labelled\n",
       "0    On average, between 300 and 600 infections are...  not_propaganda\n",
       "1    Mostly because  the country would not last lon...      propaganda\n",
       "2    Lyndon Johnson  gets Earl Warren and Sen. Rich...      propaganda\n",
       "3                        You  may opt out at anytime.   not_propaganda\n",
       "4    It must be exacted from him directly in order ...      propaganda\n",
       "..                                                 ...             ...\n",
       "635           NewsCatholic Church,  Family, Marriage    not_propaganda\n",
       "636  Remember our saying, modern day fairy  tales s...  not_propaganda\n",
       "637  Why  not  open up to Iran with massive amounts...  not_propaganda\n",
       "638   He also sang an Islamic State fight song and ...      propaganda\n",
       "639  We hear again, as we did incessantly from the ...      propaganda\n",
       "\n",
       "[640 rows x 2 columns]"
      ]
     },
     "execution_count": 181,
     "metadata": {},
     "output_type": "execute_result"
    }
   ],
   "source": [
    "testing_data_df"
   ]
  },
  {
   "cell_type": "code",
   "execution_count": 182,
   "metadata": {
    "id": "3JKvMgtnUCHV"
   },
   "outputs": [
    {
     "data": {
      "text/plain": [
       "{'not_propaganda': 0, 'propaganda': 1}"
      ]
     },
     "execution_count": 182,
     "metadata": {},
     "output_type": "execute_result"
    }
   ],
   "source": [
    "labellist=sorted(list(set(training_data_df['labelled'].unique()).union(set(testing_data_df['labelled'].unique()))))\n",
    "\n",
    "labels={label:i for i,label in enumerate(labellist)}\n",
    "labels"
   ]
  },
  {
   "cell_type": "code",
   "execution_count": 183,
   "metadata": {
    "id": "-kBZJKXNulns"
   },
   "outputs": [
    {
     "data": {
      "text/plain": [
       "{0: 'not_propaganda', 1: 'propaganda'}"
      ]
     },
     "execution_count": 183,
     "metadata": {},
     "output_type": "execute_result"
    }
   ],
   "source": [
    "ids_labels = {i: label for i, label in enumerate(labellist)}\n",
    "ids_labels"
   ]
  },
  {
   "cell_type": "code",
   "execution_count": null,
   "metadata": {
    "tags": []
   },
   "outputs": [],
   "source": []
  },
  {
   "cell_type": "code",
   "execution_count": 184,
   "metadata": {
    "tags": []
   },
   "outputs": [
    {
     "data": {
      "text/html": [
       "<div>\n",
       "<style scoped>\n",
       "    .dataframe tbody tr th:only-of-type {\n",
       "        vertical-align: middle;\n",
       "    }\n",
       "\n",
       "    .dataframe tbody tr th {\n",
       "        vertical-align: top;\n",
       "    }\n",
       "\n",
       "    .dataframe thead th {\n",
       "        text-align: right;\n",
       "    }\n",
       "</style>\n",
       "<table border=\"1\" class=\"dataframe\">\n",
       "  <thead>\n",
       "    <tr style=\"text-align: right;\">\n",
       "      <th></th>\n",
       "      <th>tagged_in_context</th>\n",
       "      <th>labelled</th>\n",
       "    </tr>\n",
       "  </thead>\n",
       "  <tbody>\n",
       "    <tr>\n",
       "      <th>0</th>\n",
       "      <td>No,  he  will not be confirmed.</td>\n",
       "      <td>not_propaganda</td>\n",
       "    </tr>\n",
       "    <tr>\n",
       "      <th>1</th>\n",
       "      <td>This declassification effort  won’t make thing...</td>\n",
       "      <td>not_propaganda</td>\n",
       "    </tr>\n",
       "    <tr>\n",
       "      <th>2</th>\n",
       "      <td>\"The Obama administration misled the  American...</td>\n",
       "      <td>propaganda</td>\n",
       "    </tr>\n",
       "    <tr>\n",
       "      <th>3</th>\n",
       "      <td>“It looks like we’re capturing the demise of t...</td>\n",
       "      <td>not_propaganda</td>\n",
       "    </tr>\n",
       "    <tr>\n",
       "      <th>4</th>\n",
       "      <td>Location: Westerville, Ohio</td>\n",
       "      <td>not_propaganda</td>\n",
       "    </tr>\n",
       "    <tr>\n",
       "      <th>...</th>\n",
       "      <td>...</td>\n",
       "      <td>...</td>\n",
       "    </tr>\n",
       "    <tr>\n",
       "      <th>2555</th>\n",
       "      <td>We support and appreciate  your business.”</td>\n",
       "      <td>not_propaganda</td>\n",
       "    </tr>\n",
       "    <tr>\n",
       "      <th>2556</th>\n",
       "      <td>International Atomic Energy Agency (IAEA) Dire...</td>\n",
       "      <td>not_propaganda</td>\n",
       "    </tr>\n",
       "    <tr>\n",
       "      <th>2557</th>\n",
       "      <td>What has been done: there has been work on for...</td>\n",
       "      <td>not_propaganda</td>\n",
       "    </tr>\n",
       "    <tr>\n",
       "      <th>2558</th>\n",
       "      <td>This is  the law of gradualness not the gradua...</td>\n",
       "      <td>not_propaganda</td>\n",
       "    </tr>\n",
       "    <tr>\n",
       "      <th>2559</th>\n",
       "      <td>In it, Jews are described as: “arrogant,” “jea...</td>\n",
       "      <td>propaganda</td>\n",
       "    </tr>\n",
       "  </tbody>\n",
       "</table>\n",
       "<p>2560 rows × 2 columns</p>\n",
       "</div>"
      ],
      "text/plain": [
       "                                      tagged_in_context        labelled\n",
       "0                      No,  he  will not be confirmed.   not_propaganda\n",
       "1     This declassification effort  won’t make thing...  not_propaganda\n",
       "2     \"The Obama administration misled the  American...      propaganda\n",
       "3     “It looks like we’re capturing the demise of t...  not_propaganda\n",
       "4                         Location: Westerville, Ohio    not_propaganda\n",
       "...                                                 ...             ...\n",
       "2555        We support and appreciate  your business.”   not_propaganda\n",
       "2556  International Atomic Energy Agency (IAEA) Dire...  not_propaganda\n",
       "2557  What has been done: there has been work on for...  not_propaganda\n",
       "2558  This is  the law of gradualness not the gradua...  not_propaganda\n",
       "2559  In it, Jews are described as: “arrogant,” “jea...      propaganda\n",
       "\n",
       "[2560 rows x 2 columns]"
      ]
     },
     "execution_count": 184,
     "metadata": {},
     "output_type": "execute_result"
    }
   ],
   "source": [
    "training_data_df"
   ]
  },
  {
   "cell_type": "code",
   "execution_count": 185,
   "metadata": {
    "id": "P0CTL4GZuoNu"
   },
   "outputs": [],
   "source": [
    "import torch\n",
    "import numpy as np\n",
    "from transformers import BertTokenizer\n",
    "tokenizer=BertTokenizer.from_pretrained('bert-base-uncased')\n",
    "\n",
    "class Dataset(torch.utils.data.Dataset):\n",
    "\n",
    "    def __init__(self,df,column='tagged_in_context'):\n",
    "        self.labels=[labels[label] for label in df['labelled']]\n",
    "        self.texts=[tokenizer(text.lower(),padding='max_length',max_length=512,truncation=True,return_tensors=\"pt\") for text in df[column]]\n",
    "\n",
    "    def classes(self):\n",
    "        return self.labels\n",
    "\n",
    "    def __len__(self):\n",
    "        return len(self.labels)\n",
    "\n",
    "    def get_batch_labels(self,idx):\n",
    "        return np.array(self.labels[idx])\n",
    "\n",
    "    def get_batch_texts(self,idx):\n",
    "        return self.texts[idx]\n",
    "\n",
    "    def __getitem__(self,idx):\n",
    "        batch_texts=self.get_batch_texts(idx)\n",
    "        batch_y=self.get_batch_labels(idx)\n",
    "\n",
    "        return batch_texts,batch_y\n",
    "\n",
    "\n",
    "train_data=Dataset(training_data_df)\n",
    "test_data=Dataset(testing_data_df)"
   ]
  },
  {
   "cell_type": "code",
   "execution_count": 186,
   "metadata": {
    "tags": []
   },
   "outputs": [],
   "source": [
    "# train_data.texts[0]"
   ]
  },
  {
   "cell_type": "code",
   "execution_count": 187,
   "metadata": {
    "id": "KWQaDzI5u8Ry"
   },
   "outputs": [
    {
     "name": "stdout",
     "output_type": "stream",
     "text": [
      "GPU acceleration enabled\n",
      "cuda\n"
     ]
    }
   ],
   "source": [
    "use_cuda=torch.cuda.is_available()\n",
    "if use_cuda:\n",
    "  print(\"GPU acceleration enabled\")\n",
    "else:\n",
    "  print(\"GPU acceleration NOT enabled.  If using Colab, have you changed the runtype type and selected GPU as the hardware accelerator?\")\n",
    "device=torch.device(\"cuda\" if use_cuda else \"cpu\")\n",
    "print(device)"
   ]
  },
  {
   "cell_type": "code",
   "execution_count": 188,
   "metadata": {
    "id": "n6K20m64vEeF"
   },
   "outputs": [
    {
     "name": "stdout",
     "output_type": "stream",
     "text": [
      "tensor([[ 101, 6174, 3660,  ...,    0,    0,    0],\n",
      "        [ 101, 4911, 2739,  ...,    0,    0,    0]], device='cuda:0') tensor([[[1, 1, 1,  ..., 0, 0, 0]],\n",
      "\n",
      "        [[1, 1, 1,  ..., 0, 0, 0]]], device='cuda:0') tensor([0, 1], device='cuda:0', dtype=torch.int32)\n",
      "2\n"
     ]
    },
    {
     "data": {
      "text/plain": [
       "tensor([[-0.7819, -0.4767, -0.9419,  ..., -0.8525, -0.5120,  0.4220],\n",
       "        [-0.8690, -0.4617, -0.5510,  ...,  0.1328, -0.6097,  0.7612]],\n",
       "       device='cuda:0', grad_fn=<TanhBackward0>)"
      ]
     },
     "execution_count": 188,
     "metadata": {},
     "output_type": "execute_result"
    }
   ],
   "source": [
    "train_dataloader=torch.utils.data.DataLoader(train_data,batch_size=2,shuffle=True)\n",
    "bert=BertModel.from_pretrained('bert-base-uncased')\n",
    "bert.to(device)\n",
    "\n",
    "for train_input,train_label in train_dataloader:\n",
    "    input_id,mask,label=prepare_inputs(train_input,train_label,device)\n",
    "    output=bert(input_ids=input_id,attention_mask=mask,return_dict=False)\n",
    "    break\n",
    "\n",
    "print(input_id,mask,label)\n",
    "print(len(output))\n",
    "output[1]"
   ]
  },
  {
   "cell_type": "code",
   "execution_count": null,
   "metadata": {
    "id": "TgNMk8SLwSKe"
   },
   "outputs": [],
   "source": []
  },
  {
   "cell_type": "code",
   "execution_count": 189,
   "metadata": {
    "tags": []
   },
   "outputs": [],
   "source": [
    "import torch.nn as nn\n",
    "from transformers import BertModel\n",
    "\n",
    "class BertClassifierOptims(nn.Module):\n",
    "    \"\"\"\n",
    "    A classifier built on top of a pre-trained BERT model with additional linear layers and dropout for regularization.\n",
    "    This model is suitable for text classification tasks, utilizing BERT's embedding capabilities\n",
    "    followed by a custom neural network structure to adapt to specific classification needs.\n",
    "\n",
    "    Parameters:\n",
    "    dropout (float): The dropout rate to use for regularization to prevent overfitting.\n",
    "    num_classes (int): The number of output classes for the classifier.\n",
    "    \"\"\"\n",
    "\n",
    "    def __init__(self, dropout=0.1, num_classes=2):\n",
    "        super(BertClassifierOptims, self).__init__()\n",
    "        # Initialize the BERT model, dropout layers, and linear layers.\n",
    "        self.bert = BertModel.from_pretrained('bert-base-uncased')\n",
    "        self.dropout = nn.Dropout(dropout)\n",
    "        self.linear1 = nn.Linear(768, 256)\n",
    "        self.relu1 = nn.ReLU()\n",
    "        self.dropout2 = nn.Dropout(dropout)\n",
    "        self.linear2 = nn.Linear(256, num_classes)\n",
    "\n",
    "    def forward(self, input_id, mask):\n",
    "        \"\"\"\n",
    "        Define the forward pass of the classifier using input IDs and attention masks.\n",
    "\n",
    "        Args:\n",
    "        input_id (Tensor): The input IDs from the tokenizer.\n",
    "        mask (Tensor): The attention masks specifying which parts of the input are actual data and which are padding.\n",
    "\n",
    "        Returns:\n",
    "        Tensor: The logits representing the model predictions for each class.\n",
    "        \"\"\"\n",
    "        # Extract the pooled output from BERT, apply a series of transformations, and output the final class logits.\n",
    "        _, pooled_output = self.bert(input_ids=input_id, attention_mask=mask, return_dict=False)\n",
    "        x = self.dropout(self.relu1(self.linear1(pooled_output)))\n",
    "        x = self.dropout2(x)\n",
    "        x = self.linear2(x)\n",
    "        return x\n"
   ]
  },
  {
   "cell_type": "code",
   "execution_count": 190,
   "metadata": {
    "tags": []
   },
   "outputs": [
    {
     "data": {
      "text/plain": [
       "2"
      ]
     },
     "execution_count": 190,
     "metadata": {},
     "output_type": "execute_result"
    }
   ],
   "source": [
    "len(labels.keys())"
   ]
  },
  {
   "cell_type": "code",
   "execution_count": 191,
   "metadata": {
    "id": "iRNS7UfEwY-h"
   },
   "outputs": [
    {
     "data": {
      "text/plain": [
       "BertModel(\n",
       "  (embeddings): BertEmbeddings(\n",
       "    (word_embeddings): Embedding(30522, 768, padding_idx=0)\n",
       "    (position_embeddings): Embedding(512, 768)\n",
       "    (token_type_embeddings): Embedding(2, 768)\n",
       "    (LayerNorm): LayerNorm((768,), eps=1e-12, elementwise_affine=True)\n",
       "    (dropout): Dropout(p=0.1, inplace=False)\n",
       "  )\n",
       "  (encoder): BertEncoder(\n",
       "    (layer): ModuleList(\n",
       "      (0-11): 12 x BertLayer(\n",
       "        (attention): BertAttention(\n",
       "          (self): BertSelfAttention(\n",
       "            (query): Linear(in_features=768, out_features=768, bias=True)\n",
       "            (key): Linear(in_features=768, out_features=768, bias=True)\n",
       "            (value): Linear(in_features=768, out_features=768, bias=True)\n",
       "            (dropout): Dropout(p=0.1, inplace=False)\n",
       "          )\n",
       "          (output): BertSelfOutput(\n",
       "            (dense): Linear(in_features=768, out_features=768, bias=True)\n",
       "            (LayerNorm): LayerNorm((768,), eps=1e-12, elementwise_affine=True)\n",
       "            (dropout): Dropout(p=0.1, inplace=False)\n",
       "          )\n",
       "        )\n",
       "        (intermediate): BertIntermediate(\n",
       "          (dense): Linear(in_features=768, out_features=3072, bias=True)\n",
       "          (intermediate_act_fn): GELUActivation()\n",
       "        )\n",
       "        (output): BertOutput(\n",
       "          (dense): Linear(in_features=3072, out_features=768, bias=True)\n",
       "          (LayerNorm): LayerNorm((768,), eps=1e-12, elementwise_affine=True)\n",
       "          (dropout): Dropout(p=0.1, inplace=False)\n",
       "        )\n",
       "      )\n",
       "    )\n",
       "  )\n",
       "  (pooler): BertPooler(\n",
       "    (dense): Linear(in_features=768, out_features=768, bias=True)\n",
       "    (activation): Tanh()\n",
       "  )\n",
       ")"
      ]
     },
     "execution_count": 191,
     "metadata": {},
     "output_type": "execute_result"
    }
   ],
   "source": [
    "EPOCHS=4\n",
    "# model=BertClassifier(num_classes=len(labels.keys()))\n",
    "model = BertClassifierOptims(num_classes=len(labels.keys()))\n",
    "model.to(device)\n",
    "LR=1e-4\n",
    "\n",
    "model.bert.requires_grad_(False) "
   ]
  },
  {
   "cell_type": "code",
   "execution_count": 192,
   "metadata": {
    "id": "cLn4E37awbpg"
   },
   "outputs": [],
   "source": [
    "# train(model,train_data,test_data,LR,EPOCHS)"
   ]
  },
  {
   "cell_type": "code",
   "execution_count": 193,
   "metadata": {
    "id": "GKmUbbdWwfIY"
   },
   "outputs": [],
   "source": [
    "# output_dir=\"test_bin_bert_freeze_optim_test\"\n",
    "# torch.save(model,output_dir)"
   ]
  },
  {
   "cell_type": "code",
   "execution_count": 194,
   "metadata": {
    "id": "eyzzTRQ5yTBu",
    "tags": []
   },
   "outputs": [],
   "source": [
    "intput_dir = 'test_bin_bert_freeze_optim_test'\n",
    "complete_model = torch.load(intput_dir)"
   ]
  },
  {
   "cell_type": "code",
   "execution_count": 195,
   "metadata": {
    "tags": []
   },
   "outputs": [
    {
     "name": "stderr",
     "output_type": "stream",
     "text": [
      "100%|████████████████████████████████████████████████████████████████████████████████| 320/320 [00:12<00:00, 24.88it/s]\n"
     ]
    }
   ],
   "source": [
    "report_bert_bin_clf =evaluate2(complete_model, test_data)"
   ]
  },
  {
   "cell_type": "code",
   "execution_count": 196,
   "metadata": {
    "tags": []
   },
   "outputs": [
    {
     "data": {
      "text/plain": [
       "{'0': {'precision': 0.769811320754717,\n",
       "  'recall': 0.6163141993957704,\n",
       "  'f1-score': 0.6845637583892618,\n",
       "  'support': 331.0},\n",
       " '1': {'precision': 0.6613333333333333,\n",
       "  'recall': 0.8025889967637541,\n",
       "  'f1-score': 0.7251461988304093,\n",
       "  'support': 309.0},\n",
       " 'accuracy': 0.70625,\n",
       " 'macro avg': {'precision': 0.7155723270440252,\n",
       "  'recall': 0.7094515980797622,\n",
       "  'f1-score': 0.7048549786098355,\n",
       "  'support': 640.0},\n",
       " 'weighted avg': {'precision': 0.7174367924528302,\n",
       "  'recall': 0.70625,\n",
       "  'f1-score': 0.7041574679147533,\n",
       "  'support': 640.0}}"
      ]
     },
     "execution_count": 196,
     "metadata": {},
     "output_type": "execute_result"
    }
   ],
   "source": [
    "report_bert_bin_clf"
   ]
  },
  {
   "cell_type": "code",
   "execution_count": 197,
   "metadata": {
    "tags": []
   },
   "outputs": [
    {
     "data": {
      "image/png": "[encoded data removed]",
      "text/plain": [
       "<Figure size 640x480 with 2 Axes>"
      ]
     },
     "metadata": {},
     "output_type": "display_data"
    }
   ],
   "source": [
    "plot_heatmap(report_bert_bin_clf, 'BERT binary classification')"
   ]
  },
  {
   "cell_type": "code",
   "execution_count": 198,
   "metadata": {
    "tags": []
   },
   "outputs": [
    {
     "data": {
      "image/png": "[encoded data removed]",
      "text/plain": [
       "<Figure size 1000x400 with 2 Axes>"
      ]
     },
     "metadata": {},
     "output_type": "display_data"
    }
   ],
   "source": [
    "plot_metrics(report_nb_bin_clf,report_bert_bin_clf, \n",
    "             'naive bayes binary classification', 'BERT binary classification')"
   ]
  },
  {
   "cell_type": "markdown",
   "metadata": {
    "id": "dU2a9lxFAdt0"
   },
   "source": [
    "# Task 2: propaganda type detection"
   ]
  },
  {
   "cell_type": "markdown",
   "metadata": {
    "id": "v2IdOqZ9AiVR"
   },
   "source": [
    "## Method 1 : BOW classifier"
   ]
  },
  {
   "cell_type": "code",
   "execution_count": 201,
   "metadata": {
    "id": "h7geKo-IAqY_"
   },
   "outputs": [],
   "source": [
    "prop_df_train = pd.read_csv(train_path,delimiter=\"\\t\",quotechar='|')\n",
    "prop_df_test = pd.read_csv(val_path, delimiter=\"\\t\", quotechar= '|')\n",
    "\n",
    "prop_df_train = prop_df_train[prop_df_train['label'] != 'not_propaganda']\n",
    "prop_df_train.reset_index(drop=True, inplace=True)\n",
    "\n",
    "prop_df_test = prop_df_test[prop_df_test['label'] != 'not_propaganda']\n",
    "prop_df_test.reset_index(drop=True, inplace=True)"
   ]
  },
  {
   "cell_type": "code",
   "execution_count": 202,
   "metadata": {
    "id": "aypMtEbfUd3K"
   },
   "outputs": [
    {
     "data": {
      "text/html": [
       "<div>\n",
       "<style scoped>\n",
       "    .dataframe tbody tr th:only-of-type {\n",
       "        vertical-align: middle;\n",
       "    }\n",
       "\n",
       "    .dataframe tbody tr th {\n",
       "        vertical-align: top;\n",
       "    }\n",
       "\n",
       "    .dataframe thead th {\n",
       "        text-align: right;\n",
       "    }\n",
       "</style>\n",
       "<table border=\"1\" class=\"dataframe\">\n",
       "  <thead>\n",
       "    <tr style=\"text-align: right;\">\n",
       "      <th></th>\n",
       "      <th>label</th>\n",
       "      <th>tagged_in_context</th>\n",
       "    </tr>\n",
       "  </thead>\n",
       "  <tbody>\n",
       "    <tr>\n",
       "      <th>0</th>\n",
       "      <td>flag_waving</td>\n",
       "      <td>\"The Obama administration misled the &lt;BOS&gt; Ame...</td>\n",
       "    </tr>\n",
       "    <tr>\n",
       "      <th>1</th>\n",
       "      <td>loaded_language</td>\n",
       "      <td>Hitler &lt;BOS&gt; annihilated &lt;EOS&gt; 400,000 Germans...</td>\n",
       "    </tr>\n",
       "    <tr>\n",
       "      <th>2</th>\n",
       "      <td>doubt</td>\n",
       "      <td>As noted above, at this point literally every ...</td>\n",
       "    </tr>\n",
       "    <tr>\n",
       "      <th>3</th>\n",
       "      <td>name_calling,labeling</td>\n",
       "      <td>His account was suspended for violating Twitte...</td>\n",
       "    </tr>\n",
       "    <tr>\n",
       "      <th>4</th>\n",
       "      <td>appeal_to_fear_prejudice</td>\n",
       "      <td>A couple of seemingly unrelated events this pa...</td>\n",
       "    </tr>\n",
       "    <tr>\n",
       "      <th>...</th>\n",
       "      <td>...</td>\n",
       "      <td>...</td>\n",
       "    </tr>\n",
       "    <tr>\n",
       "      <th>1286</th>\n",
       "      <td>repetition</td>\n",
       "      <td>You might think that would have cured him of f...</td>\n",
       "    </tr>\n",
       "    <tr>\n",
       "      <th>1287</th>\n",
       "      <td>exaggeration,minimisation</td>\n",
       "      <td>“I would like to take this opportunity to make...</td>\n",
       "    </tr>\n",
       "    <tr>\n",
       "      <th>1288</th>\n",
       "      <td>flag_waving</td>\n",
       "      <td>Trump To Jeff Sessions: Put An End to Russia P...</td>\n",
       "    </tr>\n",
       "    <tr>\n",
       "      <th>1289</th>\n",
       "      <td>causal_oversimplification</td>\n",
       "      <td>&lt;BOS&gt; Neither the Democrat leadership nor the ...</td>\n",
       "    </tr>\n",
       "    <tr>\n",
       "      <th>1290</th>\n",
       "      <td>name_calling,labeling</td>\n",
       "      <td>In it, Jews are described as: “arrogant,” “jea...</td>\n",
       "    </tr>\n",
       "  </tbody>\n",
       "</table>\n",
       "<p>1291 rows × 2 columns</p>\n",
       "</div>"
      ],
      "text/plain": [
       "                          label  \\\n",
       "0                   flag_waving   \n",
       "1               loaded_language   \n",
       "2                         doubt   \n",
       "3         name_calling,labeling   \n",
       "4      appeal_to_fear_prejudice   \n",
       "...                         ...   \n",
       "1286                 repetition   \n",
       "1287  exaggeration,minimisation   \n",
       "1288                flag_waving   \n",
       "1289  causal_oversimplification   \n",
       "1290      name_calling,labeling   \n",
       "\n",
       "                                      tagged_in_context  \n",
       "0     \"The Obama administration misled the <BOS> Ame...  \n",
       "1     Hitler <BOS> annihilated <EOS> 400,000 Germans...  \n",
       "2     As noted above, at this point literally every ...  \n",
       "3     His account was suspended for violating Twitte...  \n",
       "4     A couple of seemingly unrelated events this pa...  \n",
       "...                                                 ...  \n",
       "1286  You might think that would have cured him of f...  \n",
       "1287  “I would like to take this opportunity to make...  \n",
       "1288  Trump To Jeff Sessions: Put An End to Russia P...  \n",
       "1289  <BOS> Neither the Democrat leadership nor the ...  \n",
       "1290  In it, Jews are described as: “arrogant,” “jea...  \n",
       "\n",
       "[1291 rows x 2 columns]"
      ]
     },
     "execution_count": 202,
     "metadata": {},
     "output_type": "execute_result"
    }
   ],
   "source": [
    "prop_df_train"
   ]
  },
  {
   "cell_type": "code",
   "execution_count": 203,
   "metadata": {
    "id": "mwRk-hapGqmV"
   },
   "outputs": [
    {
     "data": {
      "text/plain": [
       "(1291, 309)"
      ]
     },
     "execution_count": 203,
     "metadata": {},
     "output_type": "execute_result"
    }
   ],
   "source": [
    "len(prop_df_train), len(prop_df_test)"
   ]
  },
  {
   "cell_type": "code",
   "execution_count": 204,
   "metadata": {
    "id": "8HwfnkWL6epZ"
   },
   "outputs": [
    {
     "data": {
      "text/html": [
       "<div>\n",
       "<style scoped>\n",
       "    .dataframe tbody tr th:only-of-type {\n",
       "        vertical-align: middle;\n",
       "    }\n",
       "\n",
       "    .dataframe tbody tr th {\n",
       "        vertical-align: top;\n",
       "    }\n",
       "\n",
       "    .dataframe thead th {\n",
       "        text-align: right;\n",
       "    }\n",
       "</style>\n",
       "<table border=\"1\" class=\"dataframe\">\n",
       "  <thead>\n",
       "    <tr style=\"text-align: right;\">\n",
       "      <th></th>\n",
       "      <th>label</th>\n",
       "      <th>tagged_in_context</th>\n",
       "    </tr>\n",
       "  </thead>\n",
       "  <tbody>\n",
       "    <tr>\n",
       "      <th>0</th>\n",
       "      <td>flag_waving</td>\n",
       "      <td>\"The Obama administration misled the &lt;BOS&gt; Ame...</td>\n",
       "    </tr>\n",
       "    <tr>\n",
       "      <th>1</th>\n",
       "      <td>loaded_language</td>\n",
       "      <td>Hitler &lt;BOS&gt; annihilated &lt;EOS&gt; 400,000 Germans...</td>\n",
       "    </tr>\n",
       "    <tr>\n",
       "      <th>2</th>\n",
       "      <td>doubt</td>\n",
       "      <td>As noted above, at this point literally every ...</td>\n",
       "    </tr>\n",
       "    <tr>\n",
       "      <th>3</th>\n",
       "      <td>name_calling,labeling</td>\n",
       "      <td>His account was suspended for violating Twitte...</td>\n",
       "    </tr>\n",
       "    <tr>\n",
       "      <th>4</th>\n",
       "      <td>appeal_to_fear_prejudice</td>\n",
       "      <td>A couple of seemingly unrelated events this pa...</td>\n",
       "    </tr>\n",
       "  </tbody>\n",
       "</table>\n",
       "</div>"
      ],
      "text/plain": [
       "                      label                                  tagged_in_context\n",
       "0               flag_waving  \"The Obama administration misled the <BOS> Ame...\n",
       "1           loaded_language  Hitler <BOS> annihilated <EOS> 400,000 Germans...\n",
       "2                     doubt  As noted above, at this point literally every ...\n",
       "3     name_calling,labeling  His account was suspended for violating Twitte...\n",
       "4  appeal_to_fear_prejudice  A couple of seemingly unrelated events this pa..."
      ]
     },
     "execution_count": 204,
     "metadata": {},
     "output_type": "execute_result"
    }
   ],
   "source": [
    "prop_df_train.head()"
   ]
  },
  {
   "cell_type": "code",
   "execution_count": 205,
   "metadata": {
    "id": "jr5gbGCCNj7S"
   },
   "outputs": [
    {
     "data": {
      "text/html": [
       "<div>\n",
       "<style scoped>\n",
       "    .dataframe tbody tr th:only-of-type {\n",
       "        vertical-align: middle;\n",
       "    }\n",
       "\n",
       "    .dataframe tbody tr th {\n",
       "        vertical-align: top;\n",
       "    }\n",
       "\n",
       "    .dataframe thead th {\n",
       "        text-align: right;\n",
       "    }\n",
       "</style>\n",
       "<table border=\"1\" class=\"dataframe\">\n",
       "  <thead>\n",
       "    <tr style=\"text-align: right;\">\n",
       "      <th></th>\n",
       "      <th>label</th>\n",
       "      <th>tagged_in_context</th>\n",
       "      <th>labelled</th>\n",
       "    </tr>\n",
       "  </thead>\n",
       "  <tbody>\n",
       "    <tr>\n",
       "      <th>0</th>\n",
       "      <td>flag_waving</td>\n",
       "      <td>\"The Obama administration misled the &lt;BOS&gt; Ame...</td>\n",
       "      <td>4</td>\n",
       "    </tr>\n",
       "    <tr>\n",
       "      <th>1</th>\n",
       "      <td>loaded_language</td>\n",
       "      <td>Hitler &lt;BOS&gt; annihilated &lt;EOS&gt; 400,000 Germans...</td>\n",
       "      <td>5</td>\n",
       "    </tr>\n",
       "    <tr>\n",
       "      <th>2</th>\n",
       "      <td>doubt</td>\n",
       "      <td>As noted above, at this point literally every ...</td>\n",
       "      <td>2</td>\n",
       "    </tr>\n",
       "    <tr>\n",
       "      <th>3</th>\n",
       "      <td>name_calling,labeling</td>\n",
       "      <td>His account was suspended for violating Twitte...</td>\n",
       "      <td>6</td>\n",
       "    </tr>\n",
       "    <tr>\n",
       "      <th>4</th>\n",
       "      <td>appeal_to_fear_prejudice</td>\n",
       "      <td>A couple of seemingly unrelated events this pa...</td>\n",
       "      <td>0</td>\n",
       "    </tr>\n",
       "  </tbody>\n",
       "</table>\n",
       "</div>"
      ],
      "text/plain": [
       "                      label  \\\n",
       "0               flag_waving   \n",
       "1           loaded_language   \n",
       "2                     doubt   \n",
       "3     name_calling,labeling   \n",
       "4  appeal_to_fear_prejudice   \n",
       "\n",
       "                                   tagged_in_context  labelled  \n",
       "0  \"The Obama administration misled the <BOS> Ame...         4  \n",
       "1  Hitler <BOS> annihilated <EOS> 400,000 Germans...         5  \n",
       "2  As noted above, at this point literally every ...         2  \n",
       "3  His account was suspended for violating Twitte...         6  \n",
       "4  A couple of seemingly unrelated events this pa...         0  "
      ]
     },
     "execution_count": 205,
     "metadata": {},
     "output_type": "execute_result"
    }
   ],
   "source": [
    "labels2, ids_labels2, multi_class_labelled_train = label_data(prop_df_train, multi_clf = True)\n",
    "multi_class_labelled_train.head()"
   ]
  },
  {
   "cell_type": "code",
   "execution_count": 206,
   "metadata": {
    "id": "ccOI3D45x1ws"
   },
   "outputs": [
    {
     "data": {
      "text/html": [
       "<div>\n",
       "<style scoped>\n",
       "    .dataframe tbody tr th:only-of-type {\n",
       "        vertical-align: middle;\n",
       "    }\n",
       "\n",
       "    .dataframe tbody tr th {\n",
       "        vertical-align: top;\n",
       "    }\n",
       "\n",
       "    .dataframe thead th {\n",
       "        text-align: right;\n",
       "    }\n",
       "</style>\n",
       "<table border=\"1\" class=\"dataframe\">\n",
       "  <thead>\n",
       "    <tr style=\"text-align: right;\">\n",
       "      <th></th>\n",
       "      <th>label</th>\n",
       "      <th>tagged_in_context</th>\n",
       "      <th>labelled</th>\n",
       "    </tr>\n",
       "  </thead>\n",
       "  <tbody>\n",
       "    <tr>\n",
       "      <th>0</th>\n",
       "      <td>causal_oversimplification</td>\n",
       "      <td>Mostly because &lt;BOS&gt; the country would not las...</td>\n",
       "      <td>1</td>\n",
       "    </tr>\n",
       "    <tr>\n",
       "      <th>1</th>\n",
       "      <td>appeal_to_fear_prejudice</td>\n",
       "      <td>Lyndon Johnson &lt;BOS&gt; gets Earl Warren and Sen....</td>\n",
       "      <td>0</td>\n",
       "    </tr>\n",
       "    <tr>\n",
       "      <th>2</th>\n",
       "      <td>repetition</td>\n",
       "      <td>It must be exacted from him directly in order ...</td>\n",
       "      <td>7</td>\n",
       "    </tr>\n",
       "    <tr>\n",
       "      <th>3</th>\n",
       "      <td>name_calling,labeling</td>\n",
       "      <td>Is it any wonder that priests and laity alike ...</td>\n",
       "      <td>6</td>\n",
       "    </tr>\n",
       "    <tr>\n",
       "      <th>4</th>\n",
       "      <td>loaded_language</td>\n",
       "      <td>Health workers have been asked to work with co...</td>\n",
       "      <td>5</td>\n",
       "    </tr>\n",
       "  </tbody>\n",
       "</table>\n",
       "</div>"
      ],
      "text/plain": [
       "                       label  \\\n",
       "0  causal_oversimplification   \n",
       "1   appeal_to_fear_prejudice   \n",
       "2                 repetition   \n",
       "3      name_calling,labeling   \n",
       "4            loaded_language   \n",
       "\n",
       "                                   tagged_in_context  labelled  \n",
       "0  Mostly because <BOS> the country would not las...         1  \n",
       "1  Lyndon Johnson <BOS> gets Earl Warren and Sen....         0  \n",
       "2  It must be exacted from him directly in order ...         7  \n",
       "3  Is it any wonder that priests and laity alike ...         6  \n",
       "4  Health workers have been asked to work with co...         5  "
      ]
     },
     "execution_count": 206,
     "metadata": {},
     "output_type": "execute_result"
    }
   ],
   "source": [
    "_,_,multi_class_labelled_test = label_data(prop_df_test, multi_clf = True)\n",
    "multi_class_labelled_test.head()"
   ]
  },
  {
   "cell_type": "code",
   "execution_count": 207,
   "metadata": {
    "tags": []
   },
   "outputs": [
    {
     "data": {
      "text/html": [
       "<div>\n",
       "<style scoped>\n",
       "    .dataframe tbody tr th:only-of-type {\n",
       "        vertical-align: middle;\n",
       "    }\n",
       "\n",
       "    .dataframe tbody tr th {\n",
       "        vertical-align: top;\n",
       "    }\n",
       "\n",
       "    .dataframe thead th {\n",
       "        text-align: right;\n",
       "    }\n",
       "</style>\n",
       "<table border=\"1\" class=\"dataframe\">\n",
       "  <thead>\n",
       "    <tr style=\"text-align: right;\">\n",
       "      <th></th>\n",
       "      <th>label</th>\n",
       "      <th>tagged_in_context</th>\n",
       "      <th>labelled</th>\n",
       "    </tr>\n",
       "  </thead>\n",
       "  <tbody>\n",
       "    <tr>\n",
       "      <th>0</th>\n",
       "      <td>flag_waving</td>\n",
       "      <td>\"The Obama administration misled the &lt;BOS&gt; Ame...</td>\n",
       "      <td>4</td>\n",
       "    </tr>\n",
       "    <tr>\n",
       "      <th>1</th>\n",
       "      <td>loaded_language</td>\n",
       "      <td>Hitler &lt;BOS&gt; annihilated &lt;EOS&gt; 400,000 Germans...</td>\n",
       "      <td>5</td>\n",
       "    </tr>\n",
       "    <tr>\n",
       "      <th>2</th>\n",
       "      <td>doubt</td>\n",
       "      <td>As noted above, at this point literally every ...</td>\n",
       "      <td>2</td>\n",
       "    </tr>\n",
       "    <tr>\n",
       "      <th>3</th>\n",
       "      <td>name_calling,labeling</td>\n",
       "      <td>His account was suspended for violating Twitte...</td>\n",
       "      <td>6</td>\n",
       "    </tr>\n",
       "    <tr>\n",
       "      <th>4</th>\n",
       "      <td>appeal_to_fear_prejudice</td>\n",
       "      <td>A couple of seemingly unrelated events this pa...</td>\n",
       "      <td>0</td>\n",
       "    </tr>\n",
       "  </tbody>\n",
       "</table>\n",
       "</div>"
      ],
      "text/plain": [
       "                      label  \\\n",
       "0               flag_waving   \n",
       "1           loaded_language   \n",
       "2                     doubt   \n",
       "3     name_calling,labeling   \n",
       "4  appeal_to_fear_prejudice   \n",
       "\n",
       "                                   tagged_in_context  labelled  \n",
       "0  \"The Obama administration misled the <BOS> Ame...         4  \n",
       "1  Hitler <BOS> annihilated <EOS> 400,000 Germans...         5  \n",
       "2  As noted above, at this point literally every ...         2  \n",
       "3  His account was suspended for violating Twitte...         6  \n",
       "4  A couple of seemingly unrelated events this pa...         0  "
      ]
     },
     "execution_count": 207,
     "metadata": {},
     "output_type": "execute_result"
    }
   ],
   "source": [
    "multi_class_labelled_train.head()"
   ]
  },
  {
   "cell_type": "code",
   "execution_count": null,
   "metadata": {},
   "outputs": [],
   "source": []
  },
  {
   "cell_type": "code",
   "execution_count": 208,
   "metadata": {
    "id": "Ew91HDaP5qUo"
   },
   "outputs": [
    {
     "data": {
      "image/png": "[encoded data removed]",
      "text/plain": [
       "<Figure size 2000x1000 with 2 Axes>"
      ]
     },
     "metadata": {},
     "output_type": "display_data"
    }
   ],
   "source": [
    "import matplotlib.pyplot as plt\n",
    "\n",
    "fig, ax = plt.subplots(1, 2, figsize=(20, 10))\n",
    "\n",
    "training_data_df = pd.DataFrame(training_data, columns=['tagged_in_context', 'label'])\n",
    "testing_data_df = pd.DataFrame(testing_data, columns=['tagged_in_context', 'label'])\n",
    "\n",
    "training_data_df['label'].value_counts().plot(kind='pie', ax=ax[0], autopct='%1.1f%%')\n",
    "ax[0].set_title('Train Data')\n",
    "\n",
    "testing_data_df['label'].value_counts().plot(kind='pie', ax=ax[1], autopct='%1.1f%%')\n",
    "ax[1].set_title('Test Data')\n",
    "\n",
    "plt.show()"
   ]
  },
  {
   "cell_type": "code",
   "execution_count": 209,
   "metadata": {
    "id": "FuWgzexlyB5L"
   },
   "outputs": [
    {
     "data": {
      "text/html": [
       "<div>\n",
       "<style scoped>\n",
       "    .dataframe tbody tr th:only-of-type {\n",
       "        vertical-align: middle;\n",
       "    }\n",
       "\n",
       "    .dataframe tbody tr th {\n",
       "        vertical-align: top;\n",
       "    }\n",
       "\n",
       "    .dataframe thead th {\n",
       "        text-align: right;\n",
       "    }\n",
       "</style>\n",
       "<table border=\"1\" class=\"dataframe\">\n",
       "  <thead>\n",
       "    <tr style=\"text-align: right;\">\n",
       "      <th></th>\n",
       "      <th>category</th>\n",
       "      <th>tagged_in_context</th>\n",
       "      <th>label</th>\n",
       "    </tr>\n",
       "  </thead>\n",
       "  <tbody>\n",
       "    <tr>\n",
       "      <th>0</th>\n",
       "      <td>causal_oversimplification</td>\n",
       "      <td>the country would not last long without an out...</td>\n",
       "      <td>1</td>\n",
       "    </tr>\n",
       "    <tr>\n",
       "      <th>1</th>\n",
       "      <td>appeal_to_fear_prejudice</td>\n",
       "      <td>gets Earl Warren and Sen. Richard Russel to jo...</td>\n",
       "      <td>0</td>\n",
       "    </tr>\n",
       "    <tr>\n",
       "      <th>2</th>\n",
       "      <td>repetition</td>\n",
       "      <td>infidels</td>\n",
       "      <td>7</td>\n",
       "    </tr>\n",
       "    <tr>\n",
       "      <th>3</th>\n",
       "      <td>name_calling,labeling</td>\n",
       "      <td>the \"gay lifestyle</td>\n",
       "      <td>6</td>\n",
       "    </tr>\n",
       "    <tr>\n",
       "      <th>4</th>\n",
       "      <td>loaded_language</td>\n",
       "      <td>devastating communities</td>\n",
       "      <td>5</td>\n",
       "    </tr>\n",
       "  </tbody>\n",
       "</table>\n",
       "</div>"
      ],
      "text/plain": [
       "                    category  \\\n",
       "0  causal_oversimplification   \n",
       "1   appeal_to_fear_prejudice   \n",
       "2                 repetition   \n",
       "3      name_calling,labeling   \n",
       "4            loaded_language   \n",
       "\n",
       "                                   tagged_in_context  label  \n",
       "0  the country would not last long without an out...      1  \n",
       "1  gets Earl Warren and Sen. Richard Russel to jo...      0  \n",
       "2                                           infidels      7  \n",
       "3                                 the \"gay lifestyle      6  \n",
       "4                            devastating communities      5  "
      ]
     },
     "execution_count": 209,
     "metadata": {},
     "output_type": "execute_result"
    }
   ],
   "source": [
    "prop_test_data = extract_st_ed_word(multi_class_labelled_test)\n",
    "prop_test_data.head()"
   ]
  },
  {
   "cell_type": "code",
   "execution_count": 210,
   "metadata": {
    "id": "IJfDrGVHt32X"
   },
   "outputs": [
    {
     "data": {
      "text/html": [
       "<div>\n",
       "<style scoped>\n",
       "    .dataframe tbody tr th:only-of-type {\n",
       "        vertical-align: middle;\n",
       "    }\n",
       "\n",
       "    .dataframe tbody tr th {\n",
       "        vertical-align: top;\n",
       "    }\n",
       "\n",
       "    .dataframe thead th {\n",
       "        text-align: right;\n",
       "    }\n",
       "</style>\n",
       "<table border=\"1\" class=\"dataframe\">\n",
       "  <thead>\n",
       "    <tr style=\"text-align: right;\">\n",
       "      <th></th>\n",
       "      <th>category</th>\n",
       "      <th>tagged_in_context</th>\n",
       "      <th>label</th>\n",
       "    </tr>\n",
       "  </thead>\n",
       "  <tbody>\n",
       "    <tr>\n",
       "      <th>0</th>\n",
       "      <td>flag_waving</td>\n",
       "      <td>American people</td>\n",
       "      <td>4</td>\n",
       "    </tr>\n",
       "    <tr>\n",
       "      <th>1</th>\n",
       "      <td>loaded_language</td>\n",
       "      <td>annihilated</td>\n",
       "      <td>5</td>\n",
       "    </tr>\n",
       "    <tr>\n",
       "      <th>2</th>\n",
       "      <td>doubt</td>\n",
       "      <td>so-called evidence</td>\n",
       "      <td>2</td>\n",
       "    </tr>\n",
       "    <tr>\n",
       "      <th>3</th>\n",
       "      <td>name_calling,labeling</td>\n",
       "      <td>hateful conduct</td>\n",
       "      <td>6</td>\n",
       "    </tr>\n",
       "    <tr>\n",
       "      <th>4</th>\n",
       "      <td>appeal_to_fear_prejudice</td>\n",
       "      <td>point to Iran’s positioning itself for more ag...</td>\n",
       "      <td>0</td>\n",
       "    </tr>\n",
       "  </tbody>\n",
       "</table>\n",
       "</div>"
      ],
      "text/plain": [
       "                   category  \\\n",
       "0               flag_waving   \n",
       "1           loaded_language   \n",
       "2                     doubt   \n",
       "3     name_calling,labeling   \n",
       "4  appeal_to_fear_prejudice   \n",
       "\n",
       "                                   tagged_in_context  label  \n",
       "0                                    American people      4  \n",
       "1                                        annihilated      5  \n",
       "2                                 so-called evidence      2  \n",
       "3                                    hateful conduct      6  \n",
       "4  point to Iran’s positioning itself for more ag...      0  "
      ]
     },
     "execution_count": 210,
     "metadata": {},
     "output_type": "execute_result"
    }
   ],
   "source": [
    "prop_train_data = extract_st_ed_word(multi_class_labelled_train)\n",
    "\n",
    "prop_train_data.head()"
   ]
  },
  {
   "cell_type": "code",
   "execution_count": 211,
   "metadata": {
    "id": "elR-eiETPCYC"
   },
   "outputs": [],
   "source": [
    "p_train = prop_train_data.drop(['category'], axis =1)\n",
    "p_test = prop_test_data.drop(['category'], axis =1)"
   ]
  },
  {
   "cell_type": "code",
   "execution_count": 212,
   "metadata": {
    "id": "yoYMnrS4P6JI"
   },
   "outputs": [],
   "source": [
    "# p_train.head()"
   ]
  },
  {
   "cell_type": "code",
   "execution_count": 213,
   "metadata": {
    "id": "NkK3Ir8bzoK6"
   },
   "outputs": [],
   "source": [
    "# p_test.head()"
   ]
  },
  {
   "cell_type": "code",
   "execution_count": 214,
   "metadata": {
    "id": "sT9zTSoEQs97"
   },
   "outputs": [],
   "source": [
    "Xsents_train = list(p_train.tagged_in_context)\n",
    "Xsents_test_ = list(p_test.tagged_in_context)\n",
    "\n",
    "Y_train = list(p_train.label)\n",
    "Y_test_ = list(p_test.label)"
   ]
  },
  {
   "cell_type": "code",
   "execution_count": 215,
   "metadata": {
    "id": "uekLZ7rYyeoG"
   },
   "outputs": [],
   "source": [
    "pipeline = Pipeline([\n",
    "    ('vect', CountVectorizer()),\n",
    "    ('clf', MultinomialNB())\n",
    "])"
   ]
  },
  {
   "cell_type": "code",
   "execution_count": 216,
   "metadata": {
    "id": "K83cHdTyyyGo"
   },
   "outputs": [
    {
     "data": {
      "text/html": [
       "<style>#sk-container-id-2 {\n",
       "  /* Definition of color scheme common for light and dark mode */\n",
       "  --sklearn-color-text: black;\n",
       "  --sklearn-color-line: gray;\n",
       "  /* Definition of color scheme for unfitted estimators */\n",
       "  --sklearn-color-unfitted-level-0: #fff5e6;\n",
       "  --sklearn-color-unfitted-level-1: #f6e4d2;\n",
       "  --sklearn-color-unfitted-level-2: #ffe0b3;\n",
       "  --sklearn-color-unfitted-level-3: chocolate;\n",
       "  /* Definition of color scheme for fitted estimators */\n",
       "  --sklearn-color-fitted-level-0: #f0f8ff;\n",
       "  --sklearn-color-fitted-level-1: #d4ebff;\n",
       "  --sklearn-color-fitted-level-2: #b3dbfd;\n",
       "  --sklearn-color-fitted-level-3: cornflowerblue;\n",
       "\n",
       "  /* Specific color for light theme */\n",
       "  --sklearn-color-text-on-default-background: var(--sg-text-color, var(--theme-code-foreground, var(--jp-content-font-color1, black)));\n",
       "  --sklearn-color-background: var(--sg-background-color, var(--theme-background, var(--jp-layout-color0, white)));\n",
       "  --sklearn-color-border-box: var(--sg-text-color, var(--theme-code-foreground, var(--jp-content-font-color1, black)));\n",
       "  --sklearn-color-icon: #696969;\n",
       "\n",
       "  @media (prefers-color-scheme: dark) {\n",
       "    /* Redefinition of color scheme for dark theme */\n",
       "    --sklearn-color-text-on-default-background: var(--sg-text-color, var(--theme-code-foreground, var(--jp-content-font-color1, white)));\n",
       "    --sklearn-color-background: var(--sg-background-color, var(--theme-background, var(--jp-layout-color0, #111)));\n",
       "    --sklearn-color-border-box: var(--sg-text-color, var(--theme-code-foreground, var(--jp-content-font-color1, white)));\n",
       "    --sklearn-color-icon: #878787;\n",
       "  }\n",
       "}\n",
       "\n",
       "#sk-container-id-2 {\n",
       "  color: var(--sklearn-color-text);\n",
       "}\n",
       "\n",
       "#sk-container-id-2 pre {\n",
       "  padding: 0;\n",
       "}\n",
       "\n",
       "#sk-container-id-2 input.sk-hidden--visually {\n",
       "  border: 0;\n",
       "  clip: rect(1px 1px 1px 1px);\n",
       "  clip: rect(1px, 1px, 1px, 1px);\n",
       "  height: 1px;\n",
       "  margin: -1px;\n",
       "  overflow: hidden;\n",
       "  padding: 0;\n",
       "  position: absolute;\n",
       "  width: 1px;\n",
       "}\n",
       "\n",
       "#sk-container-id-2 div.sk-dashed-wrapped {\n",
       "  border: 1px dashed var(--sklearn-color-line);\n",
       "  margin: 0 0.4em 0.5em 0.4em;\n",
       "  box-sizing: border-box;\n",
       "  padding-bottom: 0.4em;\n",
       "  background-color: var(--sklearn-color-background);\n",
       "}\n",
       "\n",
       "#sk-container-id-2 div.sk-container {\n",
       "  /* jupyter's `normalize.less` sets `[hidden] { display: none; }`\n",
       "     but bootstrap.min.css set `[hidden] { display: none !important; }`\n",
       "     so we also need the `!important` here to be able to override the\n",
       "     default hidden behavior on the sphinx rendered scikit-learn.org.\n",
       "     See: https://github.com/scikit-learn/scikit-learn/issues/21755 */\n",
       "  display: inline-block !important;\n",
       "  position: relative;\n",
       "}\n",
       "\n",
       "#sk-container-id-2 div.sk-text-repr-fallback {\n",
       "  display: none;\n",
       "}\n",
       "\n",
       "div.sk-parallel-item,\n",
       "div.sk-serial,\n",
       "div.sk-item {\n",
       "  /* draw centered vertical line to link estimators */\n",
       "  background-image: linear-gradient(var(--sklearn-color-text-on-default-background), var(--sklearn-color-text-on-default-background));\n",
       "  background-size: 2px 100%;\n",
       "  background-repeat: no-repeat;\n",
       "  background-position: center center;\n",
       "}\n",
       "\n",
       "/* Parallel-specific style estimator block */\n",
       "\n",
       "#sk-container-id-2 div.sk-parallel-item::after {\n",
       "  content: \"\";\n",
       "  width: 100%;\n",
       "  border-bottom: 2px solid var(--sklearn-color-text-on-default-background);\n",
       "  flex-grow: 1;\n",
       "}\n",
       "\n",
       "#sk-container-id-2 div.sk-parallel {\n",
       "  display: flex;\n",
       "  align-items: stretch;\n",
       "  justify-content: center;\n",
       "  background-color: var(--sklearn-color-background);\n",
       "  position: relative;\n",
       "}\n",
       "\n",
       "#sk-container-id-2 div.sk-parallel-item {\n",
       "  display: flex;\n",
       "  flex-direction: column;\n",
       "}\n",
       "\n",
       "#sk-container-id-2 div.sk-parallel-item:first-child::after {\n",
       "  align-self: flex-end;\n",
       "  width: 50%;\n",
       "}\n",
       "\n",
       "#sk-container-id-2 div.sk-parallel-item:last-child::after {\n",
       "  align-self: flex-start;\n",
       "  width: 50%;\n",
       "}\n",
       "\n",
       "#sk-container-id-2 div.sk-parallel-item:only-child::after {\n",
       "  width: 0;\n",
       "}\n",
       "\n",
       "/* Serial-specific style estimator block */\n",
       "\n",
       "#sk-container-id-2 div.sk-serial {\n",
       "  display: flex;\n",
       "  flex-direction: column;\n",
       "  align-items: center;\n",
       "  background-color: var(--sklearn-color-background);\n",
       "  padding-right: 1em;\n",
       "  padding-left: 1em;\n",
       "}\n",
       "\n",
       "\n",
       "/* Toggleable style: style used for estimator/Pipeline/ColumnTransformer box that is\n",
       "clickable and can be expanded/collapsed.\n",
       "- Pipeline and ColumnTransformer use this feature and define the default style\n",
       "- Estimators will overwrite some part of the style using the `sk-estimator` class\n",
       "*/\n",
       "\n",
       "/* Pipeline and ColumnTransformer style (default) */\n",
       "\n",
       "#sk-container-id-2 div.sk-toggleable {\n",
       "  /* Default theme specific background. It is overwritten whether we have a\n",
       "  specific estimator or a Pipeline/ColumnTransformer */\n",
       "  background-color: var(--sklearn-color-background);\n",
       "}\n",
       "\n",
       "/* Toggleable label */\n",
       "#sk-container-id-2 label.sk-toggleable__label {\n",
       "  cursor: pointer;\n",
       "  display: block;\n",
       "  width: 100%;\n",
       "  margin-bottom: 0;\n",
       "  padding: 0.5em;\n",
       "  box-sizing: border-box;\n",
       "  text-align: center;\n",
       "}\n",
       "\n",
       "#sk-container-id-2 label.sk-toggleable__label-arrow:before {\n",
       "  /* Arrow on the left of the label */\n",
       "  content: \"▸\";\n",
       "  float: left;\n",
       "  margin-right: 0.25em;\n",
       "  color: var(--sklearn-color-icon);\n",
       "}\n",
       "\n",
       "#sk-container-id-2 label.sk-toggleable__label-arrow:hover:before {\n",
       "  color: var(--sklearn-color-text);\n",
       "}\n",
       "\n",
       "/* Toggleable content - dropdown */\n",
       "\n",
       "#sk-container-id-2 div.sk-toggleable__content {\n",
       "  max-height: 0;\n",
       "  max-width: 0;\n",
       "  overflow: hidden;\n",
       "  text-align: left;\n",
       "  /* unfitted */\n",
       "  background-color: var(--sklearn-color-unfitted-level-0);\n",
       "}\n",
       "\n",
       "#sk-container-id-2 div.sk-toggleable__content.fitted {\n",
       "  /* fitted */\n",
       "  background-color: var(--sklearn-color-fitted-level-0);\n",
       "}\n",
       "\n",
       "#sk-container-id-2 div.sk-toggleable__content pre {\n",
       "  margin: 0.2em;\n",
       "  border-radius: 0.25em;\n",
       "  color: var(--sklearn-color-text);\n",
       "  /* unfitted */\n",
       "  background-color: var(--sklearn-color-unfitted-level-0);\n",
       "}\n",
       "\n",
       "#sk-container-id-2 div.sk-toggleable__content.fitted pre {\n",
       "  /* unfitted */\n",
       "  background-color: var(--sklearn-color-fitted-level-0);\n",
       "}\n",
       "\n",
       "#sk-container-id-2 input.sk-toggleable__control:checked~div.sk-toggleable__content {\n",
       "  /* Expand drop-down */\n",
       "  max-height: 200px;\n",
       "  max-width: 100%;\n",
       "  overflow: auto;\n",
       "}\n",
       "\n",
       "#sk-container-id-2 input.sk-toggleable__control:checked~label.sk-toggleable__label-arrow:before {\n",
       "  content: \"▾\";\n",
       "}\n",
       "\n",
       "/* Pipeline/ColumnTransformer-specific style */\n",
       "\n",
       "#sk-container-id-2 div.sk-label input.sk-toggleable__control:checked~label.sk-toggleable__label {\n",
       "  color: var(--sklearn-color-text);\n",
       "  background-color: var(--sklearn-color-unfitted-level-2);\n",
       "}\n",
       "\n",
       "#sk-container-id-2 div.sk-label.fitted input.sk-toggleable__control:checked~label.sk-toggleable__label {\n",
       "  background-color: var(--sklearn-color-fitted-level-2);\n",
       "}\n",
       "\n",
       "/* Estimator-specific style */\n",
       "\n",
       "/* Colorize estimator box */\n",
       "#sk-container-id-2 div.sk-estimator input.sk-toggleable__control:checked~label.sk-toggleable__label {\n",
       "  /* unfitted */\n",
       "  background-color: var(--sklearn-color-unfitted-level-2);\n",
       "}\n",
       "\n",
       "#sk-container-id-2 div.sk-estimator.fitted input.sk-toggleable__control:checked~label.sk-toggleable__label {\n",
       "  /* fitted */\n",
       "  background-color: var(--sklearn-color-fitted-level-2);\n",
       "}\n",
       "\n",
       "#sk-container-id-2 div.sk-label label.sk-toggleable__label,\n",
       "#sk-container-id-2 div.sk-label label {\n",
       "  /* The background is the default theme color */\n",
       "  color: var(--sklearn-color-text-on-default-background);\n",
       "}\n",
       "\n",
       "/* On hover, darken the color of the background */\n",
       "#sk-container-id-2 div.sk-label:hover label.sk-toggleable__label {\n",
       "  color: var(--sklearn-color-text);\n",
       "  background-color: var(--sklearn-color-unfitted-level-2);\n",
       "}\n",
       "\n",
       "/* Label box, darken color on hover, fitted */\n",
       "#sk-container-id-2 div.sk-label.fitted:hover label.sk-toggleable__label.fitted {\n",
       "  color: var(--sklearn-color-text);\n",
       "  background-color: var(--sklearn-color-fitted-level-2);\n",
       "}\n",
       "\n",
       "/* Estimator label */\n",
       "\n",
       "#sk-container-id-2 div.sk-label label {\n",
       "  font-family: monospace;\n",
       "  font-weight: bold;\n",
       "  display: inline-block;\n",
       "  line-height: 1.2em;\n",
       "}\n",
       "\n",
       "#sk-container-id-2 div.sk-label-container {\n",
       "  text-align: center;\n",
       "}\n",
       "\n",
       "/* Estimator-specific */\n",
       "#sk-container-id-2 div.sk-estimator {\n",
       "  font-family: monospace;\n",
       "  border: 1px dotted var(--sklearn-color-border-box);\n",
       "  border-radius: 0.25em;\n",
       "  box-sizing: border-box;\n",
       "  margin-bottom: 0.5em;\n",
       "  /* unfitted */\n",
       "  background-color: var(--sklearn-color-unfitted-level-0);\n",
       "}\n",
       "\n",
       "#sk-container-id-2 div.sk-estimator.fitted {\n",
       "  /* fitted */\n",
       "  background-color: var(--sklearn-color-fitted-level-0);\n",
       "}\n",
       "\n",
       "/* on hover */\n",
       "#sk-container-id-2 div.sk-estimator:hover {\n",
       "  /* unfitted */\n",
       "  background-color: var(--sklearn-color-unfitted-level-2);\n",
       "}\n",
       "\n",
       "#sk-container-id-2 div.sk-estimator.fitted:hover {\n",
       "  /* fitted */\n",
       "  background-color: var(--sklearn-color-fitted-level-2);\n",
       "}\n",
       "\n",
       "/* Specification for estimator info (e.g. \"i\" and \"?\") */\n",
       "\n",
       "/* Common style for \"i\" and \"?\" */\n",
       "\n",
       ".sk-estimator-doc-link,\n",
       "a:link.sk-estimator-doc-link,\n",
       "a:visited.sk-estimator-doc-link {\n",
       "  float: right;\n",
       "  font-size: smaller;\n",
       "  line-height: 1em;\n",
       "  font-family: monospace;\n",
       "  background-color: var(--sklearn-color-background);\n",
       "  border-radius: 1em;\n",
       "  height: 1em;\n",
       "  width: 1em;\n",
       "  text-decoration: none !important;\n",
       "  margin-left: 1ex;\n",
       "  /* unfitted */\n",
       "  border: var(--sklearn-color-unfitted-level-1) 1pt solid;\n",
       "  color: var(--sklearn-color-unfitted-level-1);\n",
       "}\n",
       "\n",
       ".sk-estimator-doc-link.fitted,\n",
       "a:link.sk-estimator-doc-link.fitted,\n",
       "a:visited.sk-estimator-doc-link.fitted {\n",
       "  /* fitted */\n",
       "  border: var(--sklearn-color-fitted-level-1) 1pt solid;\n",
       "  color: var(--sklearn-color-fitted-level-1);\n",
       "}\n",
       "\n",
       "/* On hover */\n",
       "div.sk-estimator:hover .sk-estimator-doc-link:hover,\n",
       ".sk-estimator-doc-link:hover,\n",
       "div.sk-label-container:hover .sk-estimator-doc-link:hover,\n",
       ".sk-estimator-doc-link:hover {\n",
       "  /* unfitted */\n",
       "  background-color: var(--sklearn-color-unfitted-level-3);\n",
       "  color: var(--sklearn-color-background);\n",
       "  text-decoration: none;\n",
       "}\n",
       "\n",
       "div.sk-estimator.fitted:hover .sk-estimator-doc-link.fitted:hover,\n",
       ".sk-estimator-doc-link.fitted:hover,\n",
       "div.sk-label-container:hover .sk-estimator-doc-link.fitted:hover,\n",
       ".sk-estimator-doc-link.fitted:hover {\n",
       "  /* fitted */\n",
       "  background-color: var(--sklearn-color-fitted-level-3);\n",
       "  color: var(--sklearn-color-background);\n",
       "  text-decoration: none;\n",
       "}\n",
       "\n",
       "/* Span, style for the box shown on hovering the info icon */\n",
       ".sk-estimator-doc-link span {\n",
       "  display: none;\n",
       "  z-index: 9999;\n",
       "  position: relative;\n",
       "  font-weight: normal;\n",
       "  right: .2ex;\n",
       "  padding: .5ex;\n",
       "  margin: .5ex;\n",
       "  width: min-content;\n",
       "  min-width: 20ex;\n",
       "  max-width: 50ex;\n",
       "  color: var(--sklearn-color-text);\n",
       "  box-shadow: 2pt 2pt 4pt #999;\n",
       "  /* unfitted */\n",
       "  background: var(--sklearn-color-unfitted-level-0);\n",
       "  border: .5pt solid var(--sklearn-color-unfitted-level-3);\n",
       "}\n",
       "\n",
       ".sk-estimator-doc-link.fitted span {\n",
       "  /* fitted */\n",
       "  background: var(--sklearn-color-fitted-level-0);\n",
       "  border: var(--sklearn-color-fitted-level-3);\n",
       "}\n",
       "\n",
       ".sk-estimator-doc-link:hover span {\n",
       "  display: block;\n",
       "}\n",
       "\n",
       "/* \"?\"-specific style due to the `<a>` HTML tag */\n",
       "\n",
       "#sk-container-id-2 a.estimator_doc_link {\n",
       "  float: right;\n",
       "  font-size: 1rem;\n",
       "  line-height: 1em;\n",
       "  font-family: monospace;\n",
       "  background-color: var(--sklearn-color-background);\n",
       "  border-radius: 1rem;\n",
       "  height: 1rem;\n",
       "  width: 1rem;\n",
       "  text-decoration: none;\n",
       "  /* unfitted */\n",
       "  color: var(--sklearn-color-unfitted-level-1);\n",
       "  border: var(--sklearn-color-unfitted-level-1) 1pt solid;\n",
       "}\n",
       "\n",
       "#sk-container-id-2 a.estimator_doc_link.fitted {\n",
       "  /* fitted */\n",
       "  border: var(--sklearn-color-fitted-level-1) 1pt solid;\n",
       "  color: var(--sklearn-color-fitted-level-1);\n",
       "}\n",
       "\n",
       "/* On hover */\n",
       "#sk-container-id-2 a.estimator_doc_link:hover {\n",
       "  /* unfitted */\n",
       "  background-color: var(--sklearn-color-unfitted-level-3);\n",
       "  color: var(--sklearn-color-background);\n",
       "  text-decoration: none;\n",
       "}\n",
       "\n",
       "#sk-container-id-2 a.estimator_doc_link.fitted:hover {\n",
       "  /* fitted */\n",
       "  background-color: var(--sklearn-color-fitted-level-3);\n",
       "}\n",
       "</style><div id=\"sk-container-id-2\" class=\"sk-top-container\"><div class=\"sk-text-repr-fallback\"><pre>Pipeline(steps=[(&#x27;vect&#x27;, CountVectorizer()), (&#x27;clf&#x27;, MultinomialNB())])</pre><b>In a Jupyter environment, please rerun this cell to show the HTML representation or trust the notebook. <br />On GitHub, the HTML representation is unable to render, please try loading this page with nbviewer.org.</b></div><div class=\"sk-container\" hidden><div class=\"sk-item sk-dashed-wrapped\"><div class=\"sk-label-container\"><div class=\"sk-label fitted sk-toggleable\"><input class=\"sk-toggleable__control sk-hidden--visually\" id=\"sk-estimator-id-2\" type=\"checkbox\" ><label for=\"sk-estimator-id-2\" class=\"sk-toggleable__label fitted sk-toggleable__label-arrow fitted\">&nbsp;&nbsp;Pipeline<a class=\"sk-estimator-doc-link fitted\" rel=\"noreferrer\" target=\"_blank\" href=\"https://scikit-learn.org/1.4/modules/generated/sklearn.pipeline.Pipeline.html\">?<span>Documentation for Pipeline</span></a><span class=\"sk-estimator-doc-link fitted\">i<span>Fitted</span></span></label><div class=\"sk-toggleable__content fitted\"><pre>Pipeline(steps=[(&#x27;vect&#x27;, CountVectorizer()), (&#x27;clf&#x27;, MultinomialNB())])</pre></div> </div></div><div class=\"sk-serial\"><div class=\"sk-item\"><div class=\"sk-estimator fitted sk-toggleable\"><input class=\"sk-toggleable__control sk-hidden--visually\" id=\"sk-estimator-id-3\" type=\"checkbox\" ><label for=\"sk-estimator-id-3\" class=\"sk-toggleable__label fitted sk-toggleable__label-arrow fitted\">&nbsp;CountVectorizer<a class=\"sk-estimator-doc-link fitted\" rel=\"noreferrer\" target=\"_blank\" href=\"https://scikit-learn.org/1.4/modules/generated/sklearn.feature_extraction.text.CountVectorizer.html\">?<span>Documentation for CountVectorizer</span></a></label><div class=\"sk-toggleable__content fitted\"><pre>CountVectorizer()</pre></div> </div></div><div class=\"sk-item\"><div class=\"sk-estimator fitted sk-toggleable\"><input class=\"sk-toggleable__control sk-hidden--visually\" id=\"sk-estimator-id-4\" type=\"checkbox\" ><label for=\"sk-estimator-id-4\" class=\"sk-toggleable__label fitted sk-toggleable__label-arrow fitted\">&nbsp;MultinomialNB<a class=\"sk-estimator-doc-link fitted\" rel=\"noreferrer\" target=\"_blank\" href=\"https://scikit-learn.org/1.4/modules/generated/sklearn.naive_bayes.MultinomialNB.html\">?<span>Documentation for MultinomialNB</span></a></label><div class=\"sk-toggleable__content fitted\"><pre>MultinomialNB()</pre></div> </div></div></div></div></div></div>"
      ],
      "text/plain": [
       "Pipeline(steps=[('vect', CountVectorizer()), ('clf', MultinomialNB())])"
      ]
     },
     "execution_count": 216,
     "metadata": {},
     "output_type": "execute_result"
    }
   ],
   "source": [
    "pipeline.fit(Xsents_train, Y_train)"
   ]
  },
  {
   "cell_type": "code",
   "execution_count": 217,
   "metadata": {
    "id": "qeVyD8jJ3kis"
   },
   "outputs": [],
   "source": [
    "y_pred_ = pipeline.predict(Xsents_test_)"
   ]
  },
  {
   "cell_type": "code",
   "execution_count": 218,
   "metadata": {
    "id": "1ePd8lyD3nEl"
   },
   "outputs": [
    {
     "data": {
      "image/png": "[encoded data removed]",
      "text/plain": [
       "<Figure size 640x480 with 2 Axes>"
      ]
     },
     "metadata": {},
     "output_type": "display_data"
    }
   ],
   "source": [
    "report_nb_mul_clf = classification_report(Y_test_, y_pred_, output_dict= True)\n",
    "plot_heatmap(report_nb_mul_clf,'naive bayes multi-classification')\n"
   ]
  },
  {
   "cell_type": "code",
   "execution_count": null,
   "metadata": {
    "tags": []
   },
   "outputs": [],
   "source": []
  },
  {
   "cell_type": "markdown",
   "metadata": {
    "id": "-w2eEOgWzuHH"
   },
   "source": [
    "# Method 2 : BERT"
   ]
  },
  {
   "cell_type": "code",
   "execution_count": 220,
   "metadata": {
    "id": "6_rszesIzyL6"
   },
   "outputs": [
    {
     "data": {
      "text/html": [
       "<div>\n",
       "<style scoped>\n",
       "    .dataframe tbody tr th:only-of-type {\n",
       "        vertical-align: middle;\n",
       "    }\n",
       "\n",
       "    .dataframe tbody tr th {\n",
       "        vertical-align: top;\n",
       "    }\n",
       "\n",
       "    .dataframe thead th {\n",
       "        text-align: right;\n",
       "    }\n",
       "</style>\n",
       "<table border=\"1\" class=\"dataframe\">\n",
       "  <thead>\n",
       "    <tr style=\"text-align: right;\">\n",
       "      <th></th>\n",
       "      <th>tagged_in_context</th>\n",
       "      <th>label</th>\n",
       "    </tr>\n",
       "  </thead>\n",
       "  <tbody>\n",
       "    <tr>\n",
       "      <th>0</th>\n",
       "      <td>American people</td>\n",
       "      <td>4</td>\n",
       "    </tr>\n",
       "    <tr>\n",
       "      <th>1</th>\n",
       "      <td>annihilated</td>\n",
       "      <td>5</td>\n",
       "    </tr>\n",
       "    <tr>\n",
       "      <th>2</th>\n",
       "      <td>so-called evidence</td>\n",
       "      <td>2</td>\n",
       "    </tr>\n",
       "    <tr>\n",
       "      <th>3</th>\n",
       "      <td>hateful conduct</td>\n",
       "      <td>6</td>\n",
       "    </tr>\n",
       "    <tr>\n",
       "      <th>4</th>\n",
       "      <td>point to Iran’s positioning itself for more ag...</td>\n",
       "      <td>0</td>\n",
       "    </tr>\n",
       "  </tbody>\n",
       "</table>\n",
       "</div>"
      ],
      "text/plain": [
       "                                   tagged_in_context  label\n",
       "0                                    American people      4\n",
       "1                                        annihilated      5\n",
       "2                                 so-called evidence      2\n",
       "3                                    hateful conduct      6\n",
       "4  point to Iran’s positioning itself for more ag...      0"
      ]
     },
     "execution_count": 220,
     "metadata": {},
     "output_type": "execute_result"
    }
   ],
   "source": [
    "p_train.head()"
   ]
  },
  {
   "cell_type": "code",
   "execution_count": 221,
   "metadata": {
    "id": "rSA7x5jcz4pV"
   },
   "outputs": [
    {
     "data": {
      "text/html": [
       "<div>\n",
       "<style scoped>\n",
       "    .dataframe tbody tr th:only-of-type {\n",
       "        vertical-align: middle;\n",
       "    }\n",
       "\n",
       "    .dataframe tbody tr th {\n",
       "        vertical-align: top;\n",
       "    }\n",
       "\n",
       "    .dataframe thead th {\n",
       "        text-align: right;\n",
       "    }\n",
       "</style>\n",
       "<table border=\"1\" class=\"dataframe\">\n",
       "  <thead>\n",
       "    <tr style=\"text-align: right;\">\n",
       "      <th></th>\n",
       "      <th>tagged_in_context</th>\n",
       "      <th>label</th>\n",
       "    </tr>\n",
       "  </thead>\n",
       "  <tbody>\n",
       "    <tr>\n",
       "      <th>0</th>\n",
       "      <td>the country would not last long without an out...</td>\n",
       "      <td>1</td>\n",
       "    </tr>\n",
       "    <tr>\n",
       "      <th>1</th>\n",
       "      <td>gets Earl Warren and Sen. Richard Russel to jo...</td>\n",
       "      <td>0</td>\n",
       "    </tr>\n",
       "    <tr>\n",
       "      <th>2</th>\n",
       "      <td>infidels</td>\n",
       "      <td>7</td>\n",
       "    </tr>\n",
       "    <tr>\n",
       "      <th>3</th>\n",
       "      <td>the \"gay lifestyle</td>\n",
       "      <td>6</td>\n",
       "    </tr>\n",
       "    <tr>\n",
       "      <th>4</th>\n",
       "      <td>devastating communities</td>\n",
       "      <td>5</td>\n",
       "    </tr>\n",
       "  </tbody>\n",
       "</table>\n",
       "</div>"
      ],
      "text/plain": [
       "                                   tagged_in_context  label\n",
       "0  the country would not last long without an out...      1\n",
       "1  gets Earl Warren and Sen. Richard Russel to jo...      0\n",
       "2                                           infidels      7\n",
       "3                                 the \"gay lifestyle      6\n",
       "4                            devastating communities      5"
      ]
     },
     "execution_count": 221,
     "metadata": {},
     "output_type": "execute_result"
    }
   ],
   "source": [
    "p_test.head()"
   ]
  },
  {
   "cell_type": "code",
   "execution_count": 222,
   "metadata": {
    "id": "qAEpNoDM1qTv"
   },
   "outputs": [],
   "source": [
    "p_train_df = pd.DataFrame()\n",
    "p_test_df = pd.DataFrame()\n",
    "\n",
    "p_train_df['tagged_in_context'] = p_train['tagged_in_context']\n",
    "p_test_df['tagged_in_context'] = p_test['tagged_in_context']\n",
    "\n",
    "p_train_df['label'] = p_train['label'].map(ids_labels2)\n",
    "\n",
    "p_test_df['label'] = p_test['label'].map(ids_labels2)"
   ]
  },
  {
   "cell_type": "code",
   "execution_count": 223,
   "metadata": {
    "id": "yJw9Fmcf4WKg"
   },
   "outputs": [
    {
     "data": {
      "text/html": [
       "<div>\n",
       "<style scoped>\n",
       "    .dataframe tbody tr th:only-of-type {\n",
       "        vertical-align: middle;\n",
       "    }\n",
       "\n",
       "    .dataframe tbody tr th {\n",
       "        vertical-align: top;\n",
       "    }\n",
       "\n",
       "    .dataframe thead th {\n",
       "        text-align: right;\n",
       "    }\n",
       "</style>\n",
       "<table border=\"1\" class=\"dataframe\">\n",
       "  <thead>\n",
       "    <tr style=\"text-align: right;\">\n",
       "      <th></th>\n",
       "      <th>tagged_in_context</th>\n",
       "      <th>label</th>\n",
       "    </tr>\n",
       "  </thead>\n",
       "  <tbody>\n",
       "    <tr>\n",
       "      <th>0</th>\n",
       "      <td>American people</td>\n",
       "      <td>flag_waving</td>\n",
       "    </tr>\n",
       "    <tr>\n",
       "      <th>1</th>\n",
       "      <td>annihilated</td>\n",
       "      <td>loaded_language</td>\n",
       "    </tr>\n",
       "    <tr>\n",
       "      <th>2</th>\n",
       "      <td>so-called evidence</td>\n",
       "      <td>doubt</td>\n",
       "    </tr>\n",
       "    <tr>\n",
       "      <th>3</th>\n",
       "      <td>hateful conduct</td>\n",
       "      <td>name_calling,labeling</td>\n",
       "    </tr>\n",
       "    <tr>\n",
       "      <th>4</th>\n",
       "      <td>point to Iran’s positioning itself for more ag...</td>\n",
       "      <td>appeal_to_fear_prejudice</td>\n",
       "    </tr>\n",
       "  </tbody>\n",
       "</table>\n",
       "</div>"
      ],
      "text/plain": [
       "                                   tagged_in_context                     label\n",
       "0                                    American people               flag_waving\n",
       "1                                        annihilated           loaded_language\n",
       "2                                 so-called evidence                     doubt\n",
       "3                                    hateful conduct     name_calling,labeling\n",
       "4  point to Iran’s positioning itself for more ag...  appeal_to_fear_prejudice"
      ]
     },
     "execution_count": 223,
     "metadata": {},
     "output_type": "execute_result"
    }
   ],
   "source": [
    "p_train_df.head()"
   ]
  },
  {
   "cell_type": "code",
   "execution_count": 224,
   "metadata": {
    "id": "gyoMZtZw2LFF"
   },
   "outputs": [
    {
     "data": {
      "text/html": [
       "<div>\n",
       "<style scoped>\n",
       "    .dataframe tbody tr th:only-of-type {\n",
       "        vertical-align: middle;\n",
       "    }\n",
       "\n",
       "    .dataframe tbody tr th {\n",
       "        vertical-align: top;\n",
       "    }\n",
       "\n",
       "    .dataframe thead th {\n",
       "        text-align: right;\n",
       "    }\n",
       "</style>\n",
       "<table border=\"1\" class=\"dataframe\">\n",
       "  <thead>\n",
       "    <tr style=\"text-align: right;\">\n",
       "      <th></th>\n",
       "      <th>tagged_in_context</th>\n",
       "      <th>label</th>\n",
       "    </tr>\n",
       "  </thead>\n",
       "  <tbody>\n",
       "    <tr>\n",
       "      <th>0</th>\n",
       "      <td>the country would not last long without an out...</td>\n",
       "      <td>causal_oversimplification</td>\n",
       "    </tr>\n",
       "    <tr>\n",
       "      <th>1</th>\n",
       "      <td>gets Earl Warren and Sen. Richard Russel to jo...</td>\n",
       "      <td>appeal_to_fear_prejudice</td>\n",
       "    </tr>\n",
       "    <tr>\n",
       "      <th>2</th>\n",
       "      <td>infidels</td>\n",
       "      <td>repetition</td>\n",
       "    </tr>\n",
       "    <tr>\n",
       "      <th>3</th>\n",
       "      <td>the \"gay lifestyle</td>\n",
       "      <td>name_calling,labeling</td>\n",
       "    </tr>\n",
       "    <tr>\n",
       "      <th>4</th>\n",
       "      <td>devastating communities</td>\n",
       "      <td>loaded_language</td>\n",
       "    </tr>\n",
       "  </tbody>\n",
       "</table>\n",
       "</div>"
      ],
      "text/plain": [
       "                                   tagged_in_context  \\\n",
       "0  the country would not last long without an out...   \n",
       "1  gets Earl Warren and Sen. Richard Russel to jo...   \n",
       "2                                           infidels   \n",
       "3                                 the \"gay lifestyle   \n",
       "4                            devastating communities   \n",
       "\n",
       "                       label  \n",
       "0  causal_oversimplification  \n",
       "1   appeal_to_fear_prejudice  \n",
       "2                 repetition  \n",
       "3      name_calling,labeling  \n",
       "4            loaded_language  "
      ]
     },
     "execution_count": 224,
     "metadata": {},
     "output_type": "execute_result"
    }
   ],
   "source": [
    "p_test_df.head()"
   ]
  },
  {
   "cell_type": "code",
   "execution_count": 225,
   "metadata": {
    "id": "VI3RKvXlvvyn"
   },
   "outputs": [
    {
     "data": {
      "text/plain": [
       "{'appeal_to_fear_prejudice': 0,\n",
       " 'causal_oversimplification': 1,\n",
       " 'doubt': 2,\n",
       " 'exaggeration,minimisation': 3,\n",
       " 'flag_waving': 4,\n",
       " 'loaded_language': 5,\n",
       " 'name_calling,labeling': 6,\n",
       " 'repetition': 7}"
      ]
     },
     "execution_count": 225,
     "metadata": {},
     "output_type": "execute_result"
    }
   ],
   "source": [
    "labels2"
   ]
  },
  {
   "cell_type": "code",
   "execution_count": 226,
   "metadata": {
    "id": "eVEDhfZpvy3a"
   },
   "outputs": [
    {
     "data": {
      "text/plain": [
       "{0: 'appeal_to_fear_prejudice',\n",
       " 1: 'causal_oversimplification',\n",
       " 2: 'doubt',\n",
       " 3: 'exaggeration,minimisation',\n",
       " 4: 'flag_waving',\n",
       " 5: 'loaded_language',\n",
       " 6: 'name_calling,labeling',\n",
       " 7: 'repetition'}"
      ]
     },
     "execution_count": 226,
     "metadata": {},
     "output_type": "execute_result"
    }
   ],
   "source": [
    "ids_labels2"
   ]
  },
  {
   "cell_type": "code",
   "execution_count": 227,
   "metadata": {
    "id": "oNYW4w651LlH"
   },
   "outputs": [],
   "source": [
    "train_data2 = Dataset_Multi(p_train_df)\n",
    "test_data2 = Dataset_Multi(p_test_df)"
   ]
  },
  {
   "cell_type": "code",
   "execution_count": 228,
   "metadata": {
    "id": "CE5IL1pOCY0u"
   },
   "outputs": [
    {
     "data": {
      "text/plain": [
       "device(type='cuda')"
      ]
     },
     "execution_count": 228,
     "metadata": {},
     "output_type": "execute_result"
    }
   ],
   "source": [
    "device"
   ]
  },
  {
   "cell_type": "code",
   "execution_count": 229,
   "metadata": {
    "id": "F9ZFfJ1mCvEk"
   },
   "outputs": [
    {
     "name": "stdout",
     "output_type": "stream",
     "text": [
      "tensor([[ 101, 2076, 1996,  ...,    0,    0,    0],\n",
      "        [ 101, 5432, 2008,  ...,    0,    0,    0]], device='cuda:0') tensor([[[1, 1, 1,  ..., 0, 0, 0]],\n",
      "\n",
      "        [[1, 1, 1,  ..., 0, 0, 0]]], device='cuda:0') tensor([3, 0], device='cuda:0', dtype=torch.int32)\n",
      "2\n"
     ]
    },
    {
     "data": {
      "text/plain": [
       "tensor([[-0.8522, -0.3706, -0.0628,  ...,  0.2317, -0.6096,  0.8338],\n",
       "        [-0.8647, -0.4742, -0.9684,  ..., -0.9136, -0.6455,  0.6531]],\n",
       "       device='cuda:0', grad_fn=<TanhBackward0>)"
      ]
     },
     "execution_count": 229,
     "metadata": {},
     "output_type": "execute_result"
    }
   ],
   "source": [
    "train_dataloader2 = torch.utils.data.DataLoader(train_data2, batch_size = 2, shuffle = True )\n",
    "bert_model_multi = BertModel.from_pretrained('bert-base-uncased')\n",
    "\n",
    "bert_model_multi.to(device)\n",
    "\n",
    "for train_input, train_label in train_dataloader2:\n",
    "    input_id,mask,label=prepare_inputs(train_input,train_label,device)\n",
    "    output=bert_model_multi(input_ids=input_id,attention_mask=mask,return_dict=False)\n",
    "    break\n",
    "\n",
    "print(input_id,mask,label)\n",
    "print(len(output))\n",
    "output[1]"
   ]
  },
  {
   "cell_type": "code",
   "execution_count": 230,
   "metadata": {
    "id": "CtqJZXQTiU-4"
   },
   "outputs": [
    {
     "data": {
      "text/plain": [
       "8"
      ]
     },
     "execution_count": 230,
     "metadata": {},
     "output_type": "execute_result"
    }
   ],
   "source": [
    "len(labels2)"
   ]
  },
  {
   "cell_type": "code",
   "execution_count": 231,
   "metadata": {
    "tags": []
   },
   "outputs": [],
   "source": [
    "class BertMultiClassifierOptims(nn.Module):\n",
    "    def __init__(self, dropout=0.3, num_classes=8):  # Updated number of classes\n",
    "        super(BertMultiClassifierOptims, self).__init__()\n",
    "        self.bert = BertModel.from_pretrained('bert-base-uncased')\n",
    "        self.dropout = nn.Dropout(dropout)\n",
    "        self.linear1 = nn.Linear(768, 256)\n",
    "        self.relu1 = nn.ReLU()\n",
    "        self.dropout2 = nn.Dropout(dropout)\n",
    "        self.linear2 = nn.Linear(256, num_classes)  # Output layer for 8 classes\n",
    "    \n",
    "\n",
    "    def forward(self, input_id, mask):\n",
    "        _, pooled_output = self.bert(input_ids=input_id, attention_mask=mask, return_dict=False)\n",
    "        x = self.dropout(self.relu1(self.linear1(pooled_output)))\n",
    "        x = self.dropout2(x)\n",
    "        x = self.linear2(x)\n",
    "  \n",
    "        return x"
   ]
  },
  {
   "cell_type": "code",
   "execution_count": 232,
   "metadata": {
    "tags": []
   },
   "outputs": [
    {
     "data": {
      "text/plain": [
       "8"
      ]
     },
     "execution_count": 232,
     "metadata": {},
     "output_type": "execute_result"
    }
   ],
   "source": [
    "len(labels2.keys())"
   ]
  },
  {
   "cell_type": "code",
   "execution_count": 233,
   "metadata": {
    "id": "7HUai5cHDT78"
   },
   "outputs": [],
   "source": [
    "EPOCHS = 5\n",
    "model2 = BertMultiClassifier(num_classes=len(labels2.keys()))\n",
    "# model2 = BertMultiClassifierOptims(num_classes=len(labels2.keys()))\n",
    "\n",
    "model2.to(device)\n",
    "LR = 1e-5\n",
    "# model2.bert.requires_grad_(False) "
   ]
  },
  {
   "cell_type": "code",
   "execution_count": 234,
   "metadata": {
    "id": "8dgENP0PDkcq"
   },
   "outputs": [],
   "source": [
    "# train(model2, train_data2, test_data2, LR, EPOCHS)"
   ]
  },
  {
   "cell_type": "code",
   "execution_count": 235,
   "metadata": {
    "id": "blmhD-BQiH_A"
   },
   "outputs": [],
   "source": [
    "# output_dir=\"prop_types_bert_uncased_clf\"\n",
    "# # output_dir=\"multi_bert_optims\"\n",
    "# torch.save(model2,output_dir)"
   ]
  },
  {
   "cell_type": "code",
   "execution_count": 236,
   "metadata": {
    "id": "VEJRtv5VCQvM"
   },
   "outputs": [],
   "source": [
    "intput_dir = 'prop_types_bert_uncased_clf'\n",
    "complete_model_2 = torch.load(intput_dir)"
   ]
  },
  {
   "cell_type": "code",
   "execution_count": 237,
   "metadata": {
    "id": "2aVKSInCyhCP"
   },
   "outputs": [
    {
     "name": "stderr",
     "output_type": "stream",
     "text": [
      "100%|████████████████████████████████████████████████████████████████████████████████| 155/155 [00:06<00:00, 23.10it/s]\n"
     ]
    }
   ],
   "source": [
    "report_bert_mul_clf =evaluate2(complete_model_2, test_data2)"
   ]
  },
  {
   "cell_type": "code",
   "execution_count": 238,
   "metadata": {
    "id": "bfiy52r4zogS"
   },
   "outputs": [
    {
     "data": {
      "image/png": "[encoded data removed]",
      "text/plain": [
       "<Figure size 640x480 with 2 Axes>"
      ]
     },
     "metadata": {},
     "output_type": "display_data"
    }
   ],
   "source": [
    "plot_heatmap(report_bert_mul_clf, 'BERT multi-classification')"
   ]
  },
  {
   "cell_type": "code",
   "execution_count": 239,
   "metadata": {},
   "outputs": [
    {
     "data": {
      "image/png": "[encoded data removed]",
      "text/plain": [
       "<Figure size 1000x400 with 2 Axes>"
      ]
     },
     "metadata": {},
     "output_type": "display_data"
    }
   ],
   "source": [
    "plot_metrics(report_nb_mul_clf, report_bert_mul_clf,\n",
    "            'naive bayes multi-classification', 'BERT multi-classification')"
   ]
  },
  {
   "cell_type": "code",
   "execution_count": null,
   "metadata": {},
   "outputs": [],
   "source": []
  }
 ],
 "metadata": {
  "accelerator": "GPU",
  "colab": {
   "collapsed_sections": [
    "ksIYcPUqyAXL"
   ],
   "gpuType": "T4",
   "provenance": []
  },
  "kernelspec": {
   "display_name": "Python 3 (ipykernel)",
   "language": "python",
   "name": "python3"
  },
  "language_info": {
   "codemirror_mode": {
    "name": "ipython",
    "version": 3
   },
   "file_extension": ".py",
   "mimetype": "text/x-python",
   "name": "python",
   "nbconvert_exporter": "python",
   "pygments_lexer": "ipython3",
   "version": "3.10.13"
  }
 },
 "nbformat": 4,
 "nbformat_minor": 4
}
