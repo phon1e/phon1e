{
  "cells": [
    {
      "cell_type": "markdown",
      "metadata": {
        "id": "view-in-github",
        "colab_type": "text"
      },
      "source": [
        "<a href=\"https://colab.research.google.com/github/phon1e/phon1e/blob/main/google_dl_ipynb_phonie.ipynb\" target=\"_parent\"><img src=\"https://colab.research.google.com/assets/colab-badge.svg\" alt=\"Open In Colab\"/></a>"
      ]
    },
    {
      "cell_type": "markdown",
      "metadata": {
        "id": "gw2uyMbpXW6w"
      },
      "source": [
        "# download lib"
      ]
    },
    {
      "cell_type": "code",
      "execution_count": null,
      "metadata": {
        "colab": {
          "base_uri": "https://localhost:8080/"
        },
        "id": "LsfcfveLXcls",
        "outputId": "40b38667-3739-4143-f9e7-3aab79061164"
      },
      "outputs": [
        {
          "output_type": "stream",
          "name": "stdout",
          "text": [
            "Requirement already satisfied: gdown in /usr/local/lib/python3.11/dist-packages (5.2.0)\n",
            "Requirement already satisfied: beautifulsoup4 in /usr/local/lib/python3.11/dist-packages (from gdown) (4.13.4)\n",
            "Requirement already satisfied: filelock in /usr/local/lib/python3.11/dist-packages (from gdown) (3.18.0)\n",
            "Requirement already satisfied: requests[socks] in /usr/local/lib/python3.11/dist-packages (from gdown) (2.32.3)\n",
            "Requirement already satisfied: tqdm in /usr/local/lib/python3.11/dist-packages (from gdown) (4.67.1)\n",
            "Requirement already satisfied: soupsieve>1.2 in /usr/local/lib/python3.11/dist-packages (from beautifulsoup4->gdown) (2.7)\n",
            "Requirement already satisfied: typing-extensions>=4.0.0 in /usr/local/lib/python3.11/dist-packages (from beautifulsoup4->gdown) (4.14.0)\n",
            "Requirement already satisfied: charset-normalizer<4,>=2 in /usr/local/lib/python3.11/dist-packages (from requests[socks]->gdown) (3.4.2)\n",
            "Requirement already satisfied: idna<4,>=2.5 in /usr/local/lib/python3.11/dist-packages (from requests[socks]->gdown) (3.10)\n",
            "Requirement already satisfied: urllib3<3,>=1.21.1 in /usr/local/lib/python3.11/dist-packages (from requests[socks]->gdown) (2.4.0)\n",
            "Requirement already satisfied: certifi>=2017.4.17 in /usr/local/lib/python3.11/dist-packages (from requests[socks]->gdown) (2025.6.15)\n",
            "Requirement already satisfied: PySocks!=1.5.7,>=1.5.6 in /usr/local/lib/python3.11/dist-packages (from requests[socks]->gdown) (1.7.1)\n"
          ]
        }
      ],
      "source": [
        "! pip install gdown"
      ]
    },
    {
      "cell_type": "code",
      "execution_count": null,
      "metadata": {
        "colab": {
          "base_uri": "https://localhost:8080/"
        },
        "id": "Ecg_XypNuKmA",
        "outputId": "320fa903-a186-4a37-9972-965483de185d"
      },
      "outputs": [
        {
          "output_type": "stream",
          "name": "stdout",
          "text": [
            "Requirement already satisfied: gdown in /usr/local/lib/python3.11/dist-packages (5.2.0)\n",
            "Requirement already satisfied: beautifulsoup4 in /usr/local/lib/python3.11/dist-packages (from gdown) (4.13.4)\n",
            "Requirement already satisfied: filelock in /usr/local/lib/python3.11/dist-packages (from gdown) (3.18.0)\n",
            "Requirement already satisfied: requests[socks] in /usr/local/lib/python3.11/dist-packages (from gdown) (2.32.3)\n",
            "Requirement already satisfied: tqdm in /usr/local/lib/python3.11/dist-packages (from gdown) (4.67.1)\n",
            "Requirement already satisfied: soupsieve>1.2 in /usr/local/lib/python3.11/dist-packages (from beautifulsoup4->gdown) (2.7)\n",
            "Requirement already satisfied: typing-extensions>=4.0.0 in /usr/local/lib/python3.11/dist-packages (from beautifulsoup4->gdown) (4.14.0)\n",
            "Requirement already satisfied: charset-normalizer<4,>=2 in /usr/local/lib/python3.11/dist-packages (from requests[socks]->gdown) (3.4.2)\n",
            "Requirement already satisfied: idna<4,>=2.5 in /usr/local/lib/python3.11/dist-packages (from requests[socks]->gdown) (3.10)\n",
            "Requirement already satisfied: urllib3<3,>=1.21.1 in /usr/local/lib/python3.11/dist-packages (from requests[socks]->gdown) (2.4.0)\n",
            "Requirement already satisfied: certifi>=2017.4.17 in /usr/local/lib/python3.11/dist-packages (from requests[socks]->gdown) (2025.6.15)\n",
            "Requirement already satisfied: PySocks!=1.5.7,>=1.5.6 in /usr/local/lib/python3.11/dist-packages (from requests[socks]->gdown) (1.7.1)\n"
          ]
        }
      ],
      "source": [
        "!pip install gdown -U --no-cache-dir"
      ]
    },
    {
      "cell_type": "code",
      "execution_count": null,
      "metadata": {
        "colab": {
          "base_uri": "https://localhost:8080/"
        },
        "id": "7bR5RruDYurc",
        "outputId": "dce6e875-b4b7-4a67-9794-2ed090c7019a"
      },
      "outputs": [
        {
          "output_type": "stream",
          "name": "stdout",
          "text": [
            "Mounted at /content/drive\n"
          ]
        }
      ],
      "source": [
        "from google.colab import drive\n",
        "drive.mount('/content/drive')"
      ]
    },
    {
      "cell_type": "code",
      "execution_count": null,
      "metadata": {
        "id": "T7eoFhU6kwkD"
      },
      "outputs": [],
      "source": [
        "import gdown\n",
        "import os\n",
        "from tqdm import tqdm\n",
        "import shutil"
      ]
    },
    {
      "cell_type": "markdown",
      "metadata": {
        "id": "0Iz3TjW1cR5d"
      },
      "source": [
        "# CSV"
      ]
    },
    {
      "cell_type": "code",
      "execution_count": null,
      "metadata": {
        "id": "WA_-OLEfab5T"
      },
      "outputs": [],
      "source": [
        "import pandas as pd\n",
        "\n",
        "df = pd.read_csv('/content/drive/MyDrive/odos_additional_docs/odos_data.csv')"
      ]
    },
    {
      "cell_type": "code",
      "execution_count": null,
      "metadata": {
        "colab": {
          "base_uri": "https://localhost:8080/",
          "height": 267
        },
        "id": "MkJGr3O8d4Hu",
        "outputId": "a2e036cf-40ef-4ac0-88d6-e0c3802320f3"
      },
      "outputs": [
        {
          "output_type": "execute_result",
          "data": {
            "text/plain": [
              "   Id   รหัสใบสมัคร ชื่อ (ภาษาไทย) นามสกุล (ภาษาไทย) อำเภอ/เขต ตามทะเบียนบ้าน  \\\n",
              "0   6  S18027386004        อรณิชชา         อินทับทัน                    เมือง   \n",
              "1   7  S18039734800        ศศิวิมน            ร้อยทา                   หนองแค   \n",
              "2   8  S71045472230          นวเรศ         เตียงเกตุ                  ท่าม่วง   \n",
              "\n",
              "  จังหวัดตามทะเบียนบ้าน                    อีเมล  \\\n",
              "0               สระบุรี  onnichchaintt@gmail.com   \n",
              "1               สระบุรี      sasi.rt04@gmail.com   \n",
              "2             กาญจนบุรี  n.nawaret3610@gmail.com   \n",
              "\n",
              "              เอกสารสำคัญ Google Drive Link (Shared)  \\\n",
              "0  https://drive.google.com/drive/folders/1E6jHOB...   \n",
              "1  https://drive.google.com/drive/folders/1dTxvS2...   \n",
              "2  https://drive.google.com/drive/folders/1y4JBAh...   \n",
              "\n",
              "                 แนบ Link Youtube (เปิดแบบ unlisted)  Column1  \n",
              "0  https://youtube.com/shorts/p7Z-4V8MrxU?si=peS6...      NaN  \n",
              "1   https://youtu.be/DXEP08HnHOc?si=FjrEydimXPQefnQC      NaN  \n",
              "2   https://youtu.be/qjAsgDbgPSA?si=yqC2GQvSPyD0Z_3C      NaN  "
            ],
            "text/html": [
              "\n",
              "  <div id=\"df-9df095fc-c600-4aed-8155-7ba885eb06a8\" class=\"colab-df-container\">\n",
              "    <div>\n",
              "<style scoped>\n",
              "    .dataframe tbody tr th:only-of-type {\n",
              "        vertical-align: middle;\n",
              "    }\n",
              "\n",
              "    .dataframe tbody tr th {\n",
              "        vertical-align: top;\n",
              "    }\n",
              "\n",
              "    .dataframe thead th {\n",
              "        text-align: right;\n",
              "    }\n",
              "</style>\n",
              "<table border=\"1\" class=\"dataframe\">\n",
              "  <thead>\n",
              "    <tr style=\"text-align: right;\">\n",
              "      <th></th>\n",
              "      <th>Id</th>\n",
              "      <th>รหัสใบสมัคร</th>\n",
              "      <th>ชื่อ (ภาษาไทย)</th>\n",
              "      <th>นามสกุล (ภาษาไทย)</th>\n",
              "      <th>อำเภอ/เขต ตามทะเบียนบ้าน</th>\n",
              "      <th>จังหวัดตามทะเบียนบ้าน</th>\n",
              "      <th>อีเมล</th>\n",
              "      <th>เอกสารสำคัญ Google Drive Link (Shared)</th>\n",
              "      <th>แนบ Link Youtube (เปิดแบบ unlisted)</th>\n",
              "      <th>Column1</th>\n",
              "    </tr>\n",
              "  </thead>\n",
              "  <tbody>\n",
              "    <tr>\n",
              "      <th>0</th>\n",
              "      <td>6</td>\n",
              "      <td>S18027386004</td>\n",
              "      <td>อรณิชชา</td>\n",
              "      <td>อินทับทัน</td>\n",
              "      <td>เมือง</td>\n",
              "      <td>สระบุรี</td>\n",
              "      <td>onnichchaintt@gmail.com</td>\n",
              "      <td>https://drive.google.com/drive/folders/1E6jHOB...</td>\n",
              "      <td>https://youtube.com/shorts/p7Z-4V8MrxU?si=peS6...</td>\n",
              "      <td>NaN</td>\n",
              "    </tr>\n",
              "    <tr>\n",
              "      <th>1</th>\n",
              "      <td>7</td>\n",
              "      <td>S18039734800</td>\n",
              "      <td>ศศิวิมน</td>\n",
              "      <td>ร้อยทา</td>\n",
              "      <td>หนองแค</td>\n",
              "      <td>สระบุรี</td>\n",
              "      <td>sasi.rt04@gmail.com</td>\n",
              "      <td>https://drive.google.com/drive/folders/1dTxvS2...</td>\n",
              "      <td>https://youtu.be/DXEP08HnHOc?si=FjrEydimXPQefnQC</td>\n",
              "      <td>NaN</td>\n",
              "    </tr>\n",
              "    <tr>\n",
              "      <th>2</th>\n",
              "      <td>8</td>\n",
              "      <td>S71045472230</td>\n",
              "      <td>นวเรศ</td>\n",
              "      <td>เตียงเกตุ</td>\n",
              "      <td>ท่าม่วง</td>\n",
              "      <td>กาญจนบุรี</td>\n",
              "      <td>n.nawaret3610@gmail.com</td>\n",
              "      <td>https://drive.google.com/drive/folders/1y4JBAh...</td>\n",
              "      <td>https://youtu.be/qjAsgDbgPSA?si=yqC2GQvSPyD0Z_3C</td>\n",
              "      <td>NaN</td>\n",
              "    </tr>\n",
              "  </tbody>\n",
              "</table>\n",
              "</div>\n",
              "    <div class=\"colab-df-buttons\">\n",
              "\n",
              "  <div class=\"colab-df-container\">\n",
              "    <button class=\"colab-df-convert\" onclick=\"convertToInteractive('df-9df095fc-c600-4aed-8155-7ba885eb06a8')\"\n",
              "            title=\"Convert this dataframe to an interactive table.\"\n",
              "            style=\"display:none;\">\n",
              "\n",
              "  <svg xmlns=\"http://www.w3.org/2000/svg\" height=\"24px\" viewBox=\"0 -960 960 960\">\n",
              "    <path d=\"M120-120v-720h720v720H120Zm60-500h600v-160H180v160Zm220 220h160v-160H400v160Zm0 220h160v-160H400v160ZM180-400h160v-160H180v160Zm440 0h160v-160H620v160ZM180-180h160v-160H180v160Zm440 0h160v-160H620v160Z\"/>\n",
              "  </svg>\n",
              "    </button>\n",
              "\n",
              "  <style>\n",
              "    .colab-df-container {\n",
              "      display:flex;\n",
              "      gap: 12px;\n",
              "    }\n",
              "\n",
              "    .colab-df-convert {\n",
              "      background-color: #E8F0FE;\n",
              "      border: none;\n",
              "      border-radius: 50%;\n",
              "      cursor: pointer;\n",
              "      display: none;\n",
              "      fill: #1967D2;\n",
              "      height: 32px;\n",
              "      padding: 0 0 0 0;\n",
              "      width: 32px;\n",
              "    }\n",
              "\n",
              "    .colab-df-convert:hover {\n",
              "      background-color: #E2EBFA;\n",
              "      box-shadow: 0px 1px 2px rgba(60, 64, 67, 0.3), 0px 1px 3px 1px rgba(60, 64, 67, 0.15);\n",
              "      fill: #174EA6;\n",
              "    }\n",
              "\n",
              "    .colab-df-buttons div {\n",
              "      margin-bottom: 4px;\n",
              "    }\n",
              "\n",
              "    [theme=dark] .colab-df-convert {\n",
              "      background-color: #3B4455;\n",
              "      fill: #D2E3FC;\n",
              "    }\n",
              "\n",
              "    [theme=dark] .colab-df-convert:hover {\n",
              "      background-color: #434B5C;\n",
              "      box-shadow: 0px 1px 3px 1px rgba(0, 0, 0, 0.15);\n",
              "      filter: drop-shadow(0px 1px 2px rgba(0, 0, 0, 0.3));\n",
              "      fill: #FFFFFF;\n",
              "    }\n",
              "  </style>\n",
              "\n",
              "    <script>\n",
              "      const buttonEl =\n",
              "        document.querySelector('#df-9df095fc-c600-4aed-8155-7ba885eb06a8 button.colab-df-convert');\n",
              "      buttonEl.style.display =\n",
              "        google.colab.kernel.accessAllowed ? 'block' : 'none';\n",
              "\n",
              "      async function convertToInteractive(key) {\n",
              "        const element = document.querySelector('#df-9df095fc-c600-4aed-8155-7ba885eb06a8');\n",
              "        const dataTable =\n",
              "          await google.colab.kernel.invokeFunction('convertToInteractive',\n",
              "                                                    [key], {});\n",
              "        if (!dataTable) return;\n",
              "\n",
              "        const docLinkHtml = 'Like what you see? Visit the ' +\n",
              "          '<a target=\"_blank\" href=https://colab.research.google.com/notebooks/data_table.ipynb>data table notebook</a>'\n",
              "          + ' to learn more about interactive tables.';\n",
              "        element.innerHTML = '';\n",
              "        dataTable['output_type'] = 'display_data';\n",
              "        await google.colab.output.renderOutput(dataTable, element);\n",
              "        const docLink = document.createElement('div');\n",
              "        docLink.innerHTML = docLinkHtml;\n",
              "        element.appendChild(docLink);\n",
              "      }\n",
              "    </script>\n",
              "  </div>\n",
              "\n",
              "\n",
              "    <div id=\"df-4994e7c2-6364-427b-9845-df48a0c32ecc\">\n",
              "      <button class=\"colab-df-quickchart\" onclick=\"quickchart('df-4994e7c2-6364-427b-9845-df48a0c32ecc')\"\n",
              "                title=\"Suggest charts\"\n",
              "                style=\"display:none;\">\n",
              "\n",
              "<svg xmlns=\"http://www.w3.org/2000/svg\" height=\"24px\"viewBox=\"0 0 24 24\"\n",
              "     width=\"24px\">\n",
              "    <g>\n",
              "        <path d=\"M19 3H5c-1.1 0-2 .9-2 2v14c0 1.1.9 2 2 2h14c1.1 0 2-.9 2-2V5c0-1.1-.9-2-2-2zM9 17H7v-7h2v7zm4 0h-2V7h2v10zm4 0h-2v-4h2v4z\"/>\n",
              "    </g>\n",
              "</svg>\n",
              "      </button>\n",
              "\n",
              "<style>\n",
              "  .colab-df-quickchart {\n",
              "      --bg-color: #E8F0FE;\n",
              "      --fill-color: #1967D2;\n",
              "      --hover-bg-color: #E2EBFA;\n",
              "      --hover-fill-color: #174EA6;\n",
              "      --disabled-fill-color: #AAA;\n",
              "      --disabled-bg-color: #DDD;\n",
              "  }\n",
              "\n",
              "  [theme=dark] .colab-df-quickchart {\n",
              "      --bg-color: #3B4455;\n",
              "      --fill-color: #D2E3FC;\n",
              "      --hover-bg-color: #434B5C;\n",
              "      --hover-fill-color: #FFFFFF;\n",
              "      --disabled-bg-color: #3B4455;\n",
              "      --disabled-fill-color: #666;\n",
              "  }\n",
              "\n",
              "  .colab-df-quickchart {\n",
              "    background-color: var(--bg-color);\n",
              "    border: none;\n",
              "    border-radius: 50%;\n",
              "    cursor: pointer;\n",
              "    display: none;\n",
              "    fill: var(--fill-color);\n",
              "    height: 32px;\n",
              "    padding: 0;\n",
              "    width: 32px;\n",
              "  }\n",
              "\n",
              "  .colab-df-quickchart:hover {\n",
              "    background-color: var(--hover-bg-color);\n",
              "    box-shadow: 0 1px 2px rgba(60, 64, 67, 0.3), 0 1px 3px 1px rgba(60, 64, 67, 0.15);\n",
              "    fill: var(--button-hover-fill-color);\n",
              "  }\n",
              "\n",
              "  .colab-df-quickchart-complete:disabled,\n",
              "  .colab-df-quickchart-complete:disabled:hover {\n",
              "    background-color: var(--disabled-bg-color);\n",
              "    fill: var(--disabled-fill-color);\n",
              "    box-shadow: none;\n",
              "  }\n",
              "\n",
              "  .colab-df-spinner {\n",
              "    border: 2px solid var(--fill-color);\n",
              "    border-color: transparent;\n",
              "    border-bottom-color: var(--fill-color);\n",
              "    animation:\n",
              "      spin 1s steps(1) infinite;\n",
              "  }\n",
              "\n",
              "  @keyframes spin {\n",
              "    0% {\n",
              "      border-color: transparent;\n",
              "      border-bottom-color: var(--fill-color);\n",
              "      border-left-color: var(--fill-color);\n",
              "    }\n",
              "    20% {\n",
              "      border-color: transparent;\n",
              "      border-left-color: var(--fill-color);\n",
              "      border-top-color: var(--fill-color);\n",
              "    }\n",
              "    30% {\n",
              "      border-color: transparent;\n",
              "      border-left-color: var(--fill-color);\n",
              "      border-top-color: var(--fill-color);\n",
              "      border-right-color: var(--fill-color);\n",
              "    }\n",
              "    40% {\n",
              "      border-color: transparent;\n",
              "      border-right-color: var(--fill-color);\n",
              "      border-top-color: var(--fill-color);\n",
              "    }\n",
              "    60% {\n",
              "      border-color: transparent;\n",
              "      border-right-color: var(--fill-color);\n",
              "    }\n",
              "    80% {\n",
              "      border-color: transparent;\n",
              "      border-right-color: var(--fill-color);\n",
              "      border-bottom-color: var(--fill-color);\n",
              "    }\n",
              "    90% {\n",
              "      border-color: transparent;\n",
              "      border-bottom-color: var(--fill-color);\n",
              "    }\n",
              "  }\n",
              "</style>\n",
              "\n",
              "      <script>\n",
              "        async function quickchart(key) {\n",
              "          const quickchartButtonEl =\n",
              "            document.querySelector('#' + key + ' button');\n",
              "          quickchartButtonEl.disabled = true;  // To prevent multiple clicks.\n",
              "          quickchartButtonEl.classList.add('colab-df-spinner');\n",
              "          try {\n",
              "            const charts = await google.colab.kernel.invokeFunction(\n",
              "                'suggestCharts', [key], {});\n",
              "          } catch (error) {\n",
              "            console.error('Error during call to suggestCharts:', error);\n",
              "          }\n",
              "          quickchartButtonEl.classList.remove('colab-df-spinner');\n",
              "          quickchartButtonEl.classList.add('colab-df-quickchart-complete');\n",
              "        }\n",
              "        (() => {\n",
              "          let quickchartButtonEl =\n",
              "            document.querySelector('#df-4994e7c2-6364-427b-9845-df48a0c32ecc button');\n",
              "          quickchartButtonEl.style.display =\n",
              "            google.colab.kernel.accessAllowed ? 'block' : 'none';\n",
              "        })();\n",
              "      </script>\n",
              "    </div>\n",
              "\n",
              "    </div>\n",
              "  </div>\n"
            ],
            "application/vnd.google.colaboratory.intrinsic+json": {
              "type": "dataframe",
              "variable_name": "df",
              "summary": "{\n  \"name\": \"df\",\n  \"rows\": 165,\n  \"fields\": [\n    {\n      \"column\": \"Id\",\n      \"properties\": {\n        \"dtype\": \"number\",\n        \"std\": 57,\n        \"min\": 6,\n        \"max\": 207,\n        \"num_unique_values\": 165,\n        \"samples\": [\n          173,\n          152,\n          169\n        ],\n        \"semantic_type\": \"\",\n        \"description\": \"\"\n      }\n    },\n    {\n      \"column\": \"\\u0e23\\u0e2b\\u0e31\\u0e2a\\u0e43\\u0e1a\\u0e2a\\u0e21\\u0e31\\u0e04\\u0e23\",\n      \"properties\": {\n        \"dtype\": \"string\",\n        \"num_unique_values\": 164,\n        \"samples\": [\n          \"S10024433687\",\n          \"S18036198441\",\n          \"S50045566306\"\n        ],\n        \"semantic_type\": \"\",\n        \"description\": \"\"\n      }\n    },\n    {\n      \"column\": \"\\u0e0a\\u0e37\\u0e48\\u0e2d (\\u0e20\\u0e32\\u0e29\\u0e32\\u0e44\\u0e17\\u0e22)\",\n      \"properties\": {\n        \"dtype\": \"string\",\n        \"num_unique_values\": 165,\n        \"samples\": [\n          \"\\u0e1b\\u0e20\\u0e32\\u0e27\\u0e23\\u0e34\\u0e19\\u0e17\\u0e4c\",\n          \"\\u0e19\\u0e31\\u0e19\\u0e17\\u0e20\\u0e31\\u0e04\",\n          \"\\u0e27\\u0e34\\u0e23\\u0e0a\\u0e31\\u0e0a\"\n        ],\n        \"semantic_type\": \"\",\n        \"description\": \"\"\n      }\n    },\n    {\n      \"column\": \"\\u0e19\\u0e32\\u0e21\\u0e2a\\u0e01\\u0e38\\u0e25 (\\u0e20\\u0e32\\u0e29\\u0e32\\u0e44\\u0e17\\u0e22)\",\n      \"properties\": {\n        \"dtype\": \"string\",\n        \"num_unique_values\": 165,\n        \"samples\": [\n          \"\\u0e2a\\u0e38\\u0e23\\u0e32\\u0e2a\\u0e32\",\n          \"\\u0e41\\u0e2a\\u0e07\\u0e21\\u0e2b\\u0e32\\u0e0a\\u0e31\\u0e22\",\n          \"\\u0e1e\\u0e22\\u0e31\\u0e04\\u0e06\\u0e32\"\n        ],\n        \"semantic_type\": \"\",\n        \"description\": \"\"\n      }\n    },\n    {\n      \"column\": \"\\u0e2d\\u0e33\\u0e40\\u0e20\\u0e2d/\\u0e40\\u0e02\\u0e15\\u00a0\\u0e15\\u0e32\\u0e21\\u0e17\\u0e30\\u0e40\\u0e1a\\u0e35\\u0e22\\u0e19\\u0e1a\\u0e49\\u0e32\\u0e19\",\n      \"properties\": {\n        \"dtype\": \"string\",\n        \"num_unique_values\": 139,\n        \"samples\": [\n          \"\\u0e1a\\u0e32\\u0e07\\u0e01\\u0e2d\\u0e01\\u0e19\\u0e49\\u0e2d\\u0e22\",\n          \"\\u0e19\\u0e32\\u0e04\\u0e39\",\n          \"\\u0e40\\u0e21\\u0e37\\u0e2d\\u0e07\\u0e19\\u0e04\\u0e23\\u0e2a\\u0e27\\u0e23\\u0e04\\u0e4c\"\n        ],\n        \"semantic_type\": \"\",\n        \"description\": \"\"\n      }\n    },\n    {\n      \"column\": \"\\u0e08\\u0e31\\u0e07\\u0e2b\\u0e27\\u0e31\\u0e14\\u0e15\\u0e32\\u0e21\\u0e17\\u0e30\\u0e40\\u0e1a\\u0e35\\u0e22\\u0e19\\u0e1a\\u0e49\\u0e32\\u0e19\",\n      \"properties\": {\n        \"dtype\": \"category\",\n        \"num_unique_values\": 62,\n        \"samples\": [\n          \"\\u0e19\\u0e04\\u0e23\\u0e1b\\u0e10\\u0e21\",\n          \"\\u0e28\\u0e23\\u0e35\\u0e2a\\u0e30\\u0e40\\u0e01\\u0e29\",\n          \"\\u0e2a\\u0e23\\u0e30\\u0e1a\\u0e38\\u0e23\\u0e35\"\n        ],\n        \"semantic_type\": \"\",\n        \"description\": \"\"\n      }\n    },\n    {\n      \"column\": \"\\u0e2d\\u0e35\\u0e40\\u0e21\\u0e25\",\n      \"properties\": {\n        \"dtype\": \"string\",\n        \"num_unique_values\": 164,\n        \"samples\": [\n          \"kullayapimdee@gmail.com\",\n          \"kawkaw06012564@gmail.com\",\n          \"samantasu054@gmail.com\"\n        ],\n        \"semantic_type\": \"\",\n        \"description\": \"\"\n      }\n    },\n    {\n      \"column\": \"\\u0e40\\u0e2d\\u0e01\\u0e2a\\u0e32\\u0e23\\u0e2a\\u0e33\\u0e04\\u0e31\\u0e0d Google Drive Link (Shared)\",\n      \"properties\": {\n        \"dtype\": \"string\",\n        \"num_unique_values\": 164,\n        \"samples\": [\n          \"https://drive.google.com/drive/folders/1azbkfqnKOGY_AGZzx7D97rRhn1j0Qvtb?usp=sharing\",\n          \"https://drive.google.com/drive/folders/1e48jOv-3A66n6ZTiEywTsFfeRBzdzVA7?usp=sharing\",\n          \"https://drive.google.com/drive/folders/1smCu-ym5GxIO2ualP3qA-lXuZWxP-FvG\"\n        ],\n        \"semantic_type\": \"\",\n        \"description\": \"\"\n      }\n    },\n    {\n      \"column\": \"\\u0e41\\u0e19\\u0e1a Link Youtube (\\u0e40\\u0e1b\\u0e34\\u0e14\\u0e41\\u0e1a\\u0e1a unlisted)\",\n      \"properties\": {\n        \"dtype\": \"string\",\n        \"num_unique_values\": 165,\n        \"samples\": [\n          \"https://youtu.be/Wys3P-rZZWs?si=tgleSI197Kv0p4Ti\",\n          \"https://youtu.be/SLnMr0gZKfE?si=gbvHWYMtpyswiAPc\",\n          \"https://youtu.be/JBZzo6SJ5MI?si=gRQwAPheYprzrKM2\"\n        ],\n        \"semantic_type\": \"\",\n        \"description\": \"\"\n      }\n    },\n    {\n      \"column\": \"Column1\",\n      \"properties\": {\n        \"dtype\": \"number\",\n        \"std\": null,\n        \"min\": null,\n        \"max\": null,\n        \"num_unique_values\": 0,\n        \"samples\": [],\n        \"semantic_type\": \"\",\n        \"description\": \"\"\n      }\n    }\n  ]\n}"
            }
          },
          "metadata": {},
          "execution_count": 9
        }
      ],
      "source": [
        "df.head(3)"
      ]
    },
    {
      "cell_type": "code",
      "source": [
        "df.columns"
      ],
      "metadata": {
        "colab": {
          "base_uri": "https://localhost:8080/"
        },
        "id": "qD8eANU3lP5a",
        "outputId": "c3aaeb38-2eda-4109-a7b9-706c17a934b2"
      },
      "execution_count": null,
      "outputs": [
        {
          "output_type": "execute_result",
          "data": {
            "text/plain": [
              "Index(['Id', 'รหัสใบสมัคร', 'ชื่อ (ภาษาไทย)', 'นามสกุล (ภาษาไทย)',\n",
              "       'อำเภอ/เขต ตามทะเบียนบ้าน', 'จังหวัดตามทะเบียนบ้าน', 'อีเมล',\n",
              "       'เอกสารสำคัญ Google Drive Link (Shared)',\n",
              "       'แนบ Link Youtube (เปิดแบบ unlisted)', 'Column1'],\n",
              "      dtype='object')"
            ]
          },
          "metadata": {},
          "execution_count": 10
        }
      ]
    },
    {
      "cell_type": "code",
      "execution_count": null,
      "metadata": {
        "colab": {
          "base_uri": "https://localhost:8080/"
        },
        "collapsed": true,
        "id": "_2ZgaDfDct1I",
        "outputId": "db084d45-5a10-41b4-d3fc-75e51a1011e2"
      },
      "outputs": [
        {
          "output_type": "stream",
          "name": "stdout",
          "text": [
            "['6_S18027386004_อรณิชชา_อินทับทัน', '7_S18039734800_ศศิวิมน_ร้อยทา', '8_S71045472230_นวเรศ_เตียงเกตุ', '9_S53029968565_ภิรัญญา_พุฒลา', '10_S31005914138_ขรินทร์ทิพย์_เอี่ยมสร้อย', '12_S43010244041_สุธาสินี_โตส้ม', '13_S12011187271_วีรวินน์_ไหล่บุญญานุภาพ', '17_S36036563400_รัฐศาสตร์_บุญกอด', '18_S45041892548_กมลชนก _แสงมณี', '20_S12016450251_ปุญญาภา_ตรีสุวรรณ', '22_S20039108603_ธนนันต์_ ยอดไธสง', '24_S81024351042_ปริยาภัทร_อังคะฮาด', '25_S11006608061_แพรวนารา_แสงสำราญ', '28_S91035861740_มูฮัมหมัดอับบาส_แก้วสลำ', '29_S95007997434_ธันยากานต์_วัฒนศิริภาวงศ์', '30_S70002142046_เพียงออ_ชมชื่น', '31_S21023445822_สุจิรา_พะวันรัมย์', '33_S10012902148_วิมลภักดิ์_นำบุญแสง', '34_S43026316408_กฤษณา_แสงสุพงษ์', '35_S34031023422_รัตนธิดา_จันทรกาญจน์', '36_S10036050300_ณิชากร_นิภาธรวงษ์', '37_S10031545168_พีรวิชญ์_เชี่ยววิทย์', '38_S21007131727_ศรัณยพงศ์_กุลภัทร์วัฒนา', '39_S37035232564_สรชา_บุญมี', '40_S90035966482_ซัมซีย๊ะห์_โดโซมิ', '41_S57032232226_เปมิกา_เเซ่จึง', '43_S16003828555_พรธิตา_คุ้มครอง', '44_S84029208528_เมธัส_บัวทองบุญ', '45_S10028893530_ทวีปพงษ์_สุมะนัสชัย', '46_S10036250053_เกรส_อารยกาญจน์', '48_S50028596778_ธารริน_หล้าอินสม', '49_S46042730144_พิชามญชุ์ _คำวิโส', '52_S12027156574_จิราภรณ์_เปาริก', '53_S60026642623_ปัณชญา_กุหลาบศรี', '54_S43013430064_กลวัชร_อาจวงษา', '57_S10036706007_เมธี_คำบุญศรี', '58_S81023395246_คณิศร _ศรีสุข', '59_S96034888457_นูรอายูนี_แมเร๊าะ', '60_S45041892548_กมลชนก_แสงมณั', '62_S10030041801_ธภัทร_สพรั่งผล', '63_S12032061120_จิรวัฒน์_มะโนวรรณ์', '64_S10009810053_ธัญธร_โลหะบัณฑิตวงศ์', '65_S12035492268_ณัฐวรา_ลองศรี', '66_S13005853640_ธราธาร_พรมพุ้ย', '67_S24010760136_นทภัชณัช_กุณคำ', '68_S13026916878_ปฏิภาณ_ยศไธสง', '70_S10038352675_พิชญาภา_ปัญญาอรรถ', '71_S10040812741_ชัยกฤต_กิติวัฒนบำรุง', '72_S46038983445_ธัญจิรา_ดอกจันทร์', '74_S65036635467_วรินรัตน์_แดงเผือก', '75_S10015344382_จินดาโชติ_พงษ์พรต', '76_S45042677287_ปาลิตา _มูลทรัพย์', '77_S92027706022_นัจญมี_หลีเอบ', '78_S58013331871_ธนภร_ทิมผ่องใส', '79_S50029602666_ปิยธิดา_มงคล', '80_S30026461601_ณฐา_แสงแก้ว', '81_S10009971382_กันชลิกา_สุวรรณ์', '82_S77031566460_นิรินธน์_อนุรักษ์วงษ์', '83_S94032771066_มูนีเราะห์_กียะ', '91_S74023686684_ภูดิส_สุวรรณจินดา', '92_S10004483248_อรปรียา_เคนสุวรรณ์', '94_S40043858811_ธนกฤต_พวงธรรม', '95_S67030295455_ฉัตริณ_ตันติบูล', '96_S39024006705_ชวิศสิฐ_ภูกองชัย', '97_S10041765422_วรนัยน์_นางาซาวา', '98_S20029985315_เบญญาภา_บุญประโคน', '99_S12031554451_ธันยพร_สุริยวรากุล', '100_S22006958248_ปุนิกา_ยอดอานนท์', '101_S14026161275_ภูริชญา_ภู่ขาว', '103_S86032507087_วรินทร_ชุมเกษียร', '104_S95036794247_รีมาส_กะรุมอ', '105_S46035718784_ธัญรัศม์_สุดจันทร์ฮาม', '106_S63037026014_จิดาภา_คำขาม', '107_S44037446116_รุ่งไพลิน_แสนโคตร', '108_S82028131446_ธรณ์เทพ_สโมสร', '109_S47030486408_ณัฐรภา_ไชยสาคร', '110_S39025418626_ศิรดา_กรณ์งูเหลือม', '111_S75026758161_ชัญญานุช_พลกำพนธ์', '112_S75027225855_ปภาวรินทร์_บุณยานันทน์', '113_S21029074747_ระวิวรรณ_วิปัดทุม', '114_S71035487082_วธิดา_แก้วกระจ่าง', '116_S10034633175_ธีรวัจณ์_อุปการะ', '117_S11032450656_ศุภาพิชญ์_ฉ่ำรัศมี', '118_S10039710221_ชุติกาญจน์_กันทะวงค์', '119_S71005944311_อาภัสรา_เพชรดำดี', '120_S52025932770_ศิวินทรา_ปวงแก้ว', '121_S20004252166_คณาธิป_เพ็งนาม', '122_S10028748557_ศินะพร_วัฒนะนนท์ชัย', '123_S10027038883_นงนภัส_โลหะเวโรจน์', '124_S71037870566_ทอฝัน_ยั่งยืน', '125_S60006234511_ธัญชนิต_พิลึก', '126_S20025270213_ธารารัตน์_ตะวงษา', '127_S53029611247_อัศวิน_สิงเหม', '128_S10039617478_คณพศ_โมคมะเลิง', '129_S60005598486_ชิสา _วงษ์สุนทร', '131_S45044182813_พงศ์ธนสรณ์_ทิพประมวล', '132_S49034021647_ดาวไสว_บุญเรืองนาม', '133_S40029324624_เขมณัฏฐ์_หิรัญวรวิทย์', '134_S24045171200_ปริชญา_อะจะระกุล', '135_S10041000567_ณภัทร _พุฒเนียม', '136_S16036154371_ณัฏฐณิชา_กันภัย', '137_S44039053250_พรอธิปไตย _วีระการณ์', '138_S93040642675_อารยา_แวววรรณจิต', '139_S73031282871_วรรณภัสสรณ์_กลิ่นระรวย', '140_S23030785663_ราชธรรม_ลุนสะแกวงษ์', '141_S52034421477_ภูมิพลัง_เนียมวัฒนะ', '142_S26037927137_จิรกานต์_กีรติกานต์ชัย', '143_S10043441601_ณภัทร์_ศิวิไล', '144_S15030895458_ธัญญรัตน์_หล่อประเสริฐ', '145_S51012283738_วิภาดา_ไชยสมบัติ', '146_S96002970857_เกาษัร_เล๊าะเเว', '147_S10028076467_วรรณณวลัญช์_เจริญสุข', '148_S76043936655_ธีรัฐพล_งามพงษ์พรรณ', '150_S90005390278_ภาคิน_มุณีแนม', '151_S47038847132_ภาวิตา_เทพสุรินทร์', '152_S44028613032_นันทภัค_แสงมหาชัย', '153_S18036198441_กลทีป์_เมืองดี', '154_S75039670472_ศศิพงษ์_สุขเสาววิมล', '155_S10034132308_รัล_จูฑะพันธุ์', '156_S53045307071_กฤษณะพัทธ์_สันตะ', '157_S84028760062_มาศมาตา_ศุภกรชูวงศ์', '158_S50035891427_คณาธิป _บุญมาเชย', '159_S84019556428_พรรชสรร_สิทธิชู', '160_S33029734522_ศศิภา _ระหาร', '161_S91014895842_อุลญา_ดำท่าคลอง', '162_S77012688511_เตชินท์_ผลวัฒนะ', '163_S34033385534_คุณัญญา_บุญขจร', '164_S10005751152_ภัชชญา _แซ่โท้ว', '165_S50010252005_ธนกร_จานคุณ', '166_S31028664462_พรพรหม_มังคะชาติ', '167_S41030633308_อนัญญา_มุมกลาง', '169_S84032080863_วิรชัช_พยัคฆา', '170_S50045566306_รักษิณา _ต๊ะสู้', '171_S92044336076_กันต์กษิดิ์เดช _อภิศุทธิคำพร', '172_S57035574401_พงษ์สิริ _เมฆวิลัย', '173_S40024508852_ปภาวรินท์_สุราสา', '174_S10024433687_กุลยา_พิมดี', '176_S32036856521_ภัควัฒน์_ดวงรัตน์', '177_S12031704353_วีรวงศ์_แช่มพงษ์อนันท์', '178_S30040996404_พลอยน้ำเงิน_น้ำทิพย์', '180_S95044406086_ฟิรดาวส์ _บ่าวเบ็ญหมัด', '181_S10034908413_ศิวาภรณ์_ชัยถาวรกิจ', '182_S11026497317_จักรพล_หูมวงศ์', '183_S10043245145_ปัณฑิฌา_ดอนสกุล', '184_S96012416508_พรรณพัชร_ปุย ', '186_S44010788622_นันทกร_ปาปะโน', '187_S90007170616_ฟ้าใส_เจริญศรี', '189_S41038476832_ปุญญตา _แพสยันดร', '190_S10036730100_เทวกร_ตันติวิทยากุล', '191_S90035660803_คศวัตร_สาเเละ', '192_S44026560375_นิภารัตน์_ไชยเดช', '193_S36016816166_ไท _ถนอมไธสง', '194_S31044807841_สุธาสินี _ศรีเนาว์รัตน์', '195_S12001473170_ปฐมากรณ์_ระเบียบ', '196_S41031887656_สกุลทิพย์_กิติราช', '197_S38032892016_พรรณรวี _ด้วงพุฒ', '198_S44043360777_ธนากร_จำปาสอน', '199_S10034086415_สิดาพร_เหมาะราษีร์', '200_S42038631387_พาสุข_แก้วใสย์', '201_S95040513173_อัสมาอ์_สะมะดะแมง', '202_S33037634541_อภิรดา_มณีวรรณ', '203_S10040276206_ชิษณุพงศ์_วิริยะศิริพงศ์กูล', '204_S71045280722_โสรัชดาพักตร์_ผู้มีจรรยา', '206_S61030586760_จิรัชญา_หะชะยัง', '207_S92042860378_แทนคุณ_นิลปักษี']\n",
            "165\n"
          ]
        }
      ],
      "source": [
        "col_ls = ['Id', 'รหัสใบสมัคร', 'ชื่อ (ภาษาไทย)', 'นามสกุล (ภาษาไทย)', 'เอกสารสำคัญ Google Drive Link (Shared)']\n",
        "\n",
        "#col name\n",
        "id = 'Id'\n",
        "id_s = 'รหัสใบสมัคร'\n",
        "fname = 'ชื่อ (ภาษาไทย)'\n",
        "lname = 'นามสกุล (ภาษาไทย)'\n",
        "glink = 'เอกสารสำคัญ Google Drive Link (Shared)'\n",
        "\n",
        "df = df[col_ls]\n",
        "\n",
        "folder_name_ls = [f\"{row[id]}_{row[id_s]}_{row[fname]}_{row[lname]}\" for index, row in df.iterrows()]\n",
        "\n",
        "\n",
        "print(folder_name_ls)\n",
        "print(len(folder_name_ls))\n",
        "\n",
        "#180"
      ]
    },
    {
      "cell_type": "code",
      "execution_count": null,
      "metadata": {
        "colab": {
          "base_uri": "https://localhost:8080/"
        },
        "id": "IZ2NT_d1fuHn",
        "outputId": "35c90dd4-8a1d-464c-fde4-f1a724974a8f"
      },
      "outputs": [
        {
          "output_type": "stream",
          "name": "stdout",
          "text": [
            "https://drive.google.com/drive/folders/1-7iZjSX6xQ07ptpB2twLMtxdITuMzRH_\n",
            "165\n"
          ]
        }
      ],
      "source": [
        "#gdrive link list\n",
        "\n",
        "gdrive_link_ls = [ l for l in df[glink]]\n",
        "\n",
        "print(gdrive_link_ls[5])\n",
        "print(len(gdrive_link_ls))"
      ]
    },
    {
      "cell_type": "code",
      "execution_count": null,
      "metadata": {
        "colab": {
          "base_uri": "https://localhost:8080/"
        },
        "id": "lfYTchAKjvpR",
        "outputId": "fdb49eb1-f59a-45ee-bb83-abad28480ae0"
      },
      "outputs": [
        {
          "output_type": "stream",
          "name": "stdout",
          "text": [
            "[('6_S18027386004_อรณิชชา_อินทับทัน', 'https://drive.google.com/drive/folders/1E6jHOB60U-0jAZVFhK10KPTjzccsyTaT?usp=share_link'), ('7_S18039734800_ศศิวิมน_ร้อยทา', 'https://drive.google.com/drive/folders/1dTxvS2GCHXqrK0ymY_upsE3CX6_7Tikg'), ('8_S71045472230_นวเรศ_เตียงเกตุ', 'https://drive.google.com/drive/folders/1y4JBAhvlwDcMMMnCBTFg_sG2nz0utWqK'), ('9_S53029968565_ภิรัญญา_พุฒลา', 'https://drive.google.com/drive/folders/1bf_MMM2k6NNbDlTyjrt6gY3tW8dKnATm'), ('10_S31005914138_ขรินทร์ทิพย์_เอี่ยมสร้อย', 'https://drive.google.com/drive/folders/1YOQrS6tpeDr1I8kxK2HZKvwvtt52CaPl?usp=drive_link'), ('12_S43010244041_สุธาสินี_โตส้ม', 'https://drive.google.com/drive/folders/1-7iZjSX6xQ07ptpB2twLMtxdITuMzRH_'), ('13_S12011187271_วีรวินน์_ไหล่บุญญานุภาพ', 'https://drive.google.com/drive/folders/1dAdVJ71PeYZpDu8TH7C45cysp6XE8w_O'), ('17_S36036563400_รัฐศาสตร์_บุญกอด', 'https://drive.google.com/drive/folders/1z0gnFTqpqCtp7uJ8JL3dBF0_GDTGqrHO'), ('18_S45041892548_กมลชนก _แสงมณี', 'https://drive.google.com/drive/folders/1U_pdTvQZZGJ0DRdu1ahf3LdsO4RlcPAN'), ('20_S12016450251_ปุญญาภา_ตรีสุวรรณ', 'https://drive.google.com/drive/mobile/folders/1cwqhroniENTwk7BFgj0OGjGh7pgdk4NM?usp=share_link'), ('22_S20039108603_ธนนันต์_ ยอดไธสง', 'https://drive.google.com/folderview?id=1BpKzYQMH1bbEMuL-3rfLKLoAmXNNLebI'), ('24_S81024351042_ปริยาภัทร_อังคะฮาด', 'https://drive.google.com/drive/folders/18hrEwHtLcbY9IuB3Hjq6rYUshrtHoKwC'), ('25_S11006608061_แพรวนารา_แสงสำราญ', 'https://drive.google.com/drive/folders/1sBTfn4X8dc0XDM4vJNid1pObfeRZLlL0?usp=drive_link'), ('28_S91035861740_มูฮัมหมัดอับบาส_แก้วสลำ', 'https://drive.google.com/drive/folders/1IyP-JQhAq3iAHqzNlXSaioEseqQaD2Ai'), ('29_S95007997434_ธันยากานต์_วัฒนศิริภาวงศ์', 'https://drive.google.com/drive/folders/1mXoBECqGcXtnYx1OW8NMJXeIJt0Cnmlc'), ('30_S70002142046_เพียงออ_ชมชื่น', 'https://drive.google.com/drive/folders/1TSpIAUVn1mn9oFW9BmfVcwYIFadce9ae'), ('31_S21023445822_สุจิรา_พะวันรัมย์', 'https://drive.google.com/drive/folders/1rA4DOPfz9fnvSY-ptCYLTZnLH0G7TsE8'), ('33_S10012902148_วิมลภักดิ์_นำบุญแสง', 'https://drive.google.com/drive/folders/1KI6jql7lzEfN030xi_70xW9EbvPkXTkw'), ('34_S43026316408_กฤษณา_แสงสุพงษ์', 'https://drive.google.com/drive/folders/1pjHOZqEM_RbUEju0YfPywZRUUhe-3L06'), ('35_S34031023422_รัตนธิดา_จันทรกาญจน์', 'https://drive.google.com/drive/folders/1eCXASXlWEZC9225EcswpVUVC6AR4T3I-'), ('36_S10036050300_ณิชากร_นิภาธรวงษ์', 'https://drive.google.com/drive/folders/1-F2llfqpbfdknp0tAZyLFpZTX3gQ6Pst?usp=sharing'), ('37_S10031545168_พีรวิชญ์_เชี่ยววิทย์', 'https://drive.google.com/drive/folders/1zzBzaJJ0o4O0XS5EJmfBnUUBJOlf0KgS'), ('38_S21007131727_ศรัณยพงศ์_กุลภัทร์วัฒนา', 'https://drive.google.com/drive/folders/1BQ5o6goPEcmnH0JEPk4UjtYmMMBU6FK-?usp=drive_link'), ('39_S37035232564_สรชา_บุญมี', 'https://drive.google.com/drive/folders/1wQJve1RkFEYROh6tPhge-YpHXtl2mHV8'), ('40_S90035966482_ซัมซีย๊ะห์_โดโซมิ', 'https://drive.google.com/drive/folders/1pVcfalaHcC0-KRUcqIhEI7V1tzkub0eM'), ('41_S57032232226_เปมิกา_เเซ่จึง', 'https://drive.google.com/drive/folders/13JI8nplSbIwYLU6lMoLx1yQ3Dkl63I9_'), ('43_S16003828555_พรธิตา_คุ้มครอง', 'https://drive.google.com/drive/folders/17Ol-BUi9Tc8OiROVT4CuO6qTil3JvvqR'), ('44_S84029208528_เมธัส_บัวทองบุญ', 'https://drive.google.com/drive/folders/1RXw5ygHyN0ZxkcxKEJZID-Yc70nSgrlH'), ('45_S10028893530_ทวีปพงษ์_สุมะนัสชัย', 'https://drive.google.com/drive/u/0/folders/16upKDOslrzb-OBygrJPrrC-_ytvF0bRc'), ('46_S10036250053_เกรส_อารยกาญจน์', 'https://drive.google.com/drive/folders/1m3AM2GDr6PRJG1riBJteFEOzyTl3d0Xu'), ('48_S50028596778_ธารริน_หล้าอินสม', 'https://drive.google.com/drive/folders/1_SFLMh3cg5E4LwUExRUX0hMrcwKHw_ZJ?usp=drive_link'), ('49_S46042730144_พิชามญชุ์ _คำวิโส', 'https://drive.google.com/drive/folders/15mjQZ_njoqqkdN7l5gMlFzEAF6zBhdxB'), ('52_S12027156574_จิราภรณ์_เปาริก', 'https://drive.google.com/drive/folders/1ic5ivN590nHcEpsEsF58zYM5MD6yThKS'), ('53_S60026642623_ปัณชญา_กุหลาบศรี', 'https://drive.google.com/drive/folders/1_jrxM6yLbQMUz59IlzFUjeEzA9BOEgvw'), ('54_S43013430064_กลวัชร_อาจวงษา', 'https://drive.google.com/drive/folders/1M4nXLslTxCOuXoaNAuGdostd6y7LmkHs'), ('57_S10036706007_เมธี_คำบุญศรี', 'https://drive.google.com/drive/folders/1GS2mYQUAMXHmEY22kQIAlk65dohJuBSh'), ('58_S81023395246_คณิศร _ศรีสุข', 'https://drive.google.com/drive/folders/1S70lxXkK_xngNbFxOqtFuz-x60Tuz3d_'), ('59_S96034888457_นูรอายูนี_แมเร๊าะ', 'https://drive.google.com/drive/folders/1cAijwGrodhvq-b78ZZEDYEnKVfTrjma_'), ('60_S45041892548_กมลชนก_แสงมณั', 'https://drive.google.com/drive/folders/1U_pdTvQZZGJ0DRdu1ahf3LdsO4RlcPAN'), ('62_S10030041801_ธภัทร_สพรั่งผล', 'https://drive.google.com/drive/folders/192fnt2YkjNcaDkLGNWrlBBfLteFMciRH'), ('63_S12032061120_จิรวัฒน์_มะโนวรรณ์', 'https://drive.google.com/drive/folders/1HudsbPus-xvMETg7KCy2fN1rtz4igbtc'), ('64_S10009810053_ธัญธร_โลหะบัณฑิตวงศ์', 'https://drive.google.com/drive/folders/1cdrhotTL-LUokrI_3FD6tDWwWSSxu8cY'), ('65_S12035492268_ณัฐวรา_ลองศรี', 'https://drive.google.com/drive/folders/1R_ndW_1D0l5ZxB0_Qn7uN5L1qHf2eNP9'), ('66_S13005853640_ธราธาร_พรมพุ้ย', 'https://drive.google.com/drive/folders/1yHcXVrp-Mu3e9G1V3fPwneTtKKnelygP'), ('67_S24010760136_นทภัชณัช_กุณคำ', 'https://drive.google.com/drive/folders/1NWw4g3kvGNJ-3iaOTSZ7Vc15tnUtvM7o?usp=sharing'), ('68_S13026916878_ปฏิภาณ_ยศไธสง', 'https://drive.google.com/drive/folders/1IzI1PsOmQuJEOS3rBJKGhK-nsLjVcdAa'), ('70_S10038352675_พิชญาภา_ปัญญาอรรถ', 'https://drive.google.com/drive/folders/1eF2LTAowl3CufFKNB_DVnayk8VN4dqRf'), ('71_S10040812741_ชัยกฤต_กิติวัฒนบำรุง', 'https://drive.google.com/drive/folders/1JfzxUym7Yub2SCdMOcM9kX012LmTE1Yg?usp=drive_link'), ('72_S46038983445_ธัญจิรา_ดอกจันทร์', 'https://drive.google.com/drive/folders/1ZIB8x3zh78PpvITZuIXCEXJWfgAdL9P5'), ('74_S65036635467_วรินรัตน์_แดงเผือก', 'https://drive.google.com/drive/folders/1uA6zdL8hUEBosK93FBuFifOG-YgM9KV3'), ('75_S10015344382_จินดาโชติ_พงษ์พรต', 'https://drive.google.com/drive/folders/1Xe6DCGbOPYsrN8rk2F9AUzqyeEi9YsXv'), ('76_S45042677287_ปาลิตา _มูลทรัพย์', 'https://drive.google.com/drive/folders/1iSkQodKdE6l7Wrhcs26yeeMvCrfTqmv0'), ('77_S92027706022_นัจญมี_หลีเอบ', 'https://drive.google.com/drive/folders/1Xb0wW3cRreiMaYwsaPE39HmTlMjmEtyF'), ('78_S58013331871_ธนภร_ทิมผ่องใส', 'https://drive.google.com/drive/folders/1BkUQcj5vudzXJS0HOch6PlkUQc12JVFN?usp=drive_link'), ('79_S50029602666_ปิยธิดา_มงคล', 'https://drive.google.com/drive/folders/1dR3wFxxIrqOD2skhYXjoU6NyLamdJk_V'), ('80_S30026461601_ณฐา_แสงแก้ว', 'https://drive.google.com/drive/folders/1dkF8CTYS4KlfgkPW5KVg6qHagKFNCbSq'), ('81_S10009971382_กันชลิกา_สุวรรณ์', 'https://drive.google.com/drive/folders/1Vo-MFCMOsk-52ksMvHSMlgmphSIqTbuy'), ('82_S77031566460_นิรินธน์_อนุรักษ์วงษ์', 'https://drive.google.com/drive/folders/1b5RYW07Cm2vuCX01-aiO2x2iqbR6jCWj?usp=sharing'), ('83_S94032771066_มูนีเราะห์_กียะ', 'https://drive.google.com/drive/folders/1hq3oLuh7HRhz2VCJfcPmBZ4ZGA4xOBxc'), ('91_S74023686684_ภูดิส_สุวรรณจินดา', 'https://drive.google.com/drive/folders/1aj6cCfe0zA3On8pwEbCMgYLYIAYOgTbE?usp=sharing'), ('92_S10004483248_อรปรียา_เคนสุวรรณ์', 'https://drive.google.com/drive/folders/1IK8IVAzWbzfXyx-UCPaMsjU-rr2vN2bq'), ('94_S40043858811_ธนกฤต_พวงธรรม', 'https://drive.google.com/drive/folders/1yhJNLAPiRml84znmicBZ06G43M0QjrXg'), ('95_S67030295455_ฉัตริณ_ตันติบูล', 'https://drive.google.com/drive/folders/1s1oEGf5PJjMhm0Gifes4OjnmkPugHgbg'), ('96_S39024006705_ชวิศสิฐ_ภูกองชัย', 'https://drive.google.com/drive/folders/12ra5JGT3BE6iQ3P1Af0cVX2PPCBLHB44'), ('97_S10041765422_วรนัยน์_นางาซาวา', 'https://drive.google.com/drive/folders/1Etrgd-XE7lnyC2B-vQfVX_yN-K-kTmfX?usp=sharing'), ('98_S20029985315_เบญญาภา_บุญประโคน', 'https://drive.google.com/drive/folders/18xdwmDSNJ4oQ4fBclScm3cGaPNJRaze0'), ('99_S12031554451_ธันยพร_สุริยวรากุล', 'https://drive.google.com/drive/folders/1THGeEr3b-HHPSSB1kK6cU-ZVy_3QeFtQ?usp=drive_link'), ('100_S22006958248_ปุนิกา_ยอดอานนท์', 'https://drive.google.com/drive/folders/1pP8Sa5-95V0tAVDQNgnEmUuEPLn4AL1C'), ('101_S14026161275_ภูริชญา_ภู่ขาว', 'https://drive.google.com/drive/folders/1Wx6raJfDEmMoHzFAVLM8y1ATpxtUJzM0?usp=drive_link'), ('103_S86032507087_วรินทร_ชุมเกษียร', 'https://drive.google.com/drive/folders/1CC-__W2d4QeGfrQiVX7u8ReGW2Os49hn'), ('104_S95036794247_รีมาส_กะรุมอ', 'https://drive.google.com/drive/folders/1RwK9WCdFJgXDEdQEMAzBC8oAflCOo_1w'), ('105_S46035718784_ธัญรัศม์_สุดจันทร์ฮาม', 'https://drive.google.com/drive/mobile/folders/11MNB2ewce5APv0YU6ZrIYCpNV4tYcrEA?usp=drive_link'), ('106_S63037026014_จิดาภา_คำขาม', 'https://drive.google.com/drive/folders/1BHYQMycDcZ4EIO0T6FzAlHJZhltlTffW'), ('107_S44037446116_รุ่งไพลิน_แสนโคตร', 'https://drive.google.com/drive/folders/1-4B3UdCpMgF623NII0imDNDm9yaWhpTV'), ('108_S82028131446_ธรณ์เทพ_สโมสร', 'https://drive.google.com/drive/folders/1VzpPIaG-MlwJUsCiecaTuzSsZeB3ixsh?usp=sharing'), ('109_S47030486408_ณัฐรภา_ไชยสาคร', 'https://drive.google.com/drive/folders/1VLUMymB6CyehOiDAGTizd_IgFXaFhnra'), ('110_S39025418626_ศิรดา_กรณ์งูเหลือม', 'https://drive.google.com/drive/folders/1H0-Siqt7b1WConqA75leiJoKaP6rX_uJ'), ('111_S75026758161_ชัญญานุช_พลกำพนธ์', 'https://drive.google.com/drive/folders/1G260QtGtf5PwK4emMMgO94mYDjLHcKv3'), ('112_S75027225855_ปภาวรินทร์_บุณยานันทน์', 'https://drive.google.com/drive/folders/1gTTtBDlJSUDvvUu-oVioXypsbCG2J2LT?usp=sharing'), ('113_S21029074747_ระวิวรรณ_วิปัดทุม', 'https://drive.google.com/drive/folders/1rfuZ5bz0ajzC_mQ7j5M2b_NBNFJ-THmx'), ('114_S71035487082_วธิดา_แก้วกระจ่าง', 'https://drive.google.com/drive/folders/1dEbtQdeQFKzm1DynICB6nw0m0Z4v_p8X'), ('116_S10034633175_ธีรวัจณ์_อุปการะ', 'https://drive.google.com/drive/folders/1eTUCCxwUOjew_caNr5rmUELurmzRlrbf?usp=sharing'), ('117_S11032450656_ศุภาพิชญ์_ฉ่ำรัศมี', 'https://drive.google.com/drive/folders/1BiA3KUdXd28ivX46i17FJVhr5l0bqiGz'), ('118_S10039710221_ชุติกาญจน์_กันทะวงค์', 'https://drive.google.com/drive/folders/1PXNz-3a-ZL9GESogUlwWaKxOOCouz_zd'), ('119_S71005944311_อาภัสรา_เพชรดำดี', 'https://drive.google.com/drive/folders/1G-5hf5EmVDEkS7ABZDTE0qnJ8RUpX7cL'), ('120_S52025932770_ศิวินทรา_ปวงแก้ว', 'https://drive.google.com/drive/folders/1Z63MVPAvBX0hTyLXIHJghu4I_MDij7MH'), ('121_S20004252166_คณาธิป_เพ็งนาม', 'https://drive.google.com/drive/folders/1qy6PU_9v_Yntj9Gok3tnPmjeDas9_uub?usp=sharing'), ('122_S10028748557_ศินะพร_วัฒนะนนท์ชัย', 'https://drive.google.com/drive/folders/1GEKqTGwDfdjJTINZOY3j8PEXTrsFBTFA'), ('123_S10027038883_นงนภัส_โลหะเวโรจน์', 'https://drive.google.com/drive/folders/165QRecQRpmR4kp0X0eduUlxYWtCw_2fG?usp=sharing'), ('124_S71037870566_ทอฝัน_ยั่งยืน', 'https://drive.google.com/drive/folders/1ArIv8LMyM1cJsGnq8Bm1uIbVz4GZv6y_?usp=drive_link'), ('125_S60006234511_ธัญชนิต_พิลึก', 'https://drive.google.com/drive/folders/1gHTzMVs86nvrYDWAgRrK5rzhtNzCsIa3'), ('126_S20025270213_ธารารัตน์_ตะวงษา', 'https://drive.google.com/drive/folders/16XCw4eb0Rjc5MsVB30bmkcuwB-ayn5v1'), ('127_S53029611247_อัศวิน_สิงเหม', 'https://drive.google.com/drive/folders/13VyIJe3ibWYYhT9cVAgFZRcc112qkuxk?usp=sharing'), ('128_S10039617478_คณพศ_โมคมะเลิง', 'https://drive.google.com/drive/folders/1IcxiAHPGYmCNccc1btPd50BOO4Be0FtW'), ('129_S60005598486_ชิสา _วงษ์สุนทร', 'https://drive.google.com/drive/folders/1UomE1po6halapQV-j9_CNuEQ7gs4Wt9u?usp=sharing'), ('131_S45044182813_พงศ์ธนสรณ์_ทิพประมวล', 'https://drive.google.com/drive/folders/1lpcjq_sJvNvsTg31yWo6DSD3zNq-zWH3'), ('132_S49034021647_ดาวไสว_บุญเรืองนาม', 'https://drive.google.com/drive/folders/16vBAuUvEvf_FIEF7PlxG26cCNDSf7yeP'), ('133_S40029324624_เขมณัฏฐ์_หิรัญวรวิทย์', 'https://drive.google.com/drive/folders/1F3uBbrd6-g0aFXcWnvRtL46DTIvi7XA1?usp=drive_link'), ('134_S24045171200_ปริชญา_อะจะระกุล', 'https://drive.google.com/drive/folders/1RIWhmJ99p-90WxqKe-0rsL_bA4gRSZO4?usp=sharing'), ('135_S10041000567_ณภัทร _พุฒเนียม', 'https://drive.google.com/drive/folders/1PHTJNDhV3VGxGm-0c3VXBqhoKEJpVRAd?usp=sharing'), ('136_S16036154371_ณัฏฐณิชา_กันภัย', 'https://drive.google.com/drive/folders/1Af9HyPC8KCL3NgIXeaUOshZ7JlmqBCjm'), ('137_S44039053250_พรอธิปไตย _วีระการณ์', 'https://drive.google.com/drive/folders/1ur1WrR7kj1D0w2CzjEH42oa6tFcTeUO7'), ('138_S93040642675_อารยา_แวววรรณจิต', 'https://drive.google.com/drive/folders/1Oln9xg9BQgy4A3auwqA-OMnAGJ7KWrsK'), ('139_S73031282871_วรรณภัสสรณ์_กลิ่นระรวย', 'https://drive.google.com/drive/folders/13bQ75fX7HzKdRmudRxo4tsmG_HhOfJs6'), ('140_S23030785663_ราชธรรม_ลุนสะแกวงษ์', 'https://drive.google.com/drive/folders/1mq9N4453UMPzrlMEixdw0mvlLvrfpMdd'), ('141_S52034421477_ภูมิพลัง_เนียมวัฒนะ', 'https://drive.google.com/drive/folders/1X4oDJ2pe-He32fB3os3XuctWBhICqeGW'), ('142_S26037927137_จิรกานต์_กีรติกานต์ชัย', 'https://drive.google.com/drive/folders/12mmE92KSbejB4ZHJ8IPJZ6aw6PlUdaKM'), ('143_S10043441601_ณภัทร์_ศิวิไล', 'https://drive.google.com/drive/folders/1yFB-Xq4_HpRy2AkTEdVU4c4dlZRtbgu3'), ('144_S15030895458_ธัญญรัตน์_หล่อประเสริฐ', 'https://drive.google.com/drive/folders/1YFPJW4Ziyj5CIxYg4cIGYbyG6dqbuaZY'), ('145_S51012283738_วิภาดา_ไชยสมบัติ', 'https://drive.google.com/drive/folders/1o3aS8WvLCP1hbWNZVXXCa8ZHVMsETORY'), ('146_S96002970857_เกาษัร_เล๊าะเเว', 'https://drive.google.com/drive/folders/1gMtsXkTd4EU9JtIde4RFRZW9DdUItU7z'), ('147_S10028076467_วรรณณวลัญช์_เจริญสุข', 'https://drive.google.com/drive/folders/1IArek2esmNsiC4rpdf08aSs6ixPnyLLV?usp=sharing'), ('148_S76043936655_ธีรัฐพล_งามพงษ์พรรณ', 'https://drive.google.com/drive/folders/1hrklLuptnOl_5R8Le2djU-08rK32wuOy?usp=sharing'), ('150_S90005390278_ภาคิน_มุณีแนม', 'https://drive.google.com/drive/folders/14R7dO9BODv-0-WAmMbJoPVc6BUwxXBR4'), ('151_S47038847132_ภาวิตา_เทพสุรินทร์', 'https://drive.google.com/drive/folders/1S8lrXmtDAGytksU1GqqdtxKxh_qfc0iS'), ('152_S44028613032_นันทภัค_แสงมหาชัย', 'https://drive.google.com/drive/folders/1q5aeESeZyY9V9mdimPiLcIQ2W9e8Bgmi'), ('153_S18036198441_กลทีป์_เมืองดี', 'https://drive.google.com/drive/folders/1e48jOv-3A66n6ZTiEywTsFfeRBzdzVA7?usp=sharing'), ('154_S75039670472_ศศิพงษ์_สุขเสาววิมล', 'https://drive.google.com/drive/folders/1OBpwTkkm6gNjfg-vuNr0YxjuaSIgCgWA'), ('155_S10034132308_รัล_จูฑะพันธุ์', 'https://drive.google.com/drive/folders/1lgyCwcSqiu6_2r_SSBCJUJIK7eb3btjC'), ('156_S53045307071_กฤษณะพัทธ์_สันตะ', 'https://drive.google.com/drive/folders/1NmveiyCJ_dNYk9KyUVfFPOKbugxhsyC4'), ('157_S84028760062_มาศมาตา_ศุภกรชูวงศ์', 'https://drive.google.com/drive/folders/1nA_m14GJu-7czMrtCBWTwC8VfW3d5t8L?usp=drive_link'), ('158_S50035891427_คณาธิป _บุญมาเชย', 'https://drive.google.com/drive/folders/1JthjIbxFPSCyZp298AXnnnim9ver-jYo'), ('159_S84019556428_พรรชสรร_สิทธิชู', 'https://drive.google.com/drive/folders/1mr1HYpXZbx_GDqH_dacNmNrnIO2JF_Di?usp=sharing'), ('160_S33029734522_ศศิภา _ระหาร', 'https://drive.google.com/drive/folders/1AK0NvlR5RXtUlWr70G3Mw8ai9lKs8Bwl'), ('161_S91014895842_อุลญา_ดำท่าคลอง', 'https://drive.google.com/drive/folders/167use0RaRsGBJZkwa7HTrP6DBqDGsQ9l'), ('162_S77012688511_เตชินท์_ผลวัฒนะ', 'https://drive.google.com/drive/folders/1Z892tnTnuBk4egGoMkLwvIgN-Gd53OFf?usp=sharing'), ('163_S34033385534_คุณัญญา_บุญขจร', 'https://drive.google.com/drive/folders/1ehAXFTSTA4v2nT8UIH2mBMGhaxlWrpo5'), ('164_S10005751152_ภัชชญา _แซ่โท้ว', 'https://drive.google.com/drive/folders/1w0idRkDxFJvx1oOT36jHx0-vOiyJ6dol'), ('165_S50010252005_ธนกร_จานคุณ', 'https://drive.google.com/drive/folders/1ma4E83XjO_tusGjd7Lp6DXOmVp4-UJV5?usp=drive_link'), ('166_S31028664462_พรพรหม_มังคะชาติ', 'https://drive.google.com/drive/folders/1LUG_FqffznOpLUaXXWEPImouRgaKZGd4?usp=sharing'), ('167_S41030633308_อนัญญา_มุมกลาง', 'https://drive.google.com/drive/folders/1XfWQxhOG8EDBS28llOoc96_FFCAbs6Cb'), ('169_S84032080863_วิรชัช_พยัคฆา', 'https://drive.google.com/drive/folders/1onnCDlkE6iOnUZ6p-D_0J0g4dbkrYFqM'), ('170_S50045566306_รักษิณา _ต๊ะสู้', 'https://drive.google.com/drive/folders/1smCu-ym5GxIO2ualP3qA-lXuZWxP-FvG'), ('171_S92044336076_กันต์กษิดิ์เดช _อภิศุทธิคำพร', 'https://drive.google.com/drive/folders/1Rse7vrPSX--YqS_sm2tWwvstv-q5URZc'), ('172_S57035574401_พงษ์สิริ _เมฆวิลัย', 'https://drive.google.com/drive/folders/1vKlnOdMqEQx896oawLHz0QnWzGEK3v98'), ('173_S40024508852_ปภาวรินท์_สุราสา', 'https://drive.google.com/drive/folders/1h9Gy1MTjkS6yhrxKYFqUyJ2DkZDEsTLV'), ('174_S10024433687_กุลยา_พิมดี', 'https://drive.google.com/drive/folders/1azbkfqnKOGY_AGZzx7D97rRhn1j0Qvtb?usp=sharing'), ('176_S32036856521_ภัควัฒน์_ดวงรัตน์', 'https://drive.google.com/drive/folders/1U7w1J1gS6-pCyleBMm1QZMXgWcN8ToYC'), ('177_S12031704353_วีรวงศ์_แช่มพงษ์อนันท์', 'https://drive.google.com/drive/folders/11H74P-Fu19vws8vr5F4377k-dGSmrZxV?usp=sharing'), ('178_S30040996404_พลอยน้ำเงิน_น้ำทิพย์', 'https://drive.google.com/drive/folders/1MOWvqjtECHESFCDVZ7KLjFBotOIAClsz?usp=sharing'), ('180_S95044406086_ฟิรดาวส์ _บ่าวเบ็ญหมัด', 'https://drive.google.com/drive/folders/1CTApij52WSYFtcFsuOUJZv1Igv3dyoBm'), ('181_S10034908413_ศิวาภรณ์_ชัยถาวรกิจ', 'https://drive.google.com/drive/folders/1k03RDUds5jyFL8l2OQ6pXtER4TXlfRkz'), ('182_S11026497317_จักรพล_หูมวงศ์', 'https://drive.google.com/drive/folders/1Y-Rzul9h72QShegwJ5mqc_TXiGaQjy4c'), ('183_S10043245145_ปัณฑิฌา_ดอนสกุล', 'https://drive.google.com/drive/folders/19XIfm7p_sfbmD8fmMtLo8Ix8VzL-qEra?q=sharedwith:public%20parent:19XIfm7p_sfbmD8fmMtLo8Ix8VzL-qEra'), ('184_S96012416508_พรรณพัชร_ปุย ', 'https://drive.google.com/drive/folders/14hyEGE9785d5V1FcPmDc0tJ6QOb68M7u'), ('186_S44010788622_นันทกร_ปาปะโน', 'https://drive.google.com/drive/folders/1weXuM48BugMxMBlTTSLUlt6DlNIW7hqq'), ('187_S90007170616_ฟ้าใส_เจริญศรี', 'https://drive.google.com/drive/folders/1be3ADZ9oLHu-jQUy9yvnx3-e-F7nttUh'), ('189_S41038476832_ปุญญตา _แพสยันดร', 'https://drive.google.com/drive/folders/1LXk4HatZRfcKIcUac0KDYDHwC9OzkCBj'), ('190_S10036730100_เทวกร_ตันติวิทยากุล', 'https://drive.google.com/drive/folders/14VDDTrE_iDsj9PkWuj6MiRLwBEiZ2Vhh'), ('191_S90035660803_คศวัตร_สาเเละ', 'https://drive.google.com/drive/folders/1uBJ7wEjAY5UYLkospRXaetZEmhlBp6di?usp=drive_link'), ('192_S44026560375_นิภารัตน์_ไชยเดช', 'https://drive.google.com/drive/folders/10T6GAdOd1LuZm5UZjjor-jdqMZ50THcK'), ('193_S36016816166_ไท _ถนอมไธสง', 'https://drive.google.com/drive/folders/1---SEDX-bNVCWqiLPTIqVbcET2yj2QEe'), ('194_S31044807841_สุธาสินี _ศรีเนาว์รัตน์', 'https://drive.google.com/drive/folders/18cPiH4kK5InKahzSYr-fxiWh9vKcugoF'), ('195_S12001473170_ปฐมากรณ์_ระเบียบ', 'https://drive.google.com/drive/folders/115i8MYIZIkSqlxigKFRCLqKbm67lGGBu'), ('196_S41031887656_สกุลทิพย์_กิติราช', 'https://drive.google.com/drive/folders/11AIlN6btzWs07mYspaLgwuhcTj7nxER5'), ('197_S38032892016_พรรณรวี _ด้วงพุฒ', 'https://drive.google.com/drive/folders/177kNFD3lytF2XKFQePYMsXR6w9vkF5uR'), ('198_S44043360777_ธนากร_จำปาสอน', 'https://drive.google.com/drive/folders/1ilga9QhiUk02ZjdDfj_opp64zPZn7XRx?usp=sharing'), ('199_S10034086415_สิดาพร_เหมาะราษีร์', 'https://drive.google.com/drive/folders/18R76Yt_4mOQqpRiJ99qnPGd86pgCmo8M'), ('200_S42038631387_พาสุข_แก้วใสย์', 'https://drive.google.com/drive/folders/1GnUB4G8Z75ugb8UqWVxq1r6Sgp3lxy5Z'), ('201_S95040513173_อัสมาอ์_สะมะดะแมง', 'https://drive.google.com/drive/folders/1-mKFzFbiF5r-dXB1zKItK4112K_fCQ6v'), ('202_S33037634541_อภิรดา_มณีวรรณ', 'https://drive.google.com/file/d/1Q9JGNjgIhBFghH-uRFT6YgSAk3_lz4gZ/view?usp=drive_link'), ('203_S10040276206_ชิษณุพงศ์_วิริยะศิริพงศ์กูล', 'https://drive.google.com/drive/folders/1l7f6PqIZfuDnwKHleS8oT5spyNeZV_sv'), ('204_S71045280722_โสรัชดาพักตร์_ผู้มีจรรยา', 'https://drive.google.com/drive/folders/1VL0mLZto72ILZc0TJb9sUYS5_v3exjlI'), ('206_S61030586760_จิรัชญา_หะชะยัง', 'https://drive.google.com/drive/folders/1uhMYnSj83MEax0lmDJpDLuE1kzwZFCkH?usp=sharing'), ('207_S92042860378_แทนคุณ_นิลปักษี', 'https://www.youtube.com/watch?v=GZa3Vcc0Y9Y')]\n"
          ]
        }
      ],
      "source": [
        "mapped_ls = list(zip(folder_name_ls, gdrive_link_ls))\n",
        "print(mapped_ls)"
      ]
    },
    {
      "cell_type": "code",
      "execution_count": null,
      "metadata": {
        "colab": {
          "base_uri": "https://localhost:8080/"
        },
        "id": "9yK87SgOsE6_",
        "outputId": "cfd59554-69f4-459e-971a-dfb53a4e6fff"
      },
      "outputs": [
        {
          "output_type": "stream",
          "name": "stdout",
          "text": [
            "6_S18027386004_อรณิชชา_อินทับทัน\n",
            "https://drive.google.com/drive/folders/1E6jHOB60U-0jAZVFhK10KPTjzccsyTaT?usp=share_link\n"
          ]
        }
      ],
      "source": [
        "#test link download\n",
        "\n",
        "link_1 = mapped_ls[0][1]\n",
        "name_1 = mapped_ls[0][0]\n",
        "print(name_1)\n",
        "print(link_1)"
      ]
    },
    {
      "cell_type": "code",
      "execution_count": null,
      "metadata": {
        "id": "m5hqNpu5pKV4"
      },
      "outputs": [],
      "source": [
        "#download all file in folder\n",
        "\n",
        "# gdown.download_folder(link_1)"
      ]
    },
    {
      "cell_type": "code",
      "execution_count": null,
      "metadata": {
        "id": "LqWU5khaqgnt"
      },
      "outputs": [],
      "source": [
        "#create dir by foldername list\n",
        "d_root = '/content/drive/MyDrive/odos_additional_docs/odos_docs_folder'"
      ]
    },
    {
      "cell_type": "code",
      "execution_count": null,
      "metadata": {
        "id": "F5uohG3Pqkv2"
      },
      "outputs": [],
      "source": [
        "#test download with gdown\n",
        "# file_id = os.path.basename(mapped_ls[0][1]).split('=')[-1]\n",
        "# file_name = file_id\n",
        "# output_path = os.path.join(d_root, file_name)\n",
        "\n",
        "# gdown.download(mapped_ls[0][1], output_path, quiet=True, fuzzy=True)"
      ]
    },
    {
      "cell_type": "markdown",
      "source": [
        "## Download mapped file (name-file) from gdrive"
      ],
      "metadata": {
        "id": "DBWzVeRWbRWO"
      }
    },
    {
      "cell_type": "code",
      "execution_count": null,
      "metadata": {
        "id": "E_cJlNE4XhEd",
        "colab": {
          "base_uri": "https://localhost:8080/"
        },
        "outputId": "01108973-f72e-4066-cdfc-df84d9718eee"
      },
      "outputs": [
        {
          "metadata": {
            "tags": null
          },
          "name": "stderr",
          "output_type": "stream",
          "text": [
            "Downloading all files:   1%|          | 1/165 [00:22<1:02:06, 22.72s/it]"
          ]
        },
        {
          "metadata": {
            "tags": null
          },
          "name": "stdout",
          "output_type": "stream",
          "text": [
            "Downloaded folder from 6_S18027386004_อรณิชชา_อินทับทัน, link: https://drive.google.com/drive/folders/1E6jHOB60U-0jAZVFhK10KPTjzccsyTaT?usp=share_link\n"
          ]
        },
        {
          "metadata": {
            "tags": null
          },
          "name": "stderr",
          "output_type": "stream",
          "text": [
            "\rDownloading all files:   1%|          | 2/165 [00:36<47:37, 17.53s/it]  "
          ]
        },
        {
          "metadata": {
            "tags": null
          },
          "name": "stdout",
          "output_type": "stream",
          "text": [
            "Downloaded folder from 7_S18039734800_ศศิวิมน_ร้อยทา, link: https://drive.google.com/drive/folders/1dTxvS2GCHXqrK0ymY_upsE3CX6_7Tikg\n"
          ]
        },
        {
          "metadata": {
            "tags": null
          },
          "name": "stderr",
          "output_type": "stream",
          "text": [
            "\rDownloading all files:   2%|▏         | 3/165 [00:52<45:10, 16.73s/it]"
          ]
        },
        {
          "metadata": {
            "tags": null
          },
          "name": "stdout",
          "output_type": "stream",
          "text": [
            "Downloaded folder from 8_S71045472230_นวเรศ_เตียงเกตุ, link: https://drive.google.com/drive/folders/1y4JBAhvlwDcMMMnCBTFg_sG2nz0utWqK\n"
          ]
        },
        {
          "metadata": {
            "tags": null
          },
          "name": "stderr",
          "output_type": "stream",
          "text": [
            "\rDownloading all files:   2%|▏         | 4/165 [01:10<46:24, 17.30s/it]"
          ]
        },
        {
          "metadata": {
            "tags": null
          },
          "name": "stdout",
          "output_type": "stream",
          "text": [
            "Downloaded folder from 9_S53029968565_ภิรัญญา_พุฒลา, link: https://drive.google.com/drive/folders/1bf_MMM2k6NNbDlTyjrt6gY3tW8dKnATm\n"
          ]
        },
        {
          "metadata": {
            "tags": null
          },
          "name": "stderr",
          "output_type": "stream",
          "text": [
            "\rDownloading all files:   3%|▎         | 5/165 [01:35<53:42, 20.14s/it]"
          ]
        },
        {
          "metadata": {
            "tags": null
          },
          "name": "stdout",
          "output_type": "stream",
          "text": [
            "Downloaded folder from 10_S31005914138_ขรินทร์ทิพย์_เอี่ยมสร้อย, link: https://drive.google.com/drive/folders/1YOQrS6tpeDr1I8kxK2HZKvwvtt52CaPl?usp=drive_link\n"
          ]
        },
        {
          "metadata": {
            "tags": null
          },
          "name": "stderr",
          "output_type": "stream",
          "text": [
            "\rDownloading all files:   4%|▎         | 6/165 [01:57<54:36, 20.61s/it]"
          ]
        },
        {
          "metadata": {
            "tags": null
          },
          "name": "stdout",
          "output_type": "stream",
          "text": [
            "Downloaded folder from 12_S43010244041_สุธาสินี_โตส้ม, link: https://drive.google.com/drive/folders/1-7iZjSX6xQ07ptpB2twLMtxdITuMzRH_\n"
          ]
        },
        {
          "metadata": {
            "tags": null
          },
          "name": "stderr",
          "output_type": "stream",
          "text": [
            "\rDownloading all files:   4%|▍         | 7/165 [02:18<55:01, 20.89s/it]"
          ]
        },
        {
          "metadata": {
            "tags": null
          },
          "name": "stdout",
          "output_type": "stream",
          "text": [
            "Downloaded folder from 13_S12011187271_วีรวินน์_ไหล่บุญญานุภาพ, link: https://drive.google.com/drive/folders/1dAdVJ71PeYZpDu8TH7C45cysp6XE8w_O\n"
          ]
        },
        {
          "metadata": {
            "tags": null
          },
          "name": "stderr",
          "output_type": "stream",
          "text": [
            "\rDownloading all files:   5%|▍         | 8/165 [02:38<54:04, 20.67s/it]"
          ]
        },
        {
          "metadata": {
            "tags": null
          },
          "name": "stdout",
          "output_type": "stream",
          "text": [
            "Downloaded folder from 17_S36036563400_รัฐศาสตร์_บุญกอด, link: https://drive.google.com/drive/folders/1z0gnFTqpqCtp7uJ8JL3dBF0_GDTGqrHO\n"
          ]
        },
        {
          "output_type": "stream",
          "name": "stderr",
          "text": [
            "\rDownloading all files:   5%|▌         | 9/165 [03:08<1:01:13, 23.55s/it]"
          ]
        },
        {
          "output_type": "stream",
          "name": "stdout",
          "text": [
            "Downloaded folder from 18_S45041892548_กมลชนก _แสงมณี, link: https://drive.google.com/drive/folders/1U_pdTvQZZGJ0DRdu1ahf3LdsO4RlcPAN\n"
          ]
        },
        {
          "output_type": "stream",
          "name": "stderr",
          "text": [
            "\rDownloading all files:   6%|▌         | 10/165 [03:23<53:44, 20.81s/it] "
          ]
        },
        {
          "output_type": "stream",
          "name": "stdout",
          "text": [
            "Downloaded folder from 20_S12016450251_ปุญญาภา_ตรีสุวรรณ, link: https://drive.google.com/drive/mobile/folders/1cwqhroniENTwk7BFgj0OGjGh7pgdk4NM?usp=share_link\n"
          ]
        },
        {
          "output_type": "stream",
          "name": "stderr",
          "text": [
            "\rDownloading all files:   7%|▋         | 11/165 [03:24<37:32, 14.63s/it]"
          ]
        },
        {
          "output_type": "stream",
          "name": "stdout",
          "text": [
            "Downloaded folder from 22_S20039108603_ธนนันต์_ ยอดไธสง, link: https://drive.google.com/folderview?id=1BpKzYQMH1bbEMuL-3rfLKLoAmXNNLebI\n"
          ]
        },
        {
          "output_type": "stream",
          "name": "stderr",
          "text": [
            "\rDownloading all files:   7%|▋         | 12/165 [03:40<38:51, 15.24s/it]"
          ]
        },
        {
          "output_type": "stream",
          "name": "stdout",
          "text": [
            "Downloaded folder from 24_S81024351042_ปริยาภัทร_อังคะฮาด, link: https://drive.google.com/drive/folders/18hrEwHtLcbY9IuB3Hjq6rYUshrtHoKwC\n"
          ]
        },
        {
          "output_type": "stream",
          "name": "stderr",
          "text": [
            "\rDownloading all files:   8%|▊         | 13/165 [03:58<40:26, 15.96s/it]"
          ]
        },
        {
          "output_type": "stream",
          "name": "stdout",
          "text": [
            "Downloaded folder from 25_S11006608061_แพรวนารา_แสงสำราญ, link: https://drive.google.com/drive/folders/1sBTfn4X8dc0XDM4vJNid1pObfeRZLlL0?usp=drive_link\n"
          ]
        },
        {
          "output_type": "stream",
          "name": "stderr",
          "text": [
            "\rDownloading all files:   8%|▊         | 14/165 [04:10<37:34, 14.93s/it]"
          ]
        },
        {
          "output_type": "stream",
          "name": "stdout",
          "text": [
            "Downloaded folder from 28_S91035861740_มูฮัมหมัดอับบาส_แก้วสลำ, link: https://drive.google.com/drive/folders/1IyP-JQhAq3iAHqzNlXSaioEseqQaD2Ai\n"
          ]
        },
        {
          "output_type": "stream",
          "name": "stderr",
          "text": [
            "\rDownloading all files:   9%|▉         | 15/165 [04:27<38:30, 15.40s/it]"
          ]
        },
        {
          "output_type": "stream",
          "name": "stdout",
          "text": [
            "Downloaded folder from 29_S95007997434_ธันยากานต์_วัฒนศิริภาวงศ์, link: https://drive.google.com/drive/folders/1mXoBECqGcXtnYx1OW8NMJXeIJt0Cnmlc\n"
          ]
        },
        {
          "output_type": "stream",
          "name": "stderr",
          "text": [
            "\rDownloading all files:  10%|▉         | 16/165 [04:46<41:04, 16.54s/it]"
          ]
        },
        {
          "output_type": "stream",
          "name": "stdout",
          "text": [
            "Downloaded folder from 30_S70002142046_เพียงออ_ชมชื่น, link: https://drive.google.com/drive/folders/1TSpIAUVn1mn9oFW9BmfVcwYIFadce9ae\n"
          ]
        },
        {
          "output_type": "stream",
          "name": "stderr",
          "text": [
            "\rDownloading all files:  10%|█         | 17/165 [05:10<46:07, 18.70s/it]"
          ]
        },
        {
          "output_type": "stream",
          "name": "stdout",
          "text": [
            "Downloaded folder from 31_S21023445822_สุจิรา_พะวันรัมย์, link: https://drive.google.com/drive/folders/1rA4DOPfz9fnvSY-ptCYLTZnLH0G7TsE8\n"
          ]
        },
        {
          "output_type": "stream",
          "name": "stderr",
          "text": [
            "\rDownloading all files:  11%|█         | 18/165 [05:37<51:45, 21.13s/it]"
          ]
        },
        {
          "output_type": "stream",
          "name": "stdout",
          "text": [
            "Downloaded folder from 33_S10012902148_วิมลภักดิ์_นำบุญแสง, link: https://drive.google.com/drive/folders/1KI6jql7lzEfN030xi_70xW9EbvPkXTkw\n"
          ]
        },
        {
          "output_type": "stream",
          "name": "stderr",
          "text": [
            "\rDownloading all files:  12%|█▏        | 19/165 [06:00<53:15, 21.89s/it]"
          ]
        },
        {
          "output_type": "stream",
          "name": "stdout",
          "text": [
            "Downloaded folder from 34_S43026316408_กฤษณา_แสงสุพงษ์, link: https://drive.google.com/drive/folders/1pjHOZqEM_RbUEju0YfPywZRUUhe-3L06\n"
          ]
        },
        {
          "output_type": "stream",
          "name": "stderr",
          "text": [
            "\rDownloading all files:  12%|█▏        | 20/165 [06:20<51:16, 21.21s/it]"
          ]
        },
        {
          "output_type": "stream",
          "name": "stdout",
          "text": [
            "Downloaded folder from 35_S34031023422_รัตนธิดา_จันทรกาญจน์, link: https://drive.google.com/drive/folders/1eCXASXlWEZC9225EcswpVUVC6AR4T3I-\n"
          ]
        },
        {
          "output_type": "stream",
          "name": "stderr",
          "text": [
            "\rDownloading all files:  13%|█▎        | 21/165 [06:35<46:50, 19.52s/it]"
          ]
        },
        {
          "output_type": "stream",
          "name": "stdout",
          "text": [
            "Downloaded folder from 36_S10036050300_ณิชากร_นิภาธรวงษ์, link: https://drive.google.com/drive/folders/1-F2llfqpbfdknp0tAZyLFpZTX3gQ6Pst?usp=sharing\n"
          ]
        },
        {
          "output_type": "stream",
          "name": "stderr",
          "text": [
            "\rDownloading all files:  13%|█▎        | 22/165 [06:58<48:45, 20.46s/it]"
          ]
        },
        {
          "output_type": "stream",
          "name": "stdout",
          "text": [
            "Downloaded folder from 37_S10031545168_พีรวิชญ์_เชี่ยววิทย์, link: https://drive.google.com/drive/folders/1zzBzaJJ0o4O0XS5EJmfBnUUBJOlf0KgS\n"
          ]
        },
        {
          "output_type": "stream",
          "name": "stderr",
          "text": [
            "\rDownloading all files:  14%|█▍        | 23/165 [07:30<56:19, 23.80s/it]"
          ]
        },
        {
          "output_type": "stream",
          "name": "stdout",
          "text": [
            "Downloaded folder from 38_S21007131727_ศรัณยพงศ์_กุลภัทร์วัฒนา, link: https://drive.google.com/drive/folders/1BQ5o6goPEcmnH0JEPk4UjtYmMMBU6FK-?usp=drive_link\n"
          ]
        },
        {
          "output_type": "stream",
          "name": "stderr",
          "text": [
            "\rDownloading all files:  15%|█▍        | 24/165 [07:57<58:09, 24.75s/it]"
          ]
        },
        {
          "output_type": "stream",
          "name": "stdout",
          "text": [
            "Downloaded folder from 39_S37035232564_สรชา_บุญมี, link: https://drive.google.com/drive/folders/1wQJve1RkFEYROh6tPhge-YpHXtl2mHV8\n"
          ]
        },
        {
          "output_type": "stream",
          "name": "stderr",
          "text": [
            "\rDownloading all files:  15%|█▌        | 25/165 [08:24<59:47, 25.62s/it]"
          ]
        },
        {
          "output_type": "stream",
          "name": "stdout",
          "text": [
            "Downloaded folder from 40_S90035966482_ซัมซีย๊ะห์_โดโซมิ, link: https://drive.google.com/drive/folders/1pVcfalaHcC0-KRUcqIhEI7V1tzkub0eM\n"
          ]
        },
        {
          "output_type": "stream",
          "name": "stderr",
          "text": [
            "\rDownloading all files:  16%|█▌        | 26/165 [08:51<59:53, 25.86s/it]"
          ]
        },
        {
          "output_type": "stream",
          "name": "stdout",
          "text": [
            "Downloaded folder from 41_S57032232226_เปมิกา_เเซ่จึง, link: https://drive.google.com/drive/folders/13JI8nplSbIwYLU6lMoLx1yQ3Dkl63I9_\n"
          ]
        },
        {
          "output_type": "stream",
          "name": "stderr",
          "text": [
            "\rDownloading all files:  16%|█▋        | 27/165 [09:14<57:53, 25.17s/it]"
          ]
        },
        {
          "output_type": "stream",
          "name": "stdout",
          "text": [
            "Downloaded folder from 43_S16003828555_พรธิตา_คุ้มครอง, link: https://drive.google.com/drive/folders/17Ol-BUi9Tc8OiROVT4CuO6qTil3JvvqR\n"
          ]
        },
        {
          "output_type": "stream",
          "name": "stderr",
          "text": [
            "\rDownloading all files:  17%|█▋        | 28/165 [09:45<1:00:56, 26.69s/it]"
          ]
        },
        {
          "output_type": "stream",
          "name": "stdout",
          "text": [
            "Downloaded folder from 44_S84029208528_เมธัส_บัวทองบุญ, link: https://drive.google.com/drive/folders/1RXw5ygHyN0ZxkcxKEJZID-Yc70nSgrlH\n"
          ]
        },
        {
          "output_type": "stream",
          "name": "stderr",
          "text": [
            "\rDownloading all files:  18%|█▊        | 29/165 [10:18<1:04:51, 28.61s/it]"
          ]
        },
        {
          "output_type": "stream",
          "name": "stdout",
          "text": [
            "Downloaded folder from 45_S10028893530_ทวีปพงษ์_สุมะนัสชัย, link: https://drive.google.com/drive/u/0/folders/16upKDOslrzb-OBygrJPrrC-_ytvF0bRc\n"
          ]
        },
        {
          "output_type": "stream",
          "name": "stderr",
          "text": [
            "\rDownloading all files:  18%|█▊        | 30/165 [10:42<1:01:25, 27.30s/it]"
          ]
        },
        {
          "output_type": "stream",
          "name": "stdout",
          "text": [
            "Downloaded folder from 46_S10036250053_เกรส_อารยกาญจน์, link: https://drive.google.com/drive/folders/1m3AM2GDr6PRJG1riBJteFEOzyTl3d0Xu\n"
          ]
        },
        {
          "output_type": "stream",
          "name": "stderr",
          "text": [
            "\rDownloading all files:  19%|█▉        | 31/165 [10:59<54:01, 24.19s/it]  "
          ]
        },
        {
          "output_type": "stream",
          "name": "stdout",
          "text": [
            "Downloaded folder from 48_S50028596778_ธารริน_หล้าอินสม, link: https://drive.google.com/drive/folders/1_SFLMh3cg5E4LwUExRUX0hMrcwKHw_ZJ?usp=drive_link\n"
          ]
        },
        {
          "output_type": "stream",
          "name": "stderr",
          "text": [
            "\rDownloading all files:  19%|█▉        | 32/165 [11:22<52:40, 23.76s/it]"
          ]
        },
        {
          "output_type": "stream",
          "name": "stdout",
          "text": [
            "Downloaded folder from 49_S46042730144_พิชามญชุ์ _คำวิโส, link: https://drive.google.com/drive/folders/15mjQZ_njoqqkdN7l5gMlFzEAF6zBhdxB\n"
          ]
        },
        {
          "output_type": "stream",
          "name": "stderr",
          "text": [
            "\rDownloading all files:  20%|██        | 33/165 [11:41<49:08, 22.34s/it]"
          ]
        },
        {
          "output_type": "stream",
          "name": "stdout",
          "text": [
            "Downloaded folder from 52_S12027156574_จิราภรณ์_เปาริก, link: https://drive.google.com/drive/folders/1ic5ivN590nHcEpsEsF58zYM5MD6yThKS\n"
          ]
        },
        {
          "output_type": "stream",
          "name": "stderr",
          "text": [
            "\rDownloading all files:  21%|██        | 34/165 [12:06<50:27, 23.11s/it]"
          ]
        },
        {
          "output_type": "stream",
          "name": "stdout",
          "text": [
            "Downloaded folder from 53_S60026642623_ปัณชญา_กุหลาบศรี, link: https://drive.google.com/drive/folders/1_jrxM6yLbQMUz59IlzFUjeEzA9BOEgvw\n"
          ]
        },
        {
          "output_type": "stream",
          "name": "stderr",
          "text": [
            "\rDownloading all files:  21%|██        | 35/165 [12:30<51:12, 23.63s/it]"
          ]
        },
        {
          "output_type": "stream",
          "name": "stdout",
          "text": [
            "Downloaded folder from 54_S43013430064_กลวัชร_อาจวงษา, link: https://drive.google.com/drive/folders/1M4nXLslTxCOuXoaNAuGdostd6y7LmkHs\n"
          ]
        },
        {
          "output_type": "stream",
          "name": "stderr",
          "text": [
            "\rDownloading all files:  22%|██▏       | 36/165 [12:46<45:28, 21.15s/it]"
          ]
        },
        {
          "output_type": "stream",
          "name": "stdout",
          "text": [
            "Downloaded folder from 57_S10036706007_เมธี_คำบุญศรี, link: https://drive.google.com/drive/folders/1GS2mYQUAMXHmEY22kQIAlk65dohJuBSh\n"
          ]
        },
        {
          "output_type": "stream",
          "name": "stderr",
          "text": [
            "\rDownloading all files:  22%|██▏       | 37/165 [13:01<41:20, 19.38s/it]"
          ]
        },
        {
          "output_type": "stream",
          "name": "stdout",
          "text": [
            "Downloaded folder from 58_S81023395246_คณิศร _ศรีสุข, link: https://drive.google.com/drive/folders/1S70lxXkK_xngNbFxOqtFuz-x60Tuz3d_\n"
          ]
        },
        {
          "output_type": "stream",
          "name": "stderr",
          "text": [
            "\rDownloading all files:  23%|██▎       | 38/165 [13:19<40:26, 19.11s/it]"
          ]
        },
        {
          "output_type": "stream",
          "name": "stdout",
          "text": [
            "Downloaded folder from 59_S96034888457_นูรอายูนี_แมเร๊าะ, link: https://drive.google.com/drive/folders/1cAijwGrodhvq-b78ZZEDYEnKVfTrjma_\n"
          ]
        },
        {
          "output_type": "stream",
          "name": "stderr",
          "text": [
            "\rDownloading all files:  24%|██▎       | 39/165 [13:39<40:31, 19.30s/it]"
          ]
        },
        {
          "output_type": "stream",
          "name": "stdout",
          "text": [
            "Downloaded folder from 60_S45041892548_กมลชนก_แสงมณั, link: https://drive.google.com/drive/folders/1U_pdTvQZZGJ0DRdu1ahf3LdsO4RlcPAN\n"
          ]
        },
        {
          "output_type": "stream",
          "name": "stderr",
          "text": [
            "\rDownloading all files:  24%|██▍       | 40/165 [13:59<40:40, 19.53s/it]"
          ]
        },
        {
          "output_type": "stream",
          "name": "stdout",
          "text": [
            "Downloaded folder from 62_S10030041801_ธภัทร_สพรั่งผล, link: https://drive.google.com/drive/folders/192fnt2YkjNcaDkLGNWrlBBfLteFMciRH\n"
          ]
        },
        {
          "output_type": "stream",
          "name": "stderr",
          "text": [
            "\rDownloading all files:  25%|██▍       | 41/165 [14:20<41:05, 19.88s/it]"
          ]
        },
        {
          "output_type": "stream",
          "name": "stdout",
          "text": [
            "Downloaded folder from 63_S12032061120_จิรวัฒน์_มะโนวรรณ์, link: https://drive.google.com/drive/folders/1HudsbPus-xvMETg7KCy2fN1rtz4igbtc\n"
          ]
        },
        {
          "output_type": "stream",
          "name": "stderr",
          "text": [
            "\rDownloading all files:  25%|██▌       | 42/165 [14:42<42:21, 20.67s/it]"
          ]
        },
        {
          "output_type": "stream",
          "name": "stdout",
          "text": [
            "Downloaded folder from 64_S10009810053_ธัญธร_โลหะบัณฑิตวงศ์, link: https://drive.google.com/drive/folders/1cdrhotTL-LUokrI_3FD6tDWwWSSxu8cY\n"
          ]
        },
        {
          "output_type": "stream",
          "name": "stderr",
          "text": [
            "\rDownloading all files:  26%|██▌       | 43/165 [15:08<44:56, 22.10s/it]"
          ]
        },
        {
          "output_type": "stream",
          "name": "stdout",
          "text": [
            "Downloaded folder from 65_S12035492268_ณัฐวรา_ลองศรี, link: https://drive.google.com/drive/folders/1R_ndW_1D0l5ZxB0_Qn7uN5L1qHf2eNP9\n"
          ]
        },
        {
          "output_type": "stream",
          "name": "stderr",
          "text": [
            "\rDownloading all files:  27%|██▋       | 44/165 [15:44<53:13, 26.39s/it]"
          ]
        },
        {
          "output_type": "stream",
          "name": "stdout",
          "text": [
            "Downloaded folder from 66_S13005853640_ธราธาร_พรมพุ้ย, link: https://drive.google.com/drive/folders/1yHcXVrp-Mu3e9G1V3fPwneTtKKnelygP\n"
          ]
        },
        {
          "output_type": "stream",
          "name": "stderr",
          "text": [
            "\rDownloading all files:  27%|██▋       | 45/165 [16:00<46:29, 23.25s/it]"
          ]
        },
        {
          "output_type": "stream",
          "name": "stdout",
          "text": [
            "Downloaded folder from 67_S24010760136_นทภัชณัช_กุณคำ, link: https://drive.google.com/drive/folders/1NWw4g3kvGNJ-3iaOTSZ7Vc15tnUtvM7o?usp=sharing\n"
          ]
        },
        {
          "output_type": "stream",
          "name": "stderr",
          "text": [
            "\rDownloading all files:  28%|██▊       | 46/165 [16:29<49:28, 24.95s/it]"
          ]
        },
        {
          "output_type": "stream",
          "name": "stdout",
          "text": [
            "Downloaded folder from 68_S13026916878_ปฏิภาณ_ยศไธสง, link: https://drive.google.com/drive/folders/1IzI1PsOmQuJEOS3rBJKGhK-nsLjVcdAa\n"
          ]
        },
        {
          "output_type": "stream",
          "name": "stderr",
          "text": [
            "\rDownloading all files:  28%|██▊       | 47/165 [16:57<50:37, 25.74s/it]"
          ]
        },
        {
          "output_type": "stream",
          "name": "stdout",
          "text": [
            "Downloaded folder from 70_S10038352675_พิชญาภา_ปัญญาอรรถ, link: https://drive.google.com/drive/folders/1eF2LTAowl3CufFKNB_DVnayk8VN4dqRf\n"
          ]
        },
        {
          "output_type": "stream",
          "name": "stderr",
          "text": [
            "\rDownloading all files:  29%|██▉       | 48/165 [17:20<48:38, 24.94s/it]"
          ]
        },
        {
          "output_type": "stream",
          "name": "stdout",
          "text": [
            "Downloaded folder from 71_S10040812741_ชัยกฤต_กิติวัฒนบำรุง, link: https://drive.google.com/drive/folders/1JfzxUym7Yub2SCdMOcM9kX012LmTE1Yg?usp=drive_link\n"
          ]
        },
        {
          "output_type": "stream",
          "name": "stderr",
          "text": [
            "\rDownloading all files:  30%|██▉       | 49/165 [17:34<42:11, 21.82s/it]"
          ]
        },
        {
          "output_type": "stream",
          "name": "stdout",
          "text": [
            "Downloaded folder from 72_S46038983445_ธัญจิรา_ดอกจันทร์, link: https://drive.google.com/drive/folders/1ZIB8x3zh78PpvITZuIXCEXJWfgAdL9P5\n"
          ]
        },
        {
          "output_type": "stream",
          "name": "stderr",
          "text": [
            "\rDownloading all files:  30%|███       | 50/165 [17:52<39:32, 20.63s/it]"
          ]
        },
        {
          "output_type": "stream",
          "name": "stdout",
          "text": [
            "Downloaded folder from 74_S65036635467_วรินรัตน์_แดงเผือก, link: https://drive.google.com/drive/folders/1uA6zdL8hUEBosK93FBuFifOG-YgM9KV3\n"
          ]
        },
        {
          "output_type": "stream",
          "name": "stderr",
          "text": [
            "\rDownloading all files:  31%|███       | 51/165 [18:06<35:21, 18.61s/it]"
          ]
        },
        {
          "output_type": "stream",
          "name": "stdout",
          "text": [
            "Downloaded folder from 75_S10015344382_จินดาโชติ_พงษ์พรต, link: https://drive.google.com/drive/folders/1Xe6DCGbOPYsrN8rk2F9AUzqyeEi9YsXv\n"
          ]
        },
        {
          "output_type": "stream",
          "name": "stderr",
          "text": [
            "\rDownloading all files:  32%|███▏      | 52/165 [18:31<38:41, 20.54s/it]"
          ]
        },
        {
          "output_type": "stream",
          "name": "stdout",
          "text": [
            "Downloaded folder from 76_S45042677287_ปาลิตา _มูลทรัพย์, link: https://drive.google.com/drive/folders/1iSkQodKdE6l7Wrhcs26yeeMvCrfTqmv0\n"
          ]
        },
        {
          "output_type": "stream",
          "name": "stderr",
          "text": [
            "\rDownloading all files:  32%|███▏      | 53/165 [18:55<40:02, 21.45s/it]"
          ]
        },
        {
          "output_type": "stream",
          "name": "stdout",
          "text": [
            "Downloaded folder from 77_S92027706022_นัจญมี_หลีเอบ, link: https://drive.google.com/drive/folders/1Xb0wW3cRreiMaYwsaPE39HmTlMjmEtyF\n"
          ]
        },
        {
          "output_type": "stream",
          "name": "stderr",
          "text": [
            "\rDownloading all files:  33%|███▎      | 54/165 [19:09<35:34, 19.23s/it]"
          ]
        },
        {
          "output_type": "stream",
          "name": "stdout",
          "text": [
            "Downloaded folder from 78_S58013331871_ธนภร_ทิมผ่องใส, link: https://drive.google.com/drive/folders/1BkUQcj5vudzXJS0HOch6PlkUQc12JVFN?usp=drive_link\n"
          ]
        },
        {
          "output_type": "stream",
          "name": "stderr",
          "text": [
            "\rDownloading all files:  33%|███▎      | 55/165 [19:25<33:34, 18.31s/it]"
          ]
        },
        {
          "output_type": "stream",
          "name": "stdout",
          "text": [
            "Downloaded folder from 79_S50029602666_ปิยธิดา_มงคล, link: https://drive.google.com/drive/folders/1dR3wFxxIrqOD2skhYXjoU6NyLamdJk_V\n"
          ]
        },
        {
          "output_type": "stream",
          "name": "stderr",
          "text": [
            "\rDownloading all files:  34%|███▍      | 56/165 [19:41<32:16, 17.76s/it]"
          ]
        },
        {
          "output_type": "stream",
          "name": "stdout",
          "text": [
            "Downloaded folder from 80_S30026461601_ณฐา_แสงแก้ว, link: https://drive.google.com/drive/folders/1dkF8CTYS4KlfgkPW5KVg6qHagKFNCbSq\n"
          ]
        },
        {
          "output_type": "stream",
          "name": "stderr",
          "text": [
            "\rDownloading all files:  35%|███▍      | 57/165 [20:03<34:02, 18.91s/it]"
          ]
        },
        {
          "output_type": "stream",
          "name": "stdout",
          "text": [
            "Downloaded folder from 81_S10009971382_กันชลิกา_สุวรรณ์, link: https://drive.google.com/drive/folders/1Vo-MFCMOsk-52ksMvHSMlgmphSIqTbuy\n"
          ]
        },
        {
          "output_type": "stream",
          "name": "stderr",
          "text": [
            "\rDownloading all files:  35%|███▌      | 58/165 [20:18<31:30, 17.67s/it]"
          ]
        },
        {
          "output_type": "stream",
          "name": "stdout",
          "text": [
            "Downloaded folder from 82_S77031566460_นิรินธน์_อนุรักษ์วงษ์, link: https://drive.google.com/drive/folders/1b5RYW07Cm2vuCX01-aiO2x2iqbR6jCWj?usp=sharing\n"
          ]
        },
        {
          "output_type": "stream",
          "name": "stderr",
          "text": [
            "\rDownloading all files:  36%|███▌      | 59/165 [20:42<34:35, 19.58s/it]"
          ]
        },
        {
          "output_type": "stream",
          "name": "stdout",
          "text": [
            "Downloaded folder from 83_S94032771066_มูนีเราะห์_กียะ, link: https://drive.google.com/drive/folders/1hq3oLuh7HRhz2VCJfcPmBZ4ZGA4xOBxc\n"
          ]
        },
        {
          "output_type": "stream",
          "name": "stderr",
          "text": [
            "\rDownloading all files:  36%|███▋      | 60/165 [21:03<35:13, 20.13s/it]"
          ]
        },
        {
          "output_type": "stream",
          "name": "stdout",
          "text": [
            "Downloaded folder from 91_S74023686684_ภูดิส_สุวรรณจินดา, link: https://drive.google.com/drive/folders/1aj6cCfe0zA3On8pwEbCMgYLYIAYOgTbE?usp=sharing\n"
          ]
        },
        {
          "output_type": "stream",
          "name": "stderr",
          "text": [
            "\rDownloading all files:  37%|███▋      | 61/165 [21:25<35:41, 20.59s/it]"
          ]
        },
        {
          "output_type": "stream",
          "name": "stdout",
          "text": [
            "Downloaded folder from 92_S10004483248_อรปรียา_เคนสุวรรณ์, link: https://drive.google.com/drive/folders/1IK8IVAzWbzfXyx-UCPaMsjU-rr2vN2bq\n"
          ]
        },
        {
          "output_type": "stream",
          "name": "stderr",
          "text": [
            "\rDownloading all files:  38%|███▊      | 62/165 [21:45<35:11, 20.50s/it]"
          ]
        },
        {
          "output_type": "stream",
          "name": "stdout",
          "text": [
            "Downloaded folder from 94_S40043858811_ธนกฤต_พวงธรรม, link: https://drive.google.com/drive/folders/1yhJNLAPiRml84znmicBZ06G43M0QjrXg\n"
          ]
        },
        {
          "output_type": "stream",
          "name": "stderr",
          "text": [
            "\rDownloading all files:  38%|███▊      | 63/165 [22:04<34:01, 20.01s/it]"
          ]
        },
        {
          "output_type": "stream",
          "name": "stdout",
          "text": [
            "Downloaded folder from 95_S67030295455_ฉัตริณ_ตันติบูล, link: https://drive.google.com/drive/folders/1s1oEGf5PJjMhm0Gifes4OjnmkPugHgbg\n"
          ]
        },
        {
          "output_type": "stream",
          "name": "stderr",
          "text": [
            "\rDownloading all files:  39%|███▉      | 64/165 [22:34<38:56, 23.13s/it]"
          ]
        },
        {
          "output_type": "stream",
          "name": "stdout",
          "text": [
            "Downloaded folder from 96_S39024006705_ชวิศสิฐ_ภูกองชัย, link: https://drive.google.com/drive/folders/12ra5JGT3BE6iQ3P1Af0cVX2PPCBLHB44\n"
          ]
        },
        {
          "output_type": "stream",
          "name": "stderr",
          "text": [
            "\rDownloading all files:  39%|███▉      | 65/165 [22:57<38:22, 23.02s/it]"
          ]
        },
        {
          "output_type": "stream",
          "name": "stdout",
          "text": [
            "Downloaded folder from 97_S10041765422_วรนัยน์_นางาซาวา, link: https://drive.google.com/drive/folders/1Etrgd-XE7lnyC2B-vQfVX_yN-K-kTmfX?usp=sharing\n"
          ]
        },
        {
          "output_type": "stream",
          "name": "stderr",
          "text": [
            "\rDownloading all files:  40%|████      | 66/165 [23:11<33:31, 20.32s/it]"
          ]
        },
        {
          "output_type": "stream",
          "name": "stdout",
          "text": [
            "Downloaded folder from 98_S20029985315_เบญญาภา_บุญประโคน, link: https://drive.google.com/drive/folders/18xdwmDSNJ4oQ4fBclScm3cGaPNJRaze0\n"
          ]
        },
        {
          "output_type": "stream",
          "name": "stderr",
          "text": [
            "\rDownloading all files:  41%|████      | 67/165 [23:40<37:19, 22.86s/it]"
          ]
        },
        {
          "output_type": "stream",
          "name": "stdout",
          "text": [
            "Downloaded folder from 99_S12031554451_ธันยพร_สุริยวรากุล, link: https://drive.google.com/drive/folders/1THGeEr3b-HHPSSB1kK6cU-ZVy_3QeFtQ?usp=drive_link\n"
          ]
        },
        {
          "output_type": "stream",
          "name": "stderr",
          "text": [
            "\rDownloading all files:  41%|████      | 68/165 [24:05<37:58, 23.49s/it]"
          ]
        },
        {
          "output_type": "stream",
          "name": "stdout",
          "text": [
            "Downloaded folder from 100_S22006958248_ปุนิกา_ยอดอานนท์, link: https://drive.google.com/drive/folders/1pP8Sa5-95V0tAVDQNgnEmUuEPLn4AL1C\n"
          ]
        },
        {
          "output_type": "stream",
          "name": "stderr",
          "text": [
            "\rDownloading all files:  42%|████▏     | 69/165 [24:33<39:44, 24.84s/it]"
          ]
        },
        {
          "output_type": "stream",
          "name": "stdout",
          "text": [
            "Downloaded folder from 101_S14026161275_ภูริชญา_ภู่ขาว, link: https://drive.google.com/drive/folders/1Wx6raJfDEmMoHzFAVLM8y1ATpxtUJzM0?usp=drive_link\n"
          ]
        },
        {
          "output_type": "stream",
          "name": "stderr",
          "text": [
            "\rDownloading all files:  42%|████▏     | 70/165 [24:44<32:59, 20.84s/it]"
          ]
        },
        {
          "output_type": "stream",
          "name": "stdout",
          "text": [
            "Downloaded folder from 103_S86032507087_วรินทร_ชุมเกษียร, link: https://drive.google.com/drive/folders/1CC-__W2d4QeGfrQiVX7u8ReGW2Os49hn\n"
          ]
        },
        {
          "output_type": "stream",
          "name": "stderr",
          "text": [
            "\rDownloading all files:  43%|████▎     | 71/165 [25:30<44:10, 28.20s/it]"
          ]
        },
        {
          "output_type": "stream",
          "name": "stdout",
          "text": [
            "Downloaded folder from 104_S95036794247_รีมาส_กะรุมอ, link: https://drive.google.com/drive/folders/1RwK9WCdFJgXDEdQEMAzBC8oAflCOo_1w\n"
          ]
        },
        {
          "output_type": "stream",
          "name": "stderr",
          "text": [
            "\rDownloading all files:  44%|████▎     | 72/165 [25:45<37:33, 24.23s/it]"
          ]
        },
        {
          "output_type": "stream",
          "name": "stdout",
          "text": [
            "Downloaded folder from 105_S46035718784_ธัญรัศม์_สุดจันทร์ฮาม, link: https://drive.google.com/drive/mobile/folders/11MNB2ewce5APv0YU6ZrIYCpNV4tYcrEA?usp=drive_link\n"
          ]
        },
        {
          "output_type": "stream",
          "name": "stderr",
          "text": [
            "\rDownloading all files:  44%|████▍     | 73/165 [26:07<36:03, 23.51s/it]"
          ]
        },
        {
          "output_type": "stream",
          "name": "stdout",
          "text": [
            "Downloaded folder from 106_S63037026014_จิดาภา_คำขาม, link: https://drive.google.com/drive/folders/1BHYQMycDcZ4EIO0T6FzAlHJZhltlTffW\n"
          ]
        },
        {
          "output_type": "stream",
          "name": "stderr",
          "text": [
            "\rDownloading all files:  45%|████▍     | 74/165 [26:18<30:12, 19.92s/it]"
          ]
        },
        {
          "output_type": "stream",
          "name": "stdout",
          "text": [
            "Downloaded folder from 107_S44037446116_รุ่งไพลิน_แสนโคตร, link: https://drive.google.com/drive/folders/1-4B3UdCpMgF623NII0imDNDm9yaWhpTV\n"
          ]
        },
        {
          "output_type": "stream",
          "name": "stderr",
          "text": [
            "\rDownloading all files:  45%|████▌     | 75/165 [26:32<27:14, 18.16s/it]"
          ]
        },
        {
          "output_type": "stream",
          "name": "stdout",
          "text": [
            "Downloaded folder from 108_S82028131446_ธรณ์เทพ_สโมสร, link: https://drive.google.com/drive/folders/1VzpPIaG-MlwJUsCiecaTuzSsZeB3ixsh?usp=sharing\n"
          ]
        },
        {
          "output_type": "stream",
          "name": "stderr",
          "text": [
            "\rDownloading all files:  46%|████▌     | 76/165 [26:51<27:03, 18.24s/it]"
          ]
        },
        {
          "output_type": "stream",
          "name": "stdout",
          "text": [
            "Downloaded folder from 109_S47030486408_ณัฐรภา_ไชยสาคร, link: https://drive.google.com/drive/folders/1VLUMymB6CyehOiDAGTizd_IgFXaFhnra\n"
          ]
        },
        {
          "output_type": "stream",
          "name": "stderr",
          "text": [
            "\rDownloading all files:  47%|████▋     | 77/165 [27:18<30:53, 21.07s/it]"
          ]
        },
        {
          "output_type": "stream",
          "name": "stdout",
          "text": [
            "Downloaded folder from 110_S39025418626_ศิรดา_กรณ์งูเหลือม, link: https://drive.google.com/drive/folders/1H0-Siqt7b1WConqA75leiJoKaP6rX_uJ\n"
          ]
        },
        {
          "output_type": "stream",
          "name": "stderr",
          "text": [
            "\rDownloading all files:  47%|████▋     | 78/165 [27:36<28:52, 19.91s/it]"
          ]
        },
        {
          "output_type": "stream",
          "name": "stdout",
          "text": [
            "Downloaded folder from 111_S75026758161_ชัญญานุช_พลกำพนธ์, link: https://drive.google.com/drive/folders/1G260QtGtf5PwK4emMMgO94mYDjLHcKv3\n"
          ]
        },
        {
          "output_type": "stream",
          "name": "stderr",
          "text": [
            "\rDownloading all files:  48%|████▊     | 79/165 [27:57<29:22, 20.49s/it]"
          ]
        },
        {
          "output_type": "stream",
          "name": "stdout",
          "text": [
            "Downloaded folder from 112_S75027225855_ปภาวรินทร์_บุณยานันทน์, link: https://drive.google.com/drive/folders/1gTTtBDlJSUDvvUu-oVioXypsbCG2J2LT?usp=sharing\n"
          ]
        },
        {
          "output_type": "stream",
          "name": "stderr",
          "text": [
            "\rDownloading all files:  48%|████▊     | 80/165 [28:19<29:21, 20.72s/it]"
          ]
        },
        {
          "output_type": "stream",
          "name": "stdout",
          "text": [
            "Downloaded folder from 113_S21029074747_ระวิวรรณ_วิปัดทุม, link: https://drive.google.com/drive/folders/1rfuZ5bz0ajzC_mQ7j5M2b_NBNFJ-THmx\n"
          ]
        },
        {
          "output_type": "stream",
          "name": "stderr",
          "text": [
            "\rDownloading all files:  49%|████▉     | 81/165 [28:31<25:35, 18.28s/it]"
          ]
        },
        {
          "output_type": "stream",
          "name": "stdout",
          "text": [
            "Downloaded folder from 114_S71035487082_วธิดา_แก้วกระจ่าง, link: https://drive.google.com/drive/folders/1dEbtQdeQFKzm1DynICB6nw0m0Z4v_p8X\n"
          ]
        },
        {
          "output_type": "stream",
          "name": "stderr",
          "text": [
            "\rDownloading all files:  50%|████▉     | 82/165 [28:48<24:34, 17.77s/it]"
          ]
        },
        {
          "output_type": "stream",
          "name": "stdout",
          "text": [
            "Downloaded folder from 116_S10034633175_ธีรวัจณ์_อุปการะ, link: https://drive.google.com/drive/folders/1eTUCCxwUOjew_caNr5rmUELurmzRlrbf?usp=sharing\n"
          ]
        },
        {
          "output_type": "stream",
          "name": "stderr",
          "text": [
            "\rDownloading all files:  50%|█████     | 83/165 [29:21<30:29, 22.32s/it]"
          ]
        },
        {
          "output_type": "stream",
          "name": "stdout",
          "text": [
            "Downloaded folder from 117_S11032450656_ศุภาพิชญ์_ฉ่ำรัศมี, link: https://drive.google.com/drive/folders/1BiA3KUdXd28ivX46i17FJVhr5l0bqiGz\n"
          ]
        },
        {
          "output_type": "stream",
          "name": "stderr",
          "text": [
            "\rDownloading all files:  51%|█████     | 84/165 [29:45<31:07, 23.05s/it]"
          ]
        },
        {
          "output_type": "stream",
          "name": "stdout",
          "text": [
            "Downloaded folder from 118_S10039710221_ชุติกาญจน์_กันทะวงค์, link: https://drive.google.com/drive/folders/1PXNz-3a-ZL9GESogUlwWaKxOOCouz_zd\n"
          ]
        },
        {
          "output_type": "stream",
          "name": "stderr",
          "text": [
            "\rDownloading all files:  52%|█████▏    | 85/165 [30:22<36:06, 27.08s/it]"
          ]
        },
        {
          "output_type": "stream",
          "name": "stdout",
          "text": [
            "Downloaded folder from 119_S71005944311_อาภัสรา_เพชรดำดี, link: https://drive.google.com/drive/folders/1G-5hf5EmVDEkS7ABZDTE0qnJ8RUpX7cL\n"
          ]
        },
        {
          "output_type": "stream",
          "name": "stderr",
          "text": [
            "\rDownloading all files:  52%|█████▏    | 86/165 [30:50<36:12, 27.50s/it]"
          ]
        },
        {
          "output_type": "stream",
          "name": "stdout",
          "text": [
            "Downloaded folder from 120_S52025932770_ศิวินทรา_ปวงแก้ว, link: https://drive.google.com/drive/folders/1Z63MVPAvBX0hTyLXIHJghu4I_MDij7MH\n"
          ]
        },
        {
          "output_type": "stream",
          "name": "stderr",
          "text": [
            "\rDownloading all files:  53%|█████▎    | 87/165 [31:28<39:38, 30.49s/it]"
          ]
        },
        {
          "output_type": "stream",
          "name": "stdout",
          "text": [
            "Downloaded folder from 121_S20004252166_คณาธิป_เพ็งนาม, link: https://drive.google.com/drive/folders/1qy6PU_9v_Yntj9Gok3tnPmjeDas9_uub?usp=sharing\n"
          ]
        },
        {
          "output_type": "stream",
          "name": "stderr",
          "text": [
            "\rDownloading all files:  53%|█████▎    | 88/165 [31:43<33:21, 26.00s/it]"
          ]
        },
        {
          "output_type": "stream",
          "name": "stdout",
          "text": [
            "Downloaded folder from 122_S10028748557_ศินะพร_วัฒนะนนท์ชัย, link: https://drive.google.com/drive/folders/1GEKqTGwDfdjJTINZOY3j8PEXTrsFBTFA\n"
          ]
        },
        {
          "output_type": "stream",
          "name": "stderr",
          "text": [
            "\rDownloading all files:  54%|█████▍    | 89/165 [32:07<31:54, 25.19s/it]"
          ]
        },
        {
          "output_type": "stream",
          "name": "stdout",
          "text": [
            "Downloaded folder from 123_S10027038883_นงนภัส_โลหะเวโรจน์, link: https://drive.google.com/drive/folders/165QRecQRpmR4kp0X0eduUlxYWtCw_2fG?usp=sharing\n"
          ]
        },
        {
          "output_type": "stream",
          "name": "stderr",
          "text": [
            "\rDownloading all files:  55%|█████▍    | 90/165 [32:28<30:08, 24.11s/it]"
          ]
        },
        {
          "output_type": "stream",
          "name": "stdout",
          "text": [
            "Downloaded folder from 124_S71037870566_ทอฝัน_ยั่งยืน, link: https://drive.google.com/drive/folders/1ArIv8LMyM1cJsGnq8Bm1uIbVz4GZv6y_?usp=drive_link\n"
          ]
        },
        {
          "output_type": "stream",
          "name": "stderr",
          "text": [
            "\rDownloading all files:  55%|█████▌    | 91/165 [32:44<26:46, 21.71s/it]"
          ]
        },
        {
          "output_type": "stream",
          "name": "stdout",
          "text": [
            "Downloaded folder from 125_S60006234511_ธัญชนิต_พิลึก, link: https://drive.google.com/drive/folders/1gHTzMVs86nvrYDWAgRrK5rzhtNzCsIa3\n"
          ]
        },
        {
          "output_type": "stream",
          "name": "stderr",
          "text": [
            "\rDownloading all files:  56%|█████▌    | 92/165 [33:05<25:49, 21.23s/it]"
          ]
        },
        {
          "output_type": "stream",
          "name": "stdout",
          "text": [
            "Downloaded folder from 126_S20025270213_ธารารัตน์_ตะวงษา, link: https://drive.google.com/drive/folders/16XCw4eb0Rjc5MsVB30bmkcuwB-ayn5v1\n"
          ]
        },
        {
          "output_type": "stream",
          "name": "stderr",
          "text": [
            "\rDownloading all files:  56%|█████▋    | 93/165 [33:32<27:46, 23.15s/it]"
          ]
        },
        {
          "output_type": "stream",
          "name": "stdout",
          "text": [
            "Downloaded folder from 127_S53029611247_อัศวิน_สิงเหม, link: https://drive.google.com/drive/folders/13VyIJe3ibWYYhT9cVAgFZRcc112qkuxk?usp=sharing\n"
          ]
        },
        {
          "output_type": "stream",
          "name": "stderr",
          "text": [
            "\rDownloading all files:  57%|█████▋    | 94/165 [33:47<24:16, 20.51s/it]"
          ]
        },
        {
          "output_type": "stream",
          "name": "stdout",
          "text": [
            "Downloaded folder from 128_S10039617478_คณพศ_โมคมะเลิง, link: https://drive.google.com/drive/folders/1IcxiAHPGYmCNccc1btPd50BOO4Be0FtW\n"
          ]
        },
        {
          "output_type": "stream",
          "name": "stderr",
          "text": [
            "\rDownloading all files:  58%|█████▊    | 95/165 [34:14<26:16, 22.53s/it]"
          ]
        },
        {
          "output_type": "stream",
          "name": "stdout",
          "text": [
            "Downloaded folder from 129_S60005598486_ชิสา _วงษ์สุนทร, link: https://drive.google.com/drive/folders/1UomE1po6halapQV-j9_CNuEQ7gs4Wt9u?usp=sharing\n"
          ]
        },
        {
          "output_type": "stream",
          "name": "stderr",
          "text": [
            "\rDownloading all files:  58%|█████▊    | 96/165 [34:40<27:13, 23.67s/it]"
          ]
        },
        {
          "output_type": "stream",
          "name": "stdout",
          "text": [
            "Downloaded folder from 131_S45044182813_พงศ์ธนสรณ์_ทิพประมวล, link: https://drive.google.com/drive/folders/1lpcjq_sJvNvsTg31yWo6DSD3zNq-zWH3\n"
          ]
        },
        {
          "output_type": "stream",
          "name": "stderr",
          "text": [
            "\rDownloading all files:  59%|█████▉    | 97/165 [35:14<30:15, 26.70s/it]"
          ]
        },
        {
          "output_type": "stream",
          "name": "stdout",
          "text": [
            "Downloaded folder from 132_S49034021647_ดาวไสว_บุญเรืองนาม, link: https://drive.google.com/drive/folders/16vBAuUvEvf_FIEF7PlxG26cCNDSf7yeP\n"
          ]
        },
        {
          "output_type": "stream",
          "name": "stderr",
          "text": [
            "\rDownloading all files:  59%|█████▉    | 98/165 [35:35<27:59, 25.07s/it]"
          ]
        },
        {
          "output_type": "stream",
          "name": "stdout",
          "text": [
            "Downloaded folder from 133_S40029324624_เขมณัฏฐ์_หิรัญวรวิทย์, link: https://drive.google.com/drive/folders/1F3uBbrd6-g0aFXcWnvRtL46DTIvi7XA1?usp=drive_link\n"
          ]
        },
        {
          "output_type": "stream",
          "name": "stderr",
          "text": [
            "\rDownloading all files:  60%|██████    | 99/165 [36:00<27:28, 24.98s/it]"
          ]
        },
        {
          "output_type": "stream",
          "name": "stdout",
          "text": [
            "Downloaded folder from 134_S24045171200_ปริชญา_อะจะระกุล, link: https://drive.google.com/drive/folders/1RIWhmJ99p-90WxqKe-0rsL_bA4gRSZO4?usp=sharing\n"
          ]
        },
        {
          "output_type": "stream",
          "name": "stderr",
          "text": [
            "\rDownloading all files:  61%|██████    | 100/165 [36:14<23:40, 21.86s/it]"
          ]
        },
        {
          "output_type": "stream",
          "name": "stdout",
          "text": [
            "Downloaded folder from 135_S10041000567_ณภัทร _พุฒเนียม, link: https://drive.google.com/drive/folders/1PHTJNDhV3VGxGm-0c3VXBqhoKEJpVRAd?usp=sharing\n"
          ]
        },
        {
          "output_type": "stream",
          "name": "stderr",
          "text": [
            "\rDownloading all files:  61%|██████    | 101/165 [36:30<21:16, 19.95s/it]"
          ]
        },
        {
          "output_type": "stream",
          "name": "stdout",
          "text": [
            "Downloaded folder from 136_S16036154371_ณัฏฐณิชา_กันภัย, link: https://drive.google.com/drive/folders/1Af9HyPC8KCL3NgIXeaUOshZ7JlmqBCjm\n"
          ]
        },
        {
          "output_type": "stream",
          "name": "stderr",
          "text": [
            "\rDownloading all files:  62%|██████▏   | 102/165 [36:58<23:26, 22.32s/it]"
          ]
        },
        {
          "output_type": "stream",
          "name": "stdout",
          "text": [
            "Downloaded folder from 137_S44039053250_พรอธิปไตย _วีระการณ์, link: https://drive.google.com/drive/folders/1ur1WrR7kj1D0w2CzjEH42oa6tFcTeUO7\n"
          ]
        },
        {
          "output_type": "stream",
          "name": "stderr",
          "text": [
            "\rDownloading all files:  62%|██████▏   | 103/165 [37:19<22:35, 21.87s/it]"
          ]
        },
        {
          "output_type": "stream",
          "name": "stdout",
          "text": [
            "Downloaded folder from 138_S93040642675_อารยา_แวววรรณจิต, link: https://drive.google.com/drive/folders/1Oln9xg9BQgy4A3auwqA-OMnAGJ7KWrsK\n"
          ]
        },
        {
          "output_type": "stream",
          "name": "stderr",
          "text": [
            "\rDownloading all files:  63%|██████▎   | 104/165 [37:48<24:24, 24.00s/it]"
          ]
        },
        {
          "output_type": "stream",
          "name": "stdout",
          "text": [
            "Downloaded folder from 139_S73031282871_วรรณภัสสรณ์_กลิ่นระรวย, link: https://drive.google.com/drive/folders/13bQ75fX7HzKdRmudRxo4tsmG_HhOfJs6\n"
          ]
        },
        {
          "output_type": "stream",
          "name": "stderr",
          "text": [
            "\rDownloading all files:  64%|██████▎   | 105/165 [38:07<22:42, 22.72s/it]"
          ]
        },
        {
          "output_type": "stream",
          "name": "stdout",
          "text": [
            "Downloaded folder from 140_S23030785663_ราชธรรม_ลุนสะแกวงษ์, link: https://drive.google.com/drive/folders/1mq9N4453UMPzrlMEixdw0mvlLvrfpMdd\n"
          ]
        },
        {
          "output_type": "stream",
          "name": "stderr",
          "text": [
            "\rDownloading all files:  64%|██████▍   | 106/165 [38:28<21:46, 22.15s/it]"
          ]
        },
        {
          "output_type": "stream",
          "name": "stdout",
          "text": [
            "Downloaded folder from 141_S52034421477_ภูมิพลัง_เนียมวัฒนะ, link: https://drive.google.com/drive/folders/1X4oDJ2pe-He32fB3os3XuctWBhICqeGW\n"
          ]
        },
        {
          "output_type": "stream",
          "name": "stderr",
          "text": [
            "\rDownloading all files:  65%|██████▍   | 107/165 [38:52<21:59, 22.75s/it]"
          ]
        },
        {
          "output_type": "stream",
          "name": "stdout",
          "text": [
            "Downloaded folder from 142_S26037927137_จิรกานต์_กีรติกานต์ชัย, link: https://drive.google.com/drive/folders/12mmE92KSbejB4ZHJ8IPJZ6aw6PlUdaKM\n"
          ]
        },
        {
          "output_type": "stream",
          "name": "stderr",
          "text": [
            "\rDownloading all files:  65%|██████▌   | 108/165 [39:08<19:34, 20.61s/it]"
          ]
        },
        {
          "output_type": "stream",
          "name": "stdout",
          "text": [
            "Downloaded folder from 143_S10043441601_ณภัทร์_ศิวิไล, link: https://drive.google.com/drive/folders/1yFB-Xq4_HpRy2AkTEdVU4c4dlZRtbgu3\n"
          ]
        },
        {
          "output_type": "stream",
          "name": "stderr",
          "text": [
            "\rDownloading all files:  66%|██████▌   | 109/165 [39:30<19:34, 20.97s/it]"
          ]
        },
        {
          "output_type": "stream",
          "name": "stdout",
          "text": [
            "Downloaded folder from 144_S15030895458_ธัญญรัตน์_หล่อประเสริฐ, link: https://drive.google.com/drive/folders/1YFPJW4Ziyj5CIxYg4cIGYbyG6dqbuaZY\n"
          ]
        },
        {
          "output_type": "stream",
          "name": "stderr",
          "text": [
            "\rDownloading all files:  67%|██████▋   | 110/165 [39:41<16:38, 18.16s/it]"
          ]
        },
        {
          "output_type": "stream",
          "name": "stdout",
          "text": [
            "Downloaded folder from 145_S51012283738_วิภาดา_ไชยสมบัติ, link: https://drive.google.com/drive/folders/1o3aS8WvLCP1hbWNZVXXCa8ZHVMsETORY\n"
          ]
        },
        {
          "output_type": "stream",
          "name": "stderr",
          "text": [
            "\rDownloading all files:  67%|██████▋   | 111/165 [40:07<18:19, 20.37s/it]"
          ]
        },
        {
          "output_type": "stream",
          "name": "stdout",
          "text": [
            "Downloaded folder from 146_S96002970857_เกาษัร_เล๊าะเเว, link: https://drive.google.com/drive/folders/1gMtsXkTd4EU9JtIde4RFRZW9DdUItU7z\n"
          ]
        },
        {
          "output_type": "stream",
          "name": "stderr",
          "text": [
            "\rDownloading all files:  68%|██████▊   | 112/165 [40:29<18:30, 20.96s/it]"
          ]
        },
        {
          "output_type": "stream",
          "name": "stdout",
          "text": [
            "Downloaded folder from 147_S10028076467_วรรณณวลัญช์_เจริญสุข, link: https://drive.google.com/drive/folders/1IArek2esmNsiC4rpdf08aSs6ixPnyLLV?usp=sharing\n"
          ]
        },
        {
          "output_type": "stream",
          "name": "stderr",
          "text": [
            "\rDownloading all files:  68%|██████▊   | 113/165 [40:50<18:03, 20.84s/it]"
          ]
        },
        {
          "output_type": "stream",
          "name": "stdout",
          "text": [
            "Downloaded folder from 148_S76043936655_ธีรัฐพล_งามพงษ์พรรณ, link: https://drive.google.com/drive/folders/1hrklLuptnOl_5R8Le2djU-08rK32wuOy?usp=sharing\n"
          ]
        },
        {
          "output_type": "stream",
          "name": "stderr",
          "text": [
            "\rDownloading all files:  69%|██████▉   | 114/165 [41:09<17:15, 20.31s/it]"
          ]
        },
        {
          "output_type": "stream",
          "name": "stdout",
          "text": [
            "Downloaded folder from 150_S90005390278_ภาคิน_มุณีแนม, link: https://drive.google.com/drive/folders/14R7dO9BODv-0-WAmMbJoPVc6BUwxXBR4\n"
          ]
        },
        {
          "output_type": "stream",
          "name": "stderr",
          "text": [
            "\rDownloading all files:  70%|██████▉   | 115/165 [41:32<17:42, 21.26s/it]"
          ]
        },
        {
          "output_type": "stream",
          "name": "stdout",
          "text": [
            "Downloaded folder from 151_S47038847132_ภาวิตา_เทพสุรินทร์, link: https://drive.google.com/drive/folders/1S8lrXmtDAGytksU1GqqdtxKxh_qfc0iS\n"
          ]
        },
        {
          "output_type": "stream",
          "name": "stderr",
          "text": [
            "\rDownloading all files:  70%|███████   | 116/165 [41:50<16:32, 20.26s/it]"
          ]
        },
        {
          "output_type": "stream",
          "name": "stdout",
          "text": [
            "Downloaded folder from 152_S44028613032_นันทภัค_แสงมหาชัย, link: https://drive.google.com/drive/folders/1q5aeESeZyY9V9mdimPiLcIQ2W9e8Bgmi\n"
          ]
        },
        {
          "output_type": "stream",
          "name": "stderr",
          "text": [
            "\rDownloading all files:  71%|███████   | 117/165 [42:06<15:08, 18.92s/it]"
          ]
        },
        {
          "output_type": "stream",
          "name": "stdout",
          "text": [
            "Downloaded folder from 153_S18036198441_กลทีป์_เมืองดี, link: https://drive.google.com/drive/folders/1e48jOv-3A66n6ZTiEywTsFfeRBzdzVA7?usp=sharing\n"
          ]
        },
        {
          "output_type": "stream",
          "name": "stderr",
          "text": [
            "\rDownloading all files:  72%|███████▏  | 118/165 [42:24<14:33, 18.58s/it]"
          ]
        },
        {
          "output_type": "stream",
          "name": "stdout",
          "text": [
            "Downloaded folder from 154_S75039670472_ศศิพงษ์_สุขเสาววิมล, link: https://drive.google.com/drive/folders/1OBpwTkkm6gNjfg-vuNr0YxjuaSIgCgWA\n"
          ]
        },
        {
          "output_type": "stream",
          "name": "stderr",
          "text": [
            "\rDownloading all files:  72%|███████▏  | 119/165 [42:41<13:55, 18.17s/it]"
          ]
        },
        {
          "output_type": "stream",
          "name": "stdout",
          "text": [
            "Downloaded folder from 155_S10034132308_รัล_จูฑะพันธุ์, link: https://drive.google.com/drive/folders/1lgyCwcSqiu6_2r_SSBCJUJIK7eb3btjC\n"
          ]
        },
        {
          "output_type": "stream",
          "name": "stderr",
          "text": [
            "\rDownloading all files:  73%|███████▎  | 120/165 [42:54<12:30, 16.67s/it]"
          ]
        },
        {
          "output_type": "stream",
          "name": "stdout",
          "text": [
            "Downloaded folder from 156_S53045307071_กฤษณะพัทธ์_สันตะ, link: https://drive.google.com/drive/folders/1NmveiyCJ_dNYk9KyUVfFPOKbugxhsyC4\n"
          ]
        },
        {
          "output_type": "stream",
          "name": "stderr",
          "text": [
            "\rDownloading all files:  73%|███████▎  | 121/165 [43:15<13:02, 17.78s/it]"
          ]
        },
        {
          "output_type": "stream",
          "name": "stdout",
          "text": [
            "Downloaded folder from 157_S84028760062_มาศมาตา_ศุภกรชูวงศ์, link: https://drive.google.com/drive/folders/1nA_m14GJu-7czMrtCBWTwC8VfW3d5t8L?usp=drive_link\n"
          ]
        },
        {
          "output_type": "stream",
          "name": "stderr",
          "text": [
            "\rDownloading all files:  74%|███████▍  | 122/165 [43:38<14:02, 19.59s/it]"
          ]
        },
        {
          "output_type": "stream",
          "name": "stdout",
          "text": [
            "Downloaded folder from 158_S50035891427_คณาธิป _บุญมาเชย, link: https://drive.google.com/drive/folders/1JthjIbxFPSCyZp298AXnnnim9ver-jYo\n"
          ]
        },
        {
          "output_type": "stream",
          "name": "stderr",
          "text": [
            "\rDownloading all files:  75%|███████▍  | 123/165 [44:09<15:57, 22.80s/it]"
          ]
        },
        {
          "output_type": "stream",
          "name": "stdout",
          "text": [
            "Downloaded folder from 159_S84019556428_พรรชสรร_สิทธิชู, link: https://drive.google.com/drive/folders/1mr1HYpXZbx_GDqH_dacNmNrnIO2JF_Di?usp=sharing\n"
          ]
        },
        {
          "output_type": "stream",
          "name": "stderr",
          "text": [
            "\rDownloading all files:  75%|███████▌  | 124/165 [44:31<15:33, 22.76s/it]"
          ]
        },
        {
          "output_type": "stream",
          "name": "stdout",
          "text": [
            "Downloaded folder from 160_S33029734522_ศศิภา _ระหาร, link: https://drive.google.com/drive/folders/1AK0NvlR5RXtUlWr70G3Mw8ai9lKs8Bwl\n"
          ]
        },
        {
          "output_type": "stream",
          "name": "stderr",
          "text": [
            "\rDownloading all files:  76%|███████▌  | 125/165 [44:50<14:19, 21.49s/it]"
          ]
        },
        {
          "output_type": "stream",
          "name": "stdout",
          "text": [
            "Downloaded folder from 161_S91014895842_อุลญา_ดำท่าคลอง, link: https://drive.google.com/drive/folders/167use0RaRsGBJZkwa7HTrP6DBqDGsQ9l\n"
          ]
        },
        {
          "output_type": "stream",
          "name": "stderr",
          "text": [
            "\rDownloading all files:  76%|███████▋  | 126/165 [45:03<12:17, 18.90s/it]"
          ]
        },
        {
          "output_type": "stream",
          "name": "stdout",
          "text": [
            "Downloaded folder from 162_S77012688511_เตชินท์_ผลวัฒนะ, link: https://drive.google.com/drive/folders/1Z892tnTnuBk4egGoMkLwvIgN-Gd53OFf?usp=sharing\n"
          ]
        },
        {
          "output_type": "stream",
          "name": "stderr",
          "text": [
            "\rDownloading all files:  77%|███████▋  | 127/165 [45:25<12:33, 19.82s/it]"
          ]
        },
        {
          "output_type": "stream",
          "name": "stdout",
          "text": [
            "Downloaded folder from 163_S34033385534_คุณัญญา_บุญขจร, link: https://drive.google.com/drive/folders/1ehAXFTSTA4v2nT8UIH2mBMGhaxlWrpo5\n"
          ]
        },
        {
          "output_type": "stream",
          "name": "stderr",
          "text": [
            "\rDownloading all files:  78%|███████▊  | 128/165 [45:42<11:48, 19.16s/it]"
          ]
        },
        {
          "output_type": "stream",
          "name": "stdout",
          "text": [
            "Downloaded folder from 164_S10005751152_ภัชชญา _แซ่โท้ว, link: https://drive.google.com/drive/folders/1w0idRkDxFJvx1oOT36jHx0-vOiyJ6dol\n"
          ]
        },
        {
          "output_type": "stream",
          "name": "stderr",
          "text": [
            "\rDownloading all files:  78%|███████▊  | 129/165 [45:59<10:59, 18.32s/it]"
          ]
        },
        {
          "output_type": "stream",
          "name": "stdout",
          "text": [
            "Downloaded folder from 165_S50010252005_ธนกร_จานคุณ, link: https://drive.google.com/drive/folders/1ma4E83XjO_tusGjd7Lp6DXOmVp4-UJV5?usp=drive_link\n"
          ]
        },
        {
          "output_type": "stream",
          "name": "stderr",
          "text": [
            "\rDownloading all files:  79%|███████▉  | 130/165 [46:19<11:00, 18.86s/it]"
          ]
        },
        {
          "output_type": "stream",
          "name": "stdout",
          "text": [
            "Downloaded folder from 166_S31028664462_พรพรหม_มังคะชาติ, link: https://drive.google.com/drive/folders/1LUG_FqffznOpLUaXXWEPImouRgaKZGd4?usp=sharing\n"
          ]
        },
        {
          "output_type": "stream",
          "name": "stderr",
          "text": [
            "\rDownloading all files:  79%|███████▉  | 131/165 [46:40<11:06, 19.60s/it]"
          ]
        },
        {
          "output_type": "stream",
          "name": "stdout",
          "text": [
            "Downloaded folder from 167_S41030633308_อนัญญา_มุมกลาง, link: https://drive.google.com/drive/folders/1XfWQxhOG8EDBS28llOoc96_FFCAbs6Cb\n"
          ]
        },
        {
          "output_type": "stream",
          "name": "stderr",
          "text": [
            "\rDownloading all files:  80%|████████  | 132/165 [46:59<10:40, 19.42s/it]"
          ]
        },
        {
          "output_type": "stream",
          "name": "stdout",
          "text": [
            "Downloaded folder from 169_S84032080863_วิรชัช_พยัคฆา, link: https://drive.google.com/drive/folders/1onnCDlkE6iOnUZ6p-D_0J0g4dbkrYFqM\n"
          ]
        },
        {
          "output_type": "stream",
          "name": "stderr",
          "text": [
            "\rDownloading all files:  81%|████████  | 133/165 [47:20<10:36, 19.88s/it]"
          ]
        },
        {
          "output_type": "stream",
          "name": "stdout",
          "text": [
            "Downloaded folder from 170_S50045566306_รักษิณา _ต๊ะสู้, link: https://drive.google.com/drive/folders/1smCu-ym5GxIO2ualP3qA-lXuZWxP-FvG\n"
          ]
        },
        {
          "output_type": "stream",
          "name": "stderr",
          "text": [
            "\rDownloading all files:  81%|████████  | 134/165 [47:36<09:39, 18.70s/it]"
          ]
        },
        {
          "output_type": "stream",
          "name": "stdout",
          "text": [
            "Downloaded folder from 171_S92044336076_กันต์กษิดิ์เดช _อภิศุทธิคำพร, link: https://drive.google.com/drive/folders/1Rse7vrPSX--YqS_sm2tWwvstv-q5URZc\n"
          ]
        },
        {
          "output_type": "stream",
          "name": "stderr",
          "text": [
            "\rDownloading all files:  82%|████████▏ | 135/165 [47:51<08:49, 17.64s/it]"
          ]
        },
        {
          "output_type": "stream",
          "name": "stdout",
          "text": [
            "Downloaded folder from 172_S57035574401_พงษ์สิริ _เมฆวิลัย, link: https://drive.google.com/drive/folders/1vKlnOdMqEQx896oawLHz0QnWzGEK3v98\n"
          ]
        },
        {
          "output_type": "stream",
          "name": "stderr",
          "text": [
            "\rDownloading all files:  82%|████████▏ | 136/165 [48:17<09:46, 20.22s/it]"
          ]
        },
        {
          "output_type": "stream",
          "name": "stdout",
          "text": [
            "Downloaded folder from 173_S40024508852_ปภาวรินท์_สุราสา, link: https://drive.google.com/drive/folders/1h9Gy1MTjkS6yhrxKYFqUyJ2DkZDEsTLV\n"
          ]
        },
        {
          "output_type": "stream",
          "name": "stderr",
          "text": [
            "\rDownloading all files:  83%|████████▎ | 137/165 [48:33<08:42, 18.67s/it]"
          ]
        },
        {
          "output_type": "stream",
          "name": "stdout",
          "text": [
            "Downloaded folder from 174_S10024433687_กุลยา_พิมดี, link: https://drive.google.com/drive/folders/1azbkfqnKOGY_AGZzx7D97rRhn1j0Qvtb?usp=sharing\n"
          ]
        },
        {
          "output_type": "stream",
          "name": "stderr",
          "text": [
            "\rDownloading all files:  84%|████████▎ | 138/165 [48:50<08:16, 18.38s/it]"
          ]
        },
        {
          "output_type": "stream",
          "name": "stdout",
          "text": [
            "Downloaded folder from 176_S32036856521_ภัควัฒน์_ดวงรัตน์, link: https://drive.google.com/drive/folders/1U7w1J1gS6-pCyleBMm1QZMXgWcN8ToYC\n"
          ]
        },
        {
          "output_type": "stream",
          "name": "stderr",
          "text": [
            "\rDownloading all files:  84%|████████▍ | 139/165 [49:13<08:34, 19.78s/it]"
          ]
        },
        {
          "output_type": "stream",
          "name": "stdout",
          "text": [
            "Downloaded folder from 177_S12031704353_วีรวงศ์_แช่มพงษ์อนันท์, link: https://drive.google.com/drive/folders/11H74P-Fu19vws8vr5F4377k-dGSmrZxV?usp=sharing\n"
          ]
        },
        {
          "output_type": "stream",
          "name": "stderr",
          "text": [
            "\rDownloading all files:  85%|████████▍ | 140/165 [49:30<07:53, 18.94s/it]"
          ]
        },
        {
          "output_type": "stream",
          "name": "stdout",
          "text": [
            "Downloaded folder from 178_S30040996404_พลอยน้ำเงิน_น้ำทิพย์, link: https://drive.google.com/drive/folders/1MOWvqjtECHESFCDVZ7KLjFBotOIAClsz?usp=sharing\n"
          ]
        },
        {
          "output_type": "stream",
          "name": "stderr",
          "text": [
            "\rDownloading all files:  85%|████████▌ | 141/165 [49:43<06:48, 17.03s/it]"
          ]
        },
        {
          "output_type": "stream",
          "name": "stdout",
          "text": [
            "Failed to download folder from 180_S95044406086_ฟิรดาวส์ _บ่าวเบ็ญหมัด, link: https://drive.google.com/drive/folders/1CTApij52WSYFtcFsuOUJZv1Igv3dyoBm — Failed to retrieve file url:\n",
            "\n",
            "\tOnly the owner and editors can download this file. If you'd like to\n",
            "\tdownload it, please contact the owner.\n",
            "\n",
            "You may still be able to access the file from the browser:\n",
            "\n",
            "\thttps://drive.google.com/uc?id=1JeB78R79X0gmL011L1IqJoJ61Pgj3yPf\n",
            "\n",
            "but Gdown can't. Please check connections and permissions.\n"
          ]
        },
        {
          "output_type": "stream",
          "name": "stderr",
          "text": [
            "\rDownloading all files:  86%|████████▌ | 142/165 [50:21<09:00, 23.51s/it]"
          ]
        },
        {
          "output_type": "stream",
          "name": "stdout",
          "text": [
            "Downloaded folder from 181_S10034908413_ศิวาภรณ์_ชัยถาวรกิจ, link: https://drive.google.com/drive/folders/1k03RDUds5jyFL8l2OQ6pXtER4TXlfRkz\n"
          ]
        },
        {
          "output_type": "stream",
          "name": "stderr",
          "text": [
            "\rDownloading all files:  87%|████████▋ | 143/165 [51:11<11:31, 31.44s/it]"
          ]
        },
        {
          "output_type": "stream",
          "name": "stdout",
          "text": [
            "Downloaded folder from 182_S11026497317_จักรพล_หูมวงศ์, link: https://drive.google.com/drive/folders/1Y-Rzul9h72QShegwJ5mqc_TXiGaQjy4c\n"
          ]
        },
        {
          "output_type": "stream",
          "name": "stderr",
          "text": [
            "\rDownloading all files:  87%|████████▋ | 144/165 [51:58<12:37, 36.05s/it]"
          ]
        },
        {
          "output_type": "stream",
          "name": "stdout",
          "text": [
            "Downloaded folder from 183_S10043245145_ปัณฑิฌา_ดอนสกุล, link: https://drive.google.com/drive/folders/19XIfm7p_sfbmD8fmMtLo8Ix8VzL-qEra?q=sharedwith:public%20parent:19XIfm7p_sfbmD8fmMtLo8Ix8VzL-qEra\n"
          ]
        },
        {
          "output_type": "stream",
          "name": "stderr",
          "text": [
            "\rDownloading all files:  88%|████████▊ | 145/165 [52:14<09:57, 29.89s/it]"
          ]
        },
        {
          "output_type": "stream",
          "name": "stdout",
          "text": [
            "Downloaded folder from 184_S96012416508_พรรณพัชร_ปุย , link: https://drive.google.com/drive/folders/14hyEGE9785d5V1FcPmDc0tJ6QOb68M7u\n"
          ]
        },
        {
          "output_type": "stream",
          "name": "stderr",
          "text": [
            "\rDownloading all files:  88%|████████▊ | 146/165 [52:42<09:20, 29.49s/it]"
          ]
        },
        {
          "output_type": "stream",
          "name": "stdout",
          "text": [
            "Downloaded folder from 186_S44010788622_นันทกร_ปาปะโน, link: https://drive.google.com/drive/folders/1weXuM48BugMxMBlTTSLUlt6DlNIW7hqq\n"
          ]
        },
        {
          "output_type": "stream",
          "name": "stderr",
          "text": [
            "\rDownloading all files:  89%|████████▉ | 147/165 [52:55<07:18, 24.35s/it]"
          ]
        },
        {
          "output_type": "stream",
          "name": "stdout",
          "text": [
            "Downloaded folder from 187_S90007170616_ฟ้าใส_เจริญศรี, link: https://drive.google.com/drive/folders/1be3ADZ9oLHu-jQUy9yvnx3-e-F7nttUh\n"
          ]
        },
        {
          "output_type": "stream",
          "name": "stderr",
          "text": [
            "\rDownloading all files:  90%|████████▉ | 148/165 [53:13<06:25, 22.70s/it]"
          ]
        },
        {
          "output_type": "stream",
          "name": "stdout",
          "text": [
            "Downloaded folder from 189_S41038476832_ปุญญตา _แพสยันดร, link: https://drive.google.com/drive/folders/1LXk4HatZRfcKIcUac0KDYDHwC9OzkCBj\n"
          ]
        },
        {
          "output_type": "stream",
          "name": "stderr",
          "text": [
            "\rDownloading all files:  90%|█████████ | 149/165 [53:39<06:15, 23.45s/it]"
          ]
        },
        {
          "output_type": "stream",
          "name": "stdout",
          "text": [
            "Downloaded folder from 190_S10036730100_เทวกร_ตันติวิทยากุล, link: https://drive.google.com/drive/folders/14VDDTrE_iDsj9PkWuj6MiRLwBEiZ2Vhh\n"
          ]
        },
        {
          "output_type": "stream",
          "name": "stderr",
          "text": [
            "\rDownloading all files:  91%|█████████ | 150/165 [53:58<05:31, 22.07s/it]"
          ]
        },
        {
          "output_type": "stream",
          "name": "stdout",
          "text": [
            "Downloaded folder from 191_S90035660803_คศวัตร_สาเเละ, link: https://drive.google.com/drive/folders/1uBJ7wEjAY5UYLkospRXaetZEmhlBp6di?usp=drive_link\n"
          ]
        },
        {
          "output_type": "stream",
          "name": "stderr",
          "text": [
            "\rDownloading all files:  92%|█████████▏| 151/165 [54:16<04:52, 20.88s/it]"
          ]
        },
        {
          "output_type": "stream",
          "name": "stdout",
          "text": [
            "Downloaded folder from 192_S44026560375_นิภารัตน์_ไชยเดช, link: https://drive.google.com/drive/folders/10T6GAdOd1LuZm5UZjjor-jdqMZ50THcK\n"
          ]
        },
        {
          "output_type": "stream",
          "name": "stderr",
          "text": [
            "\rDownloading all files:  92%|█████████▏| 152/165 [54:33<04:17, 19.82s/it]"
          ]
        },
        {
          "output_type": "stream",
          "name": "stdout",
          "text": [
            "Downloaded folder from 193_S36016816166_ไท _ถนอมไธสง, link: https://drive.google.com/drive/folders/1---SEDX-bNVCWqiLPTIqVbcET2yj2QEe\n"
          ]
        },
        {
          "output_type": "stream",
          "name": "stderr",
          "text": [
            "\rDownloading all files:  93%|█████████▎| 153/165 [54:50<03:49, 19.11s/it]"
          ]
        },
        {
          "output_type": "stream",
          "name": "stdout",
          "text": [
            "Downloaded folder from 194_S31044807841_สุธาสินี _ศรีเนาว์รัตน์, link: https://drive.google.com/drive/folders/18cPiH4kK5InKahzSYr-fxiWh9vKcugoF\n"
          ]
        },
        {
          "output_type": "stream",
          "name": "stderr",
          "text": [
            "\rDownloading all files:  93%|█████████▎| 154/165 [54:51<02:28, 13.51s/it]"
          ]
        },
        {
          "output_type": "stream",
          "name": "stdout",
          "text": [
            "Failed to download folder from 195_S12001473170_ปฐมากรณ์_ระเบียบ, link: https://drive.google.com/drive/folders/115i8MYIZIkSqlxigKFRCLqKbm67lGGBu — Cannot retrieve the folder information from the link. You may need to change the permission to 'Anyone with the link', or have had many accesses. Check FAQ in https://github.com/wkentaro/gdown?tab=readme-ov-file#faq.\n"
          ]
        },
        {
          "output_type": "stream",
          "name": "stderr",
          "text": [
            "\rDownloading all files:  94%|█████████▍| 155/165 [55:15<02:47, 16.79s/it]"
          ]
        },
        {
          "output_type": "stream",
          "name": "stdout",
          "text": [
            "Downloaded folder from 196_S41031887656_สกุลทิพย์_กิติราช, link: https://drive.google.com/drive/folders/11AIlN6btzWs07mYspaLgwuhcTj7nxER5\n"
          ]
        },
        {
          "output_type": "stream",
          "name": "stderr",
          "text": [
            "\rDownloading all files:  95%|█████████▍| 156/165 [55:33<02:33, 17.10s/it]"
          ]
        },
        {
          "output_type": "stream",
          "name": "stdout",
          "text": [
            "Downloaded folder from 197_S38032892016_พรรณรวี _ด้วงพุฒ, link: https://drive.google.com/drive/folders/177kNFD3lytF2XKFQePYMsXR6w9vkF5uR\n"
          ]
        },
        {
          "output_type": "stream",
          "name": "stderr",
          "text": [
            "\rDownloading all files:  95%|█████████▌| 157/165 [55:51<02:18, 17.28s/it]"
          ]
        },
        {
          "output_type": "stream",
          "name": "stdout",
          "text": [
            "Downloaded folder from 198_S44043360777_ธนากร_จำปาสอน, link: https://drive.google.com/drive/folders/1ilga9QhiUk02ZjdDfj_opp64zPZn7XRx?usp=sharing\n"
          ]
        },
        {
          "output_type": "stream",
          "name": "stderr",
          "text": [
            "\rDownloading all files:  96%|█████████▌| 158/165 [56:09<02:02, 17.50s/it]"
          ]
        },
        {
          "output_type": "stream",
          "name": "stdout",
          "text": [
            "Downloaded folder from 199_S10034086415_สิดาพร_เหมาะราษีร์, link: https://drive.google.com/drive/folders/18R76Yt_4mOQqpRiJ99qnPGd86pgCmo8M\n"
          ]
        },
        {
          "output_type": "stream",
          "name": "stderr",
          "text": [
            "\rDownloading all files:  96%|█████████▋| 159/165 [56:31<01:53, 19.00s/it]"
          ]
        },
        {
          "output_type": "stream",
          "name": "stdout",
          "text": [
            "Downloaded folder from 200_S42038631387_พาสุข_แก้วใสย์, link: https://drive.google.com/drive/folders/1GnUB4G8Z75ugb8UqWVxq1r6Sgp3lxy5Z\n"
          ]
        },
        {
          "output_type": "stream",
          "name": "stderr",
          "text": [
            "\rDownloading all files:  97%|█████████▋| 160/165 [56:53<01:38, 19.74s/it]"
          ]
        },
        {
          "output_type": "stream",
          "name": "stdout",
          "text": [
            "Downloaded folder from 201_S95040513173_อัสมาอ์_สะมะดะแมง, link: https://drive.google.com/drive/folders/1-mKFzFbiF5r-dXB1zKItK4112K_fCQ6v\n"
          ]
        },
        {
          "output_type": "stream",
          "name": "stderr",
          "text": [
            "\rDownloading all files:  98%|█████████▊| 161/165 [56:53<00:55, 13.92s/it]"
          ]
        },
        {
          "output_type": "stream",
          "name": "stdout",
          "text": [
            "Failed to download folder from 202_S33037634541_อภิรดา_มณีวรรณ, link: https://drive.google.com/file/d/1Q9JGNjgIhBFghH-uRFT6YgSAk3_lz4gZ/view?usp=drive_link — Cannot retrieve the folder information from the link. You may need to change the permission to 'Anyone with the link', or have had many accesses. Check FAQ in https://github.com/wkentaro/gdown?tab=readme-ov-file#faq.\n"
          ]
        },
        {
          "output_type": "stream",
          "name": "stderr",
          "text": [
            "\rDownloading all files:  98%|█████████▊| 162/165 [57:10<00:44, 14.78s/it]"
          ]
        },
        {
          "output_type": "stream",
          "name": "stdout",
          "text": [
            "Downloaded folder from 203_S10040276206_ชิษณุพงศ์_วิริยะศิริพงศ์กูล, link: https://drive.google.com/drive/folders/1l7f6PqIZfuDnwKHleS8oT5spyNeZV_sv\n"
          ]
        },
        {
          "output_type": "stream",
          "name": "stderr",
          "text": [
            "\rDownloading all files:  99%|█████████▉| 163/165 [57:10<00:21, 10.50s/it]"
          ]
        },
        {
          "output_type": "stream",
          "name": "stdout",
          "text": [
            "Failed to download folder from 204_S71045280722_โสรัชดาพักตร์_ผู้มีจรรยา, link: https://drive.google.com/drive/folders/1VL0mLZto72ILZc0TJb9sUYS5_v3exjlI — Cannot retrieve the folder information from the link. You may need to change the permission to 'Anyone with the link', or have had many accesses. Check FAQ in https://github.com/wkentaro/gdown?tab=readme-ov-file#faq.\n"
          ]
        },
        {
          "output_type": "stream",
          "name": "stderr",
          "text": [
            "\rDownloading all files:  99%|█████████▉| 164/165 [57:26<00:11, 11.99s/it]"
          ]
        },
        {
          "output_type": "stream",
          "name": "stdout",
          "text": [
            "Downloaded folder from 206_S61030586760_จิรัชญา_หะชะยัง, link: https://drive.google.com/drive/folders/1uhMYnSj83MEax0lmDJpDLuE1kzwZFCkH?usp=sharing\n"
          ]
        },
        {
          "output_type": "stream",
          "name": "stderr",
          "text": [
            "Downloading all files: 100%|██████████| 165/165 [57:27<00:00, 20.89s/it]"
          ]
        },
        {
          "output_type": "stream",
          "name": "stdout",
          "text": [
            "Failed to download folder from 207_S92042860378_แทนคุณ_นิลปักษี, link: https://www.youtube.com/watch?v=GZa3Vcc0Y9Y — Cannot retrieve the folder information from the link. You may need to change the permission to 'Anyone with the link', or have had many accesses. Check FAQ in https://github.com/wkentaro/gdown?tab=readme-ov-file#faq.\n"
          ]
        },
        {
          "output_type": "stream",
          "name": "stderr",
          "text": [
            "\n"
          ]
        }
      ],
      "source": [
        "import os\n",
        "import gdown\n",
        "from tqdm import tqdm\n",
        "import shutil\n",
        "\n",
        "os.makedirs(d_root, exist_ok=True)\n",
        "\n",
        "for fname, glink in tqdm(mapped_ls, desc=\"Downloading all files\"):\n",
        "    dest_folder = os.path.join(d_root, fname)\n",
        "    os.makedirs(dest_folder, exist_ok=True)\n",
        "\n",
        "    try:\n",
        "        gdown.download_folder(url=glink, output=dest_folder, quiet=True, use_cookies=False)\n",
        "        print(f\"Downloaded folder from {fname}, link: {glink}\")\n",
        "    except Exception as e:\n",
        "        print(f\"Failed to download folder from {fname}, link: {glink} — {e}\")\n",
        "\n"
      ]
    },
    {
      "cell_type": "code",
      "execution_count": null,
      "metadata": {
        "id": "TXd9vPx0YT9l"
      },
      "outputs": [],
      "source": []
    }
  ],
  "metadata": {
    "colab": {
      "provenance": [],
      "authorship_tag": "ABX9TyMKCN3mwzeeht3x7ARK0k1S",
      "include_colab_link": true
    },
    "kernelspec": {
      "display_name": "Python 3",
      "name": "python3"
    },
    "language_info": {
      "name": "python"
    }
  },
  "nbformat": 4,
  "nbformat_minor": 0
}